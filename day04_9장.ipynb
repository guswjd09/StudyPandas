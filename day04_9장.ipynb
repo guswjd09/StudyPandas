{
 "cells": [
  {
   "cell_type": "markdown",
   "id": "15d897e3-9375-4bcb-99b8-dec0b614bb4d",
   "metadata": {},
   "source": [
    "## 9-3 문자열 포매팅"
   ]
  },
  {
   "cell_type": "markdown",
   "id": "cfab5e9f-86e5-46a6-9b8b-a10a7bf75be2",
   "metadata": {},
   "source": [
    "#### 물건 가격을 입력받아서 가격을 출력, 천단위구분기호 넣어서 소수 2자리\n",
    "##### (f포맷팅을 이용해서 출력)"
   ]
  },
  {
   "cell_type": "code",
   "execution_count": 1,
   "id": "fa628751-3398-457e-a411-d283ec1c2825",
   "metadata": {},
   "outputs": [
    {
     "name": "stdin",
     "output_type": "stream",
     "text": [
      "가격을 입력하세요 : >> 35000\n"
     ]
    },
    {
     "name": "stdout",
     "output_type": "stream",
     "text": [
      "35,000.00\n"
     ]
    }
   ],
   "source": [
    "while True:\n",
    "    price = input('가격을 입력하세요 : >>')\n",
    "    if price.isdigit():\n",
    "        price = int(price)\n",
    "        break\n",
    "print(f'{price:,.2f}')"
   ]
  },
  {
   "cell_type": "markdown",
   "id": "d62a3c92-825e-47f9-951f-240f0fa9edc0",
   "metadata": {},
   "source": [
    "## 9-4 정규식으로 문자열 처리에 날개 달기"
   ]
  },
  {
   "cell_type": "code",
   "execution_count": 2,
   "id": "13cbb1c4-a57d-432e-bb96-a4683e10bcc2",
   "metadata": {},
   "outputs": [],
   "source": [
    "import re"
   ]
  },
  {
   "cell_type": "markdown",
   "id": "41d0f97e-aff5-4a8e-af2f-6340419550cf",
   "metadata": {},
   "source": [
    "#### 전화번호 입력 형식 : 숫자(2-3) - 숫자(3-4) - 숫자(4)\n",
    "#### 정확하게 입력될때 까지 반복하고 정확히 입력된 값은 출력해준다."
   ]
  },
  {
   "cell_type": "code",
   "execution_count": 3,
   "id": "d397e1f8-61f8-4e46-9e53-5e7bfbd7f913",
   "metadata": {},
   "outputs": [
    {
     "name": "stdin",
     "output_type": "stream",
     "text": [
      "전화번호를 입력하세요 : >> 010-123456-98546\n",
      "전화번호를 입력하세요 : >> 010-1234-5678\n"
     ]
    },
    {
     "name": "stdout",
     "output_type": "stream",
     "text": [
      "010-1234-5678\n"
     ]
    }
   ],
   "source": [
    "while True:\n",
    "    num = input('전화번호를 입력하세요 : >>')\n",
    "    if re.match('[0-9]{2,3}-[0-9]{3,4}-[0-9]{4}', num):\n",
    "                break\n",
    "print(num)"
   ]
  },
  {
   "cell_type": "code",
   "execution_count": 4,
   "id": "d860856d-77dc-498c-aa86-83e3fc7f3261",
   "metadata": {},
   "outputs": [
    {
     "name": "stdin",
     "output_type": "stream",
     "text": [
      "전화번호를 입력하세요 : >> 010-222-4444\n"
     ]
    },
    {
     "name": "stdout",
     "output_type": "stream",
     "text": [
      "010-222-4444\n"
     ]
    }
   ],
   "source": [
    "while True:\n",
    "    num = input('전화번호를 입력하세요 : >>')\n",
    "    p = '^[0-9]{2,3}-[0-9]{3,4}-[0-9]{4}'\n",
    "    result = re.search(p,num)\n",
    "    if result:\n",
    "        print(result.group())\n",
    "        break"
   ]
  },
  {
   "cell_type": "markdown",
   "id": "7b19bd20-9631-4faf-8008-0a439278361e",
   "metadata": {},
   "source": [
    "#### 이메일 입력 아이디는 최소 5글자 이상 \n",
    "#### 첫글자는 숫자,특수문자 안됨, 영어소문자,_,숫자만 가용가능\n",
    "#### 아이디@사이트주소 (예:naver.com, daum.net)"
   ]
  },
  {
   "cell_type": "code",
   "execution_count": 6,
   "id": "769e7d10-2549-4c30-b213-e558455d5735",
   "metadata": {},
   "outputs": [
    {
     "name": "stdin",
     "output_type": "stream",
     "text": [
      "e-mail >>> a1111@gmail.com\n"
     ]
    },
    {
     "name": "stdout",
     "output_type": "stream",
     "text": [
      "a1111@gmail.com\n"
     ]
    }
   ],
   "source": [
    "while True:\n",
    "    email = input('e-mail >>>')\n",
    "    p = '[a-z][a-z0-9_]{4,}@[a-z]{2,}[.][a-z]{2,}'        # 비워두면 제한을 두지 않겠다\n",
    "    patt = re.compile(p)\n",
    "    result = patt.match(email)\n",
    "    if result:\n",
    "        print(result.group())\n",
    "        break"
   ]
  },
  {
   "cell_type": "markdown",
   "id": "162a7862-62a4-4a77-b249-38206b579f14",
   "metadata": {},
   "source": [
    "#### 한글만 이름으로 입력"
   ]
  },
  {
   "cell_type": "code",
   "execution_count": 7,
   "id": "e0c40d42-665a-4ec5-b70a-fd25c4d4cdb2",
   "metadata": {},
   "outputs": [
    {
     "name": "stdin",
     "output_type": "stream",
     "text": [
      "한글이름 >>> 홍길동\n"
     ]
    },
    {
     "name": "stdout",
     "output_type": "stream",
     "text": [
      "홍길동\n"
     ]
    }
   ],
   "source": [
    "while True:\n",
    "    name = input('한글이름 >>>')\n",
    "    p = '[ㄱ-ㅣ가-힣]{2,}' \n",
    "    patt = re.compile(p)\n",
    "    result = patt.match(name)\n",
    "    if result:\n",
    "        print(result.group())\n",
    "        break"
   ]
  },
  {
   "cell_type": "code",
   "execution_count": 8,
   "id": "1569bced-c94f-47a4-aa61-c14d84d7b822",
   "metadata": {},
   "outputs": [
    {
     "name": "stdin",
     "output_type": "stream",
     "text": [
      "한글이름 >>> 홍\n",
      "한글이름 >>> hong\n",
      "한글이름 >>> hong길동\n",
      "한글이름 >>> ㅋㅋㅋ\n"
     ]
    },
    {
     "name": "stdout",
     "output_type": "stream",
     "text": [
      "ㅋㅋㅋ\n"
     ]
    }
   ],
   "source": [
    "while True:\n",
    "    name = input('한글이름 >>>')\n",
    "    p = '[ㄱ-ㅣ가-힣]{2,}' \n",
    "    patt = re.compile(p)\n",
    "    result = patt.match(name)\n",
    "    if result:\n",
    "        print(result.group())\n",
    "        break"
   ]
  },
  {
   "cell_type": "code",
   "execution_count": 9,
   "id": "eade47de-062f-4f15-9f96-520f27041ece",
   "metadata": {},
   "outputs": [
    {
     "name": "stdin",
     "output_type": "stream",
     "text": [
      "한글이름 >>> ㅋㅋㅋ\n",
      "한글이름 >>> ㅎㅎㅎ\n",
      "한글이름 >>> 크크크\n"
     ]
    },
    {
     "name": "stdout",
     "output_type": "stream",
     "text": [
      "크크크\n"
     ]
    }
   ],
   "source": [
    "while True:\n",
    "    name = input('한글이름 >>>')\n",
    "    p = '[가-힣]{2,}' \n",
    "    patt = re.compile(p)\n",
    "    result = patt.match(name)\n",
    "    if result:\n",
    "        print(result.group())\n",
    "        break"
   ]
  },
  {
   "cell_type": "markdown",
   "id": "a35538c2-cc20-4f76-855b-93290da425e3",
   "metadata": {},
   "source": []
  }
 ],
 "metadata": {
  "kernelspec": {
   "display_name": "Python 3 (ipykernel)",
   "language": "python",
   "name": "python3"
  },
  "language_info": {
   "codemirror_mode": {
    "name": "ipython",
    "version": 3
   },
   "file_extension": ".py",
   "mimetype": "text/x-python",
   "name": "python",
   "nbconvert_exporter": "python",
   "pygments_lexer": "ipython3",
   "version": "3.9.12"
  }
 },
 "nbformat": 4,
 "nbformat_minor": 5
}
