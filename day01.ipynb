{
 "cells": [
  {
   "cell_type": "code",
   "execution_count": 1,
   "id": "fa1bba62-10c4-4f0d-b946-0d1c4e994a6b",
   "metadata": {},
   "outputs": [],
   "source": [
    "import pandas as pd"
   ]
  },
  {
   "cell_type": "code",
   "execution_count": 2,
   "id": "78b12cba-0223-49db-9c1e-a7d7352def3f",
   "metadata": {},
   "outputs": [],
   "source": [
    "import numpy as np"
   ]
  },
  {
   "cell_type": "markdown",
   "id": "be852aff-a9d8-4606-b702-c20dae1bc3de",
   "metadata": {},
   "source": [
    "### serises\n",
    "* 같은 종류의 데이터 집합, 컬럼단위"
   ]
  },
  {
   "cell_type": "code",
   "execution_count": 3,
   "id": "9fbe33ee-ee31-4a58-8606-0b96aea9326b",
   "metadata": {},
   "outputs": [
    {
     "data": {
      "text/plain": [
       "0    1.0\n",
       "1    3.0\n",
       "2    5.0\n",
       "3    NaN\n",
       "4    6.0\n",
       "5    8.0\n",
       "dtype: float64"
      ]
     },
     "execution_count": 3,
     "metadata": {},
     "output_type": "execute_result"
    }
   ],
   "source": [
    "pd.Series([1,3,5,np.nan,6,8]) # 우선순위가 높은 데이터형식으로 나타남"
   ]
  },
  {
   "cell_type": "code",
   "execution_count": 4,
   "id": "36ab0253-7d3a-4e05-ae6b-2ba23639e265",
   "metadata": {},
   "outputs": [
    {
     "data": {
      "text/plain": [
       "0    1\n",
       "1    3\n",
       "2    5\n",
       "3    7\n",
       "4    6\n",
       "5    8\n",
       "dtype: int64"
      ]
     },
     "execution_count": 4,
     "metadata": {},
     "output_type": "execute_result"
    }
   ],
   "source": [
    "pd.Series([1,3,5,7,6,8])"
   ]
  },
  {
   "cell_type": "code",
   "execution_count": 5,
   "id": "bd7ec2a9-0968-41b8-9def-901615f569e0",
   "metadata": {},
   "outputs": [
    {
     "data": {
      "text/plain": [
       "0    1.0\n",
       "1    3.0\n",
       "2    5.0\n",
       "3    7.0\n",
       "4    6.0\n",
       "5    8.0\n",
       "dtype: float32"
      ]
     },
     "execution_count": 5,
     "metadata": {},
     "output_type": "execute_result"
    }
   ],
   "source": [
    "pd.Series([1,3,5,7,6,8],dtype=\"float32\") # 데이터 type을 float으로 나타내라"
   ]
  },
  {
   "cell_type": "code",
   "execution_count": 6,
   "id": "b7ff2413-ba1c-4e47-bf0a-393fc7f0fa78",
   "metadata": {},
   "outputs": [
    {
     "data": {
      "text/plain": [
       "0    1\n",
       "1    3\n",
       "2    5\n",
       "3    7\n",
       "4    6\n",
       "5    8\n",
       "dtype: object"
      ]
     },
     "execution_count": 6,
     "metadata": {},
     "output_type": "execute_result"
    }
   ],
   "source": [
    "pd.Series([1,3,'5',7,6,8]) # '5' 문자열"
   ]
  },
  {
   "cell_type": "code",
   "execution_count": 7,
   "id": "697274a8-cc9f-4b31-832f-4b1d9a7fbc9f",
   "metadata": {},
   "outputs": [
    {
     "data": {
      "text/plain": [
       "0    1.0\n",
       "1    3.0\n",
       "2      5\n",
       "3    0.7\n",
       "4    0.6\n",
       "5    0.8\n",
       "dtype: object"
      ]
     },
     "execution_count": 7,
     "metadata": {},
     "output_type": "execute_result"
    }
   ],
   "source": [
    "pd.Series([1.0,3.0,'5',0.7,0.6,0.8])"
   ]
  },
  {
   "cell_type": "code",
   "execution_count": 8,
   "id": "e1c5dae4-2039-42b5-bfc2-f7185ce766de",
   "metadata": {},
   "outputs": [],
   "source": [
    "dates = pd.date_range(\"20130101\", periods=6) # 6개 가져옴"
   ]
  },
  {
   "cell_type": "code",
   "execution_count": 9,
   "id": "52a2c83d-1a88-4f37-bf69-b59a57338a1f",
   "metadata": {},
   "outputs": [
    {
     "data": {
      "text/plain": [
       "DatetimeIndex(['2013-01-01', '2013-01-02', '2013-01-03', '2013-01-04',\n",
       "               '2013-01-05', '2013-01-06'],\n",
       "              dtype='datetime64[ns]', freq='D')"
      ]
     },
     "execution_count": 9,
     "metadata": {},
     "output_type": "execute_result"
    }
   ],
   "source": [
    "dates"
   ]
  },
  {
   "cell_type": "markdown",
   "id": "7ce713a3-cc4c-441e-8130-901f09765e50",
   "metadata": {},
   "source": [
    "### DataFrame"
   ]
  },
  {
   "cell_type": "markdown",
   "id": "d4d71161-715f-407e-a5cd-3e87e15d8fdb",
   "metadata": {},
   "source": [
    "##### index와 columns를 지정하지 않으면 자동으로 0부터 부여됨"
   ]
  },
  {
   "cell_type": "code",
   "execution_count": 10,
   "id": "3b05f3a3-db32-4b65-bcc3-09f4ca772d74",
   "metadata": {},
   "outputs": [
    {
     "data": {
      "text/html": [
       "<div>\n",
       "<style scoped>\n",
       "    .dataframe tbody tr th:only-of-type {\n",
       "        vertical-align: middle;\n",
       "    }\n",
       "\n",
       "    .dataframe tbody tr th {\n",
       "        vertical-align: top;\n",
       "    }\n",
       "\n",
       "    .dataframe thead th {\n",
       "        text-align: right;\n",
       "    }\n",
       "</style>\n",
       "<table border=\"1\" class=\"dataframe\">\n",
       "  <thead>\n",
       "    <tr style=\"text-align: right;\">\n",
       "      <th></th>\n",
       "      <th>A</th>\n",
       "      <th>B</th>\n",
       "      <th>C</th>\n",
       "      <th>D</th>\n",
       "    </tr>\n",
       "  </thead>\n",
       "  <tbody>\n",
       "    <tr>\n",
       "      <th>2013-01-01</th>\n",
       "      <td>0.015146</td>\n",
       "      <td>0.521620</td>\n",
       "      <td>-1.860627</td>\n",
       "      <td>0.631986</td>\n",
       "    </tr>\n",
       "    <tr>\n",
       "      <th>2013-01-02</th>\n",
       "      <td>0.224745</td>\n",
       "      <td>-0.256303</td>\n",
       "      <td>0.200182</td>\n",
       "      <td>0.306204</td>\n",
       "    </tr>\n",
       "    <tr>\n",
       "      <th>2013-01-03</th>\n",
       "      <td>0.102017</td>\n",
       "      <td>1.060643</td>\n",
       "      <td>1.102173</td>\n",
       "      <td>-0.874888</td>\n",
       "    </tr>\n",
       "    <tr>\n",
       "      <th>2013-01-04</th>\n",
       "      <td>0.888651</td>\n",
       "      <td>-0.322405</td>\n",
       "      <td>0.462230</td>\n",
       "      <td>-0.281922</td>\n",
       "    </tr>\n",
       "    <tr>\n",
       "      <th>2013-01-05</th>\n",
       "      <td>1.168602</td>\n",
       "      <td>-0.828311</td>\n",
       "      <td>0.475186</td>\n",
       "      <td>0.835094</td>\n",
       "    </tr>\n",
       "    <tr>\n",
       "      <th>2013-01-06</th>\n",
       "      <td>0.100933</td>\n",
       "      <td>0.130612</td>\n",
       "      <td>0.527105</td>\n",
       "      <td>-1.325787</td>\n",
       "    </tr>\n",
       "  </tbody>\n",
       "</table>\n",
       "</div>"
      ],
      "text/plain": [
       "                   A         B         C         D\n",
       "2013-01-01  0.015146  0.521620 -1.860627  0.631986\n",
       "2013-01-02  0.224745 -0.256303  0.200182  0.306204\n",
       "2013-01-03  0.102017  1.060643  1.102173 -0.874888\n",
       "2013-01-04  0.888651 -0.322405  0.462230 -0.281922\n",
       "2013-01-05  1.168602 -0.828311  0.475186  0.835094\n",
       "2013-01-06  0.100933  0.130612  0.527105 -1.325787"
      ]
     },
     "execution_count": 10,
     "metadata": {},
     "output_type": "execute_result"
    }
   ],
   "source": [
    "                         # 6행 4열\n",
    "pd.DataFrame(np.random.randn(6,4),\n",
    "             index=dates,\n",
    "             columns=list(\"ABCD\"))"
   ]
  },
  {
   "cell_type": "code",
   "execution_count": 11,
   "id": "d33c64aa-221f-4698-903a-e9b9acb2409e",
   "metadata": {},
   "outputs": [
    {
     "data": {
      "text/html": [
       "<div>\n",
       "<style scoped>\n",
       "    .dataframe tbody tr th:only-of-type {\n",
       "        vertical-align: middle;\n",
       "    }\n",
       "\n",
       "    .dataframe tbody tr th {\n",
       "        vertical-align: top;\n",
       "    }\n",
       "\n",
       "    .dataframe thead th {\n",
       "        text-align: right;\n",
       "    }\n",
       "</style>\n",
       "<table border=\"1\" class=\"dataframe\">\n",
       "  <thead>\n",
       "    <tr style=\"text-align: right;\">\n",
       "      <th></th>\n",
       "      <th>0</th>\n",
       "      <th>1</th>\n",
       "      <th>2</th>\n",
       "      <th>3</th>\n",
       "    </tr>\n",
       "  </thead>\n",
       "  <tbody>\n",
       "    <tr>\n",
       "      <th>0</th>\n",
       "      <td>1.179727</td>\n",
       "      <td>1.276085</td>\n",
       "      <td>-0.178089</td>\n",
       "      <td>2.461910</td>\n",
       "    </tr>\n",
       "    <tr>\n",
       "      <th>1</th>\n",
       "      <td>0.242890</td>\n",
       "      <td>-1.752916</td>\n",
       "      <td>0.383787</td>\n",
       "      <td>-0.701244</td>\n",
       "    </tr>\n",
       "    <tr>\n",
       "      <th>2</th>\n",
       "      <td>-0.307826</td>\n",
       "      <td>1.124392</td>\n",
       "      <td>0.524874</td>\n",
       "      <td>1.526668</td>\n",
       "    </tr>\n",
       "    <tr>\n",
       "      <th>3</th>\n",
       "      <td>-0.728427</td>\n",
       "      <td>-0.421436</td>\n",
       "      <td>-1.551234</td>\n",
       "      <td>0.848509</td>\n",
       "    </tr>\n",
       "    <tr>\n",
       "      <th>4</th>\n",
       "      <td>-0.335674</td>\n",
       "      <td>0.800361</td>\n",
       "      <td>-1.797453</td>\n",
       "      <td>-1.117060</td>\n",
       "    </tr>\n",
       "    <tr>\n",
       "      <th>5</th>\n",
       "      <td>0.354171</td>\n",
       "      <td>-2.214440</td>\n",
       "      <td>1.308766</td>\n",
       "      <td>-0.709735</td>\n",
       "    </tr>\n",
       "  </tbody>\n",
       "</table>\n",
       "</div>"
      ],
      "text/plain": [
       "          0         1         2         3\n",
       "0  1.179727  1.276085 -0.178089  2.461910\n",
       "1  0.242890 -1.752916  0.383787 -0.701244\n",
       "2 -0.307826  1.124392  0.524874  1.526668\n",
       "3 -0.728427 -0.421436 -1.551234  0.848509\n",
       "4 -0.335674  0.800361 -1.797453 -1.117060\n",
       "5  0.354171 -2.214440  1.308766 -0.709735"
      ]
     },
     "execution_count": 11,
     "metadata": {},
     "output_type": "execute_result"
    }
   ],
   "source": [
    "pd.DataFrame(np.random.randn(6,4))"
   ]
  },
  {
   "cell_type": "code",
   "execution_count": 12,
   "id": "a69530f4-ac9a-454e-b985-e287c946e5d4",
   "metadata": {},
   "outputs": [
    {
     "data": {
      "text/plain": [
       "['A', 'B', 'C', 'D']"
      ]
     },
     "execution_count": 12,
     "metadata": {},
     "output_type": "execute_result"
    }
   ],
   "source": [
    "list(\"ABCD\")"
   ]
  },
  {
   "cell_type": "markdown",
   "id": "1c2d6f40-276e-4e0a-96a1-6b6456b3e9c2",
   "metadata": {},
   "source": [
    "#### dictionary 형식"
   ]
  },
  {
   "cell_type": "code",
   "execution_count": 13,
   "id": "a1ba67a5-3c5d-4742-9ea5-cefcfcce870b",
   "metadata": {},
   "outputs": [
    {
     "data": {
      "text/html": [
       "<div>\n",
       "<style scoped>\n",
       "    .dataframe tbody tr th:only-of-type {\n",
       "        vertical-align: middle;\n",
       "    }\n",
       "\n",
       "    .dataframe tbody tr th {\n",
       "        vertical-align: top;\n",
       "    }\n",
       "\n",
       "    .dataframe thead th {\n",
       "        text-align: right;\n",
       "    }\n",
       "</style>\n",
       "<table border=\"1\" class=\"dataframe\">\n",
       "  <thead>\n",
       "    <tr style=\"text-align: right;\">\n",
       "      <th></th>\n",
       "      <th>A</th>\n",
       "      <th>B</th>\n",
       "      <th>C</th>\n",
       "      <th>D</th>\n",
       "      <th>E</th>\n",
       "      <th>F</th>\n",
       "    </tr>\n",
       "  </thead>\n",
       "  <tbody>\n",
       "    <tr>\n",
       "      <th>0</th>\n",
       "      <td>0.1</td>\n",
       "      <td>2013-01-02</td>\n",
       "      <td>1.0</td>\n",
       "      <td>3</td>\n",
       "      <td>test</td>\n",
       "      <td>foo</td>\n",
       "    </tr>\n",
       "    <tr>\n",
       "      <th>1</th>\n",
       "      <td>0.1</td>\n",
       "      <td>2013-01-02</td>\n",
       "      <td>1.0</td>\n",
       "      <td>3</td>\n",
       "      <td>train</td>\n",
       "      <td>foo</td>\n",
       "    </tr>\n",
       "    <tr>\n",
       "      <th>2</th>\n",
       "      <td>0.1</td>\n",
       "      <td>2013-01-02</td>\n",
       "      <td>1.0</td>\n",
       "      <td>3</td>\n",
       "      <td>test</td>\n",
       "      <td>foo</td>\n",
       "    </tr>\n",
       "    <tr>\n",
       "      <th>3</th>\n",
       "      <td>0.1</td>\n",
       "      <td>2013-01-02</td>\n",
       "      <td>1.0</td>\n",
       "      <td>3</td>\n",
       "      <td>train</td>\n",
       "      <td>foo</td>\n",
       "    </tr>\n",
       "  </tbody>\n",
       "</table>\n",
       "</div>"
      ],
      "text/plain": [
       "     A          B    C  D      E    F\n",
       "0  0.1 2013-01-02  1.0  3   test  foo\n",
       "1  0.1 2013-01-02  1.0  3  train  foo\n",
       "2  0.1 2013-01-02  1.0  3   test  foo\n",
       "3  0.1 2013-01-02  1.0  3  train  foo"
      ]
     },
     "execution_count": 13,
     "metadata": {},
     "output_type": "execute_result"
    }
   ],
   "source": [
    "pd.DataFrame(\n",
    "    {\n",
    "        \"A\":0.1,\n",
    "        \"B\":pd.Timestamp(\"20130102\"),\n",
    "        \"C\":pd.Series(1, index=list(range(4)), dtype=\"float32\"),\n",
    "        \"D\":np.array([3]*4, dtype=\"int32\"),\n",
    "        \"E\":pd.Categorical([\"test\",\"train\",\"test\", \"train\"]),\n",
    "        \"F\":\"foo\"\n",
    "    }\n",
    ")"
   ]
  },
  {
   "cell_type": "markdown",
   "id": "bef2a11f-adb1-4b81-a907-c3ad27a6955d",
   "metadata": {},
   "source": [
    "##### \"A\":0.1 -> 하나의 값만 주어진 경우, 그 값이 확장되어 입력됨\n",
    "##### \"A\":[0.1,0.2] -> 오류메시지가 나타남\n",
    "##### => 하나의 값만 입력하거나, DataFrame의 행 또는 열의 개수에 맞춰서 입력해야함"
   ]
  },
  {
   "cell_type": "code",
   "execution_count": 14,
   "id": "56db2b31-3d89-488a-856e-4c2345c68c3d",
   "metadata": {},
   "outputs": [],
   "source": [
    "df2 = pd.DataFrame(\n",
    "    {\n",
    "        \"A\":0.1,\n",
    "        \"B\":pd.Timestamp(\"20130102\"),\n",
    "        \"C\":pd.Series(1, index=list(range(4)), dtype=\"float32\"),\n",
    "        \"D\":np.array([3]*4, dtype=\"int32\"),\n",
    "        \"E\":pd.Categorical([\"test\",\"train\",\"test\", \"train\"]),\n",
    "        \"F\":\"foo\"\n",
    "    }\n",
    ")"
   ]
  },
  {
   "cell_type": "code",
   "execution_count": 15,
   "id": "dfa86410-bc49-4f69-a911-1b2bbc6d36d8",
   "metadata": {},
   "outputs": [
    {
     "data": {
      "text/plain": [
       "pandas.core.frame.DataFrame"
      ]
     },
     "execution_count": 15,
     "metadata": {},
     "output_type": "execute_result"
    }
   ],
   "source": [
    "type(df2)"
   ]
  },
  {
   "cell_type": "markdown",
   "id": "eed581b4-c057-4e57-8063-0601181e81df",
   "metadata": {},
   "source": [
    "### dtypes\n",
    "* 배열의 원소의 데이터type을 알 수 있음"
   ]
  },
  {
   "cell_type": "code",
   "execution_count": 16,
   "id": "4d4d14f8-3270-4498-93ff-434d2b7c06c3",
   "metadata": {},
   "outputs": [
    {
     "data": {
      "text/plain": [
       "A           float64\n",
       "B    datetime64[ns]\n",
       "C           float32\n",
       "D             int32\n",
       "E          category\n",
       "F            object\n",
       "dtype: object"
      ]
     },
     "execution_count": 16,
     "metadata": {},
     "output_type": "execute_result"
    }
   ],
   "source": [
    "df2.dtypes"
   ]
  },
  {
   "cell_type": "markdown",
   "id": "1cecdb5b-1045-4496-9365-1bb19339e440",
   "metadata": {},
   "source": [
    "### shape\n",
    "* 배열의 형태를 알려줌(n행,m열)"
   ]
  },
  {
   "cell_type": "code",
   "execution_count": 17,
   "id": "6f2309b9-8619-4b17-bc8e-1cc204f5c91c",
   "metadata": {},
   "outputs": [
    {
     "data": {
      "text/plain": [
       "(4, 6)"
      ]
     },
     "execution_count": 17,
     "metadata": {},
     "output_type": "execute_result"
    }
   ],
   "source": [
    "df2.shape"
   ]
  },
  {
   "cell_type": "markdown",
   "id": "d421dd28-c1ba-451e-bf95-41bf475cb99b",
   "metadata": {},
   "source": [
    "## ndim\n",
    "* 배열의 차원 수 or 배열의 축 수"
   ]
  },
  {
   "cell_type": "code",
   "execution_count": 18,
   "id": "4719596f-63a4-4253-a57a-a2fdd191921b",
   "metadata": {},
   "outputs": [
    {
     "data": {
      "text/plain": [
       "2"
      ]
     },
     "execution_count": 18,
     "metadata": {},
     "output_type": "execute_result"
    }
   ],
   "source": [
    "df2.ndim"
   ]
  },
  {
   "cell_type": "markdown",
   "id": "9ea882aa-5aa4-41b2-bb2c-fc5f939d98ce",
   "metadata": {},
   "source": [
    "### info\n",
    "* 데이터의 전반적인 정보를 보여주는 메소드"
   ]
  },
  {
   "cell_type": "code",
   "execution_count": 19,
   "id": "f197d592-30d1-42fc-bc65-79c61d52e8dc",
   "metadata": {},
   "outputs": [
    {
     "name": "stdout",
     "output_type": "stream",
     "text": [
      "<class 'pandas.core.frame.DataFrame'>\n",
      "Int64Index: 4 entries, 0 to 3\n",
      "Data columns (total 6 columns):\n",
      " #   Column  Non-Null Count  Dtype         \n",
      "---  ------  --------------  -----         \n",
      " 0   A       4 non-null      float64       \n",
      " 1   B       4 non-null      datetime64[ns]\n",
      " 2   C       4 non-null      float32       \n",
      " 3   D       4 non-null      int32         \n",
      " 4   E       4 non-null      category      \n",
      " 5   F       4 non-null      object        \n",
      "dtypes: category(1), datetime64[ns](1), float32(1), float64(1), int32(1), object(1)\n",
      "memory usage: 288.0+ bytes\n"
     ]
    }
   ],
   "source": [
    "df2.info()"
   ]
  },
  {
   "cell_type": "markdown",
   "id": "183bfab9-0db7-42c2-8d64-97833bfe178b",
   "metadata": {},
   "source": [
    "### head & tail\n",
    "* 상단부분, 하단부분만 출력"
   ]
  },
  {
   "cell_type": "code",
   "execution_count": 20,
   "id": "ab375772-b669-42b7-9d24-dffeb0c19756",
   "metadata": {},
   "outputs": [
    {
     "data": {
      "text/html": [
       "<div>\n",
       "<style scoped>\n",
       "    .dataframe tbody tr th:only-of-type {\n",
       "        vertical-align: middle;\n",
       "    }\n",
       "\n",
       "    .dataframe tbody tr th {\n",
       "        vertical-align: top;\n",
       "    }\n",
       "\n",
       "    .dataframe thead th {\n",
       "        text-align: right;\n",
       "    }\n",
       "</style>\n",
       "<table border=\"1\" class=\"dataframe\">\n",
       "  <thead>\n",
       "    <tr style=\"text-align: right;\">\n",
       "      <th></th>\n",
       "      <th>A</th>\n",
       "      <th>B</th>\n",
       "      <th>C</th>\n",
       "      <th>D</th>\n",
       "      <th>E</th>\n",
       "      <th>F</th>\n",
       "    </tr>\n",
       "  </thead>\n",
       "  <tbody>\n",
       "    <tr>\n",
       "      <th>0</th>\n",
       "      <td>0.1</td>\n",
       "      <td>2013-01-02</td>\n",
       "      <td>1.0</td>\n",
       "      <td>3</td>\n",
       "      <td>test</td>\n",
       "      <td>foo</td>\n",
       "    </tr>\n",
       "    <tr>\n",
       "      <th>1</th>\n",
       "      <td>0.1</td>\n",
       "      <td>2013-01-02</td>\n",
       "      <td>1.0</td>\n",
       "      <td>3</td>\n",
       "      <td>train</td>\n",
       "      <td>foo</td>\n",
       "    </tr>\n",
       "  </tbody>\n",
       "</table>\n",
       "</div>"
      ],
      "text/plain": [
       "     A          B    C  D      E    F\n",
       "0  0.1 2013-01-02  1.0  3   test  foo\n",
       "1  0.1 2013-01-02  1.0  3  train  foo"
      ]
     },
     "execution_count": 20,
     "metadata": {},
     "output_type": "execute_result"
    }
   ],
   "source": [
    "df2.head(2)"
   ]
  },
  {
   "cell_type": "code",
   "execution_count": 21,
   "id": "c8276f07-4fd4-4f92-81b8-fbb4851b745c",
   "metadata": {},
   "outputs": [
    {
     "data": {
      "text/html": [
       "<div>\n",
       "<style scoped>\n",
       "    .dataframe tbody tr th:only-of-type {\n",
       "        vertical-align: middle;\n",
       "    }\n",
       "\n",
       "    .dataframe tbody tr th {\n",
       "        vertical-align: top;\n",
       "    }\n",
       "\n",
       "    .dataframe thead th {\n",
       "        text-align: right;\n",
       "    }\n",
       "</style>\n",
       "<table border=\"1\" class=\"dataframe\">\n",
       "  <thead>\n",
       "    <tr style=\"text-align: right;\">\n",
       "      <th></th>\n",
       "      <th>A</th>\n",
       "      <th>B</th>\n",
       "      <th>C</th>\n",
       "      <th>D</th>\n",
       "      <th>E</th>\n",
       "      <th>F</th>\n",
       "    </tr>\n",
       "  </thead>\n",
       "  <tbody>\n",
       "    <tr>\n",
       "      <th>2</th>\n",
       "      <td>0.1</td>\n",
       "      <td>2013-01-02</td>\n",
       "      <td>1.0</td>\n",
       "      <td>3</td>\n",
       "      <td>test</td>\n",
       "      <td>foo</td>\n",
       "    </tr>\n",
       "    <tr>\n",
       "      <th>3</th>\n",
       "      <td>0.1</td>\n",
       "      <td>2013-01-02</td>\n",
       "      <td>1.0</td>\n",
       "      <td>3</td>\n",
       "      <td>train</td>\n",
       "      <td>foo</td>\n",
       "    </tr>\n",
       "  </tbody>\n",
       "</table>\n",
       "</div>"
      ],
      "text/plain": [
       "     A          B    C  D      E    F\n",
       "2  0.1 2013-01-02  1.0  3   test  foo\n",
       "3  0.1 2013-01-02  1.0  3  train  foo"
      ]
     },
     "execution_count": 21,
     "metadata": {},
     "output_type": "execute_result"
    }
   ],
   "source": [
    "df2.tail(2)"
   ]
  },
  {
   "cell_type": "markdown",
   "id": "902d6f74-c76a-4181-b160-fd94b6c37c6c",
   "metadata": {},
   "source": [
    "### sample\n",
    "* 무작위로 기본 값 가져옴"
   ]
  },
  {
   "cell_type": "code",
   "execution_count": 22,
   "id": "12deb77a-fd2e-4207-b44e-0144519dcd92",
   "metadata": {},
   "outputs": [
    {
     "data": {
      "text/html": [
       "<div>\n",
       "<style scoped>\n",
       "    .dataframe tbody tr th:only-of-type {\n",
       "        vertical-align: middle;\n",
       "    }\n",
       "\n",
       "    .dataframe tbody tr th {\n",
       "        vertical-align: top;\n",
       "    }\n",
       "\n",
       "    .dataframe thead th {\n",
       "        text-align: right;\n",
       "    }\n",
       "</style>\n",
       "<table border=\"1\" class=\"dataframe\">\n",
       "  <thead>\n",
       "    <tr style=\"text-align: right;\">\n",
       "      <th></th>\n",
       "      <th>A</th>\n",
       "      <th>B</th>\n",
       "      <th>C</th>\n",
       "      <th>D</th>\n",
       "      <th>E</th>\n",
       "      <th>F</th>\n",
       "    </tr>\n",
       "  </thead>\n",
       "  <tbody>\n",
       "    <tr>\n",
       "      <th>3</th>\n",
       "      <td>0.1</td>\n",
       "      <td>2013-01-02</td>\n",
       "      <td>1.0</td>\n",
       "      <td>3</td>\n",
       "      <td>train</td>\n",
       "      <td>foo</td>\n",
       "    </tr>\n",
       "    <tr>\n",
       "      <th>0</th>\n",
       "      <td>0.1</td>\n",
       "      <td>2013-01-02</td>\n",
       "      <td>1.0</td>\n",
       "      <td>3</td>\n",
       "      <td>test</td>\n",
       "      <td>foo</td>\n",
       "    </tr>\n",
       "  </tbody>\n",
       "</table>\n",
       "</div>"
      ],
      "text/plain": [
       "     A          B    C  D      E    F\n",
       "3  0.1 2013-01-02  1.0  3  train  foo\n",
       "0  0.1 2013-01-02  1.0  3   test  foo"
      ]
     },
     "execution_count": 22,
     "metadata": {},
     "output_type": "execute_result"
    }
   ],
   "source": [
    "df2.sample(2)"
   ]
  },
  {
   "cell_type": "code",
   "execution_count": 23,
   "id": "b8db3740-77dd-4a5c-aaf4-8565d16e64ad",
   "metadata": {},
   "outputs": [
    {
     "data": {
      "text/html": [
       "<div>\n",
       "<style scoped>\n",
       "    .dataframe tbody tr th:only-of-type {\n",
       "        vertical-align: middle;\n",
       "    }\n",
       "\n",
       "    .dataframe tbody tr th {\n",
       "        vertical-align: top;\n",
       "    }\n",
       "\n",
       "    .dataframe thead th {\n",
       "        text-align: right;\n",
       "    }\n",
       "</style>\n",
       "<table border=\"1\" class=\"dataframe\">\n",
       "  <thead>\n",
       "    <tr style=\"text-align: right;\">\n",
       "      <th></th>\n",
       "      <th>A</th>\n",
       "      <th>B</th>\n",
       "      <th>C</th>\n",
       "      <th>D</th>\n",
       "      <th>E</th>\n",
       "      <th>F</th>\n",
       "    </tr>\n",
       "  </thead>\n",
       "  <tbody>\n",
       "    <tr>\n",
       "      <th>1</th>\n",
       "      <td>0.1</td>\n",
       "      <td>2013-01-02</td>\n",
       "      <td>1.0</td>\n",
       "      <td>3</td>\n",
       "      <td>train</td>\n",
       "      <td>foo</td>\n",
       "    </tr>\n",
       "    <tr>\n",
       "      <th>0</th>\n",
       "      <td>0.1</td>\n",
       "      <td>2013-01-02</td>\n",
       "      <td>1.0</td>\n",
       "      <td>3</td>\n",
       "      <td>test</td>\n",
       "      <td>foo</td>\n",
       "    </tr>\n",
       "    <tr>\n",
       "      <th>3</th>\n",
       "      <td>0.1</td>\n",
       "      <td>2013-01-02</td>\n",
       "      <td>1.0</td>\n",
       "      <td>3</td>\n",
       "      <td>train</td>\n",
       "      <td>foo</td>\n",
       "    </tr>\n",
       "  </tbody>\n",
       "</table>\n",
       "</div>"
      ],
      "text/plain": [
       "     A          B    C  D      E    F\n",
       "1  0.1 2013-01-02  1.0  3  train  foo\n",
       "0  0.1 2013-01-02  1.0  3   test  foo\n",
       "3  0.1 2013-01-02  1.0  3  train  foo"
      ]
     },
     "execution_count": 23,
     "metadata": {},
     "output_type": "execute_result"
    }
   ],
   "source": [
    "df2.sample(3)"
   ]
  },
  {
   "cell_type": "markdown",
   "id": "043e6847-d03e-4063-a4cc-d15ff5ae59bb",
   "metadata": {},
   "source": [
    "### index"
   ]
  },
  {
   "cell_type": "code",
   "execution_count": 24,
   "id": "588c8610-62bc-4f47-bca4-a6b5cb668cb6",
   "metadata": {},
   "outputs": [
    {
     "data": {
      "text/plain": [
       "Int64Index([0, 1, 2, 3], dtype='int64')"
      ]
     },
     "execution_count": 24,
     "metadata": {},
     "output_type": "execute_result"
    }
   ],
   "source": [
    "df2.index"
   ]
  },
  {
   "cell_type": "markdown",
   "id": "bc091f46-d709-427a-861b-4a272c199b7f",
   "metadata": {},
   "source": [
    "### columns"
   ]
  },
  {
   "cell_type": "code",
   "execution_count": 25,
   "id": "1e479b8d-0646-4b4f-a199-e9a4b7bbc96d",
   "metadata": {},
   "outputs": [
    {
     "data": {
      "text/plain": [
       "Index(['A', 'B', 'C', 'D', 'E', 'F'], dtype='object')"
      ]
     },
     "execution_count": 25,
     "metadata": {},
     "output_type": "execute_result"
    }
   ],
   "source": [
    "df2.columns"
   ]
  },
  {
   "cell_type": "markdown",
   "id": "1dd2d0bb-2af3-4669-927e-31fda4c76310",
   "metadata": {},
   "source": [
    "### values\n",
    "* 행 단위로 나타남"
   ]
  },
  {
   "cell_type": "code",
   "execution_count": 26,
   "id": "0f17021a-b7be-449d-a234-4a2019555705",
   "metadata": {},
   "outputs": [
    {
     "data": {
      "text/plain": [
       "array([[0.1, Timestamp('2013-01-02 00:00:00'), 1.0, 3, 'test', 'foo'],\n",
       "       [0.1, Timestamp('2013-01-02 00:00:00'), 1.0, 3, 'train', 'foo'],\n",
       "       [0.1, Timestamp('2013-01-02 00:00:00'), 1.0, 3, 'test', 'foo'],\n",
       "       [0.1, Timestamp('2013-01-02 00:00:00'), 1.0, 3, 'train', 'foo']],\n",
       "      dtype=object)"
      ]
     },
     "execution_count": 26,
     "metadata": {},
     "output_type": "execute_result"
    }
   ],
   "source": [
    "df2.values"
   ]
  },
  {
   "cell_type": "code",
   "execution_count": 27,
   "id": "d04e9bdd-b308-429d-9074-93d76f9fcbb7",
   "metadata": {},
   "outputs": [
    {
     "data": {
      "text/plain": [
       "pandas.core.indexes.numeric.Int64Index"
      ]
     },
     "execution_count": 27,
     "metadata": {},
     "output_type": "execute_result"
    }
   ],
   "source": [
    "type(df2.index)"
   ]
  },
  {
   "cell_type": "code",
   "execution_count": 28,
   "id": "89289a66-e6b6-4d09-b132-97f8fbae3857",
   "metadata": {},
   "outputs": [
    {
     "data": {
      "text/plain": [
       "pandas.core.indexes.base.Index"
      ]
     },
     "execution_count": 28,
     "metadata": {},
     "output_type": "execute_result"
    }
   ],
   "source": [
    "type(df2.columns)"
   ]
  },
  {
   "cell_type": "code",
   "execution_count": 29,
   "id": "56da340e-eff7-4dc1-b33a-158c18766d41",
   "metadata": {},
   "outputs": [
    {
     "data": {
      "text/plain": [
       "numpy.ndarray"
      ]
     },
     "execution_count": 29,
     "metadata": {},
     "output_type": "execute_result"
    }
   ],
   "source": [
    "type(df2.values)"
   ]
  },
  {
   "cell_type": "markdown",
   "id": "fcd84968-a0af-4bed-919c-1b4945efc83d",
   "metadata": {},
   "source": [
    "### to_numpy\n",
    "* columns 순서 변경 기능"
   ]
  },
  {
   "cell_type": "code",
   "execution_count": 30,
   "id": "620ea984-67a2-4291-954a-7e8251a0596f",
   "metadata": {},
   "outputs": [
    {
     "data": {
      "text/plain": [
       "array([[0.1, Timestamp('2013-01-02 00:00:00'), 1.0, 3, 'test', 'foo'],\n",
       "       [0.1, Timestamp('2013-01-02 00:00:00'), 1.0, 3, 'train', 'foo'],\n",
       "       [0.1, Timestamp('2013-01-02 00:00:00'), 1.0, 3, 'test', 'foo'],\n",
       "       [0.1, Timestamp('2013-01-02 00:00:00'), 1.0, 3, 'train', 'foo']],\n",
       "      dtype=object)"
      ]
     },
     "execution_count": 30,
     "metadata": {},
     "output_type": "execute_result"
    }
   ],
   "source": [
    "df2.to_numpy()"
   ]
  },
  {
   "cell_type": "code",
   "execution_count": 31,
   "id": "29daa556-53f8-4477-8e17-7289c424dd5b",
   "metadata": {},
   "outputs": [],
   "source": [
    "df = pd.DataFrame(np.random.randn(6,4),\n",
    "                  index=dates,\n",
    "                  columns=list('ABCD'))"
   ]
  },
  {
   "cell_type": "code",
   "execution_count": 32,
   "id": "87315c36-00d0-4255-80e3-7f2199ee7177",
   "metadata": {},
   "outputs": [
    {
     "data": {
      "text/html": [
       "<div>\n",
       "<style scoped>\n",
       "    .dataframe tbody tr th:only-of-type {\n",
       "        vertical-align: middle;\n",
       "    }\n",
       "\n",
       "    .dataframe tbody tr th {\n",
       "        vertical-align: top;\n",
       "    }\n",
       "\n",
       "    .dataframe thead th {\n",
       "        text-align: right;\n",
       "    }\n",
       "</style>\n",
       "<table border=\"1\" class=\"dataframe\">\n",
       "  <thead>\n",
       "    <tr style=\"text-align: right;\">\n",
       "      <th></th>\n",
       "      <th>A</th>\n",
       "      <th>B</th>\n",
       "      <th>C</th>\n",
       "      <th>D</th>\n",
       "    </tr>\n",
       "  </thead>\n",
       "  <tbody>\n",
       "    <tr>\n",
       "      <th>2013-01-01</th>\n",
       "      <td>-0.438307</td>\n",
       "      <td>-1.357128</td>\n",
       "      <td>-1.539730</td>\n",
       "      <td>-1.177602</td>\n",
       "    </tr>\n",
       "    <tr>\n",
       "      <th>2013-01-02</th>\n",
       "      <td>-0.509621</td>\n",
       "      <td>-0.335400</td>\n",
       "      <td>-0.297319</td>\n",
       "      <td>-1.151909</td>\n",
       "    </tr>\n",
       "    <tr>\n",
       "      <th>2013-01-03</th>\n",
       "      <td>0.086955</td>\n",
       "      <td>-0.229214</td>\n",
       "      <td>-1.445995</td>\n",
       "      <td>0.975162</td>\n",
       "    </tr>\n",
       "    <tr>\n",
       "      <th>2013-01-04</th>\n",
       "      <td>1.627132</td>\n",
       "      <td>0.123275</td>\n",
       "      <td>1.134978</td>\n",
       "      <td>-1.032749</td>\n",
       "    </tr>\n",
       "    <tr>\n",
       "      <th>2013-01-05</th>\n",
       "      <td>-1.173974</td>\n",
       "      <td>-0.092968</td>\n",
       "      <td>1.943073</td>\n",
       "      <td>1.290428</td>\n",
       "    </tr>\n",
       "    <tr>\n",
       "      <th>2013-01-06</th>\n",
       "      <td>0.182393</td>\n",
       "      <td>-0.398206</td>\n",
       "      <td>-0.171601</td>\n",
       "      <td>-0.160129</td>\n",
       "    </tr>\n",
       "  </tbody>\n",
       "</table>\n",
       "</div>"
      ],
      "text/plain": [
       "                   A         B         C         D\n",
       "2013-01-01 -0.438307 -1.357128 -1.539730 -1.177602\n",
       "2013-01-02 -0.509621 -0.335400 -0.297319 -1.151909\n",
       "2013-01-03  0.086955 -0.229214 -1.445995  0.975162\n",
       "2013-01-04  1.627132  0.123275  1.134978 -1.032749\n",
       "2013-01-05 -1.173974 -0.092968  1.943073  1.290428\n",
       "2013-01-06  0.182393 -0.398206 -0.171601 -0.160129"
      ]
     },
     "execution_count": 32,
     "metadata": {},
     "output_type": "execute_result"
    }
   ],
   "source": [
    "df"
   ]
  },
  {
   "cell_type": "markdown",
   "id": "34a2803b-4aa8-4388-b331-1d2d0935d66d",
   "metadata": {},
   "source": [
    "### describe\n",
    "* 각 열에 대한 요약 통계"
   ]
  },
  {
   "cell_type": "code",
   "execution_count": 33,
   "id": "c6848a78-86c8-4684-875c-b2b1b8b9e697",
   "metadata": {},
   "outputs": [
    {
     "data": {
      "text/html": [
       "<div>\n",
       "<style scoped>\n",
       "    .dataframe tbody tr th:only-of-type {\n",
       "        vertical-align: middle;\n",
       "    }\n",
       "\n",
       "    .dataframe tbody tr th {\n",
       "        vertical-align: top;\n",
       "    }\n",
       "\n",
       "    .dataframe thead th {\n",
       "        text-align: right;\n",
       "    }\n",
       "</style>\n",
       "<table border=\"1\" class=\"dataframe\">\n",
       "  <thead>\n",
       "    <tr style=\"text-align: right;\">\n",
       "      <th></th>\n",
       "      <th>A</th>\n",
       "      <th>B</th>\n",
       "      <th>C</th>\n",
       "      <th>D</th>\n",
       "    </tr>\n",
       "  </thead>\n",
       "  <tbody>\n",
       "    <tr>\n",
       "      <th>count</th>\n",
       "      <td>6.000000</td>\n",
       "      <td>6.000000</td>\n",
       "      <td>6.000000</td>\n",
       "      <td>6.000000</td>\n",
       "    </tr>\n",
       "    <tr>\n",
       "      <th>mean</th>\n",
       "      <td>-0.037570</td>\n",
       "      <td>-0.381607</td>\n",
       "      <td>-0.062766</td>\n",
       "      <td>-0.209467</td>\n",
       "    </tr>\n",
       "    <tr>\n",
       "      <th>std</th>\n",
       "      <td>0.949733</td>\n",
       "      <td>0.512931</td>\n",
       "      <td>1.387053</td>\n",
       "      <td>1.109842</td>\n",
       "    </tr>\n",
       "    <tr>\n",
       "      <th>min</th>\n",
       "      <td>-1.173974</td>\n",
       "      <td>-1.357128</td>\n",
       "      <td>-1.539730</td>\n",
       "      <td>-1.177602</td>\n",
       "    </tr>\n",
       "    <tr>\n",
       "      <th>25%</th>\n",
       "      <td>-0.491792</td>\n",
       "      <td>-0.382505</td>\n",
       "      <td>-1.158826</td>\n",
       "      <td>-1.122119</td>\n",
       "    </tr>\n",
       "    <tr>\n",
       "      <th>50%</th>\n",
       "      <td>-0.175676</td>\n",
       "      <td>-0.282307</td>\n",
       "      <td>-0.234460</td>\n",
       "      <td>-0.596439</td>\n",
       "    </tr>\n",
       "    <tr>\n",
       "      <th>75%</th>\n",
       "      <td>0.158534</td>\n",
       "      <td>-0.127029</td>\n",
       "      <td>0.808333</td>\n",
       "      <td>0.691339</td>\n",
       "    </tr>\n",
       "    <tr>\n",
       "      <th>max</th>\n",
       "      <td>1.627132</td>\n",
       "      <td>0.123275</td>\n",
       "      <td>1.943073</td>\n",
       "      <td>1.290428</td>\n",
       "    </tr>\n",
       "  </tbody>\n",
       "</table>\n",
       "</div>"
      ],
      "text/plain": [
       "              A         B         C         D\n",
       "count  6.000000  6.000000  6.000000  6.000000\n",
       "mean  -0.037570 -0.381607 -0.062766 -0.209467\n",
       "std    0.949733  0.512931  1.387053  1.109842\n",
       "min   -1.173974 -1.357128 -1.539730 -1.177602\n",
       "25%   -0.491792 -0.382505 -1.158826 -1.122119\n",
       "50%   -0.175676 -0.282307 -0.234460 -0.596439\n",
       "75%    0.158534 -0.127029  0.808333  0.691339\n",
       "max    1.627132  0.123275  1.943073  1.290428"
      ]
     },
     "execution_count": 33,
     "metadata": {},
     "output_type": "execute_result"
    }
   ],
   "source": [
    "df.describe()"
   ]
  },
  {
   "cell_type": "code",
   "execution_count": 34,
   "id": "853928b1-9c47-47b3-8296-ef3de6bf6be9",
   "metadata": {},
   "outputs": [
    {
     "data": {
      "text/html": [
       "<div>\n",
       "<style scoped>\n",
       "    .dataframe tbody tr th:only-of-type {\n",
       "        vertical-align: middle;\n",
       "    }\n",
       "\n",
       "    .dataframe tbody tr th {\n",
       "        vertical-align: top;\n",
       "    }\n",
       "\n",
       "    .dataframe thead th {\n",
       "        text-align: right;\n",
       "    }\n",
       "</style>\n",
       "<table border=\"1\" class=\"dataframe\">\n",
       "  <thead>\n",
       "    <tr style=\"text-align: right;\">\n",
       "      <th></th>\n",
       "      <th>A</th>\n",
       "      <th>C</th>\n",
       "      <th>D</th>\n",
       "    </tr>\n",
       "  </thead>\n",
       "  <tbody>\n",
       "    <tr>\n",
       "      <th>count</th>\n",
       "      <td>4.0</td>\n",
       "      <td>4.0</td>\n",
       "      <td>4.0</td>\n",
       "    </tr>\n",
       "    <tr>\n",
       "      <th>mean</th>\n",
       "      <td>0.1</td>\n",
       "      <td>1.0</td>\n",
       "      <td>3.0</td>\n",
       "    </tr>\n",
       "    <tr>\n",
       "      <th>std</th>\n",
       "      <td>0.0</td>\n",
       "      <td>0.0</td>\n",
       "      <td>0.0</td>\n",
       "    </tr>\n",
       "    <tr>\n",
       "      <th>min</th>\n",
       "      <td>0.1</td>\n",
       "      <td>1.0</td>\n",
       "      <td>3.0</td>\n",
       "    </tr>\n",
       "    <tr>\n",
       "      <th>25%</th>\n",
       "      <td>0.1</td>\n",
       "      <td>1.0</td>\n",
       "      <td>3.0</td>\n",
       "    </tr>\n",
       "    <tr>\n",
       "      <th>50%</th>\n",
       "      <td>0.1</td>\n",
       "      <td>1.0</td>\n",
       "      <td>3.0</td>\n",
       "    </tr>\n",
       "    <tr>\n",
       "      <th>75%</th>\n",
       "      <td>0.1</td>\n",
       "      <td>1.0</td>\n",
       "      <td>3.0</td>\n",
       "    </tr>\n",
       "    <tr>\n",
       "      <th>max</th>\n",
       "      <td>0.1</td>\n",
       "      <td>1.0</td>\n",
       "      <td>3.0</td>\n",
       "    </tr>\n",
       "  </tbody>\n",
       "</table>\n",
       "</div>"
      ],
      "text/plain": [
       "         A    C    D\n",
       "count  4.0  4.0  4.0\n",
       "mean   0.1  1.0  3.0\n",
       "std    0.0  0.0  0.0\n",
       "min    0.1  1.0  3.0\n",
       "25%    0.1  1.0  3.0\n",
       "50%    0.1  1.0  3.0\n",
       "75%    0.1  1.0  3.0\n",
       "max    0.1  1.0  3.0"
      ]
     },
     "execution_count": 34,
     "metadata": {},
     "output_type": "execute_result"
    }
   ],
   "source": [
    "df2.describe()"
   ]
  },
  {
   "cell_type": "markdown",
   "id": "944e7614-f592-4066-b52e-242502c8ba81",
   "metadata": {},
   "source": [
    "### transpose\n",
    "* 행과 열의 자리 바꿈"
   ]
  },
  {
   "cell_type": "code",
   "execution_count": 35,
   "id": "d4ced18e-4b3a-4388-912c-ad79a234a835",
   "metadata": {},
   "outputs": [
    {
     "data": {
      "text/html": [
       "<div>\n",
       "<style scoped>\n",
       "    .dataframe tbody tr th:only-of-type {\n",
       "        vertical-align: middle;\n",
       "    }\n",
       "\n",
       "    .dataframe tbody tr th {\n",
       "        vertical-align: top;\n",
       "    }\n",
       "\n",
       "    .dataframe thead th {\n",
       "        text-align: right;\n",
       "    }\n",
       "</style>\n",
       "<table border=\"1\" class=\"dataframe\">\n",
       "  <thead>\n",
       "    <tr style=\"text-align: right;\">\n",
       "      <th></th>\n",
       "      <th>2013-01-01</th>\n",
       "      <th>2013-01-02</th>\n",
       "      <th>2013-01-03</th>\n",
       "      <th>2013-01-04</th>\n",
       "      <th>2013-01-05</th>\n",
       "      <th>2013-01-06</th>\n",
       "    </tr>\n",
       "  </thead>\n",
       "  <tbody>\n",
       "    <tr>\n",
       "      <th>A</th>\n",
       "      <td>-0.438307</td>\n",
       "      <td>-0.509621</td>\n",
       "      <td>0.086955</td>\n",
       "      <td>1.627132</td>\n",
       "      <td>-1.173974</td>\n",
       "      <td>0.182393</td>\n",
       "    </tr>\n",
       "    <tr>\n",
       "      <th>B</th>\n",
       "      <td>-1.357128</td>\n",
       "      <td>-0.335400</td>\n",
       "      <td>-0.229214</td>\n",
       "      <td>0.123275</td>\n",
       "      <td>-0.092968</td>\n",
       "      <td>-0.398206</td>\n",
       "    </tr>\n",
       "    <tr>\n",
       "      <th>C</th>\n",
       "      <td>-1.539730</td>\n",
       "      <td>-0.297319</td>\n",
       "      <td>-1.445995</td>\n",
       "      <td>1.134978</td>\n",
       "      <td>1.943073</td>\n",
       "      <td>-0.171601</td>\n",
       "    </tr>\n",
       "    <tr>\n",
       "      <th>D</th>\n",
       "      <td>-1.177602</td>\n",
       "      <td>-1.151909</td>\n",
       "      <td>0.975162</td>\n",
       "      <td>-1.032749</td>\n",
       "      <td>1.290428</td>\n",
       "      <td>-0.160129</td>\n",
       "    </tr>\n",
       "  </tbody>\n",
       "</table>\n",
       "</div>"
      ],
      "text/plain": [
       "   2013-01-01  2013-01-02  2013-01-03  2013-01-04  2013-01-05  2013-01-06\n",
       "A   -0.438307   -0.509621    0.086955    1.627132   -1.173974    0.182393\n",
       "B   -1.357128   -0.335400   -0.229214    0.123275   -0.092968   -0.398206\n",
       "C   -1.539730   -0.297319   -1.445995    1.134978    1.943073   -0.171601\n",
       "D   -1.177602   -1.151909    0.975162   -1.032749    1.290428   -0.160129"
      ]
     },
     "execution_count": 35,
     "metadata": {},
     "output_type": "execute_result"
    }
   ],
   "source": [
    "df.T"
   ]
  },
  {
   "cell_type": "code",
   "execution_count": 36,
   "id": "079a2a98-baa9-46ff-bfcf-28469007b66f",
   "metadata": {},
   "outputs": [
    {
     "data": {
      "text/html": [
       "<div>\n",
       "<style scoped>\n",
       "    .dataframe tbody tr th:only-of-type {\n",
       "        vertical-align: middle;\n",
       "    }\n",
       "\n",
       "    .dataframe tbody tr th {\n",
       "        vertical-align: top;\n",
       "    }\n",
       "\n",
       "    .dataframe thead th {\n",
       "        text-align: right;\n",
       "    }\n",
       "</style>\n",
       "<table border=\"1\" class=\"dataframe\">\n",
       "  <thead>\n",
       "    <tr style=\"text-align: right;\">\n",
       "      <th></th>\n",
       "      <th>2013-01-01</th>\n",
       "      <th>2013-01-02</th>\n",
       "      <th>2013-01-03</th>\n",
       "      <th>2013-01-04</th>\n",
       "      <th>2013-01-05</th>\n",
       "      <th>2013-01-06</th>\n",
       "    </tr>\n",
       "  </thead>\n",
       "  <tbody>\n",
       "    <tr>\n",
       "      <th>A</th>\n",
       "      <td>-0.438307</td>\n",
       "      <td>-0.509621</td>\n",
       "      <td>0.086955</td>\n",
       "      <td>1.627132</td>\n",
       "      <td>-1.173974</td>\n",
       "      <td>0.182393</td>\n",
       "    </tr>\n",
       "    <tr>\n",
       "      <th>B</th>\n",
       "      <td>-1.357128</td>\n",
       "      <td>-0.335400</td>\n",
       "      <td>-0.229214</td>\n",
       "      <td>0.123275</td>\n",
       "      <td>-0.092968</td>\n",
       "      <td>-0.398206</td>\n",
       "    </tr>\n",
       "    <tr>\n",
       "      <th>C</th>\n",
       "      <td>-1.539730</td>\n",
       "      <td>-0.297319</td>\n",
       "      <td>-1.445995</td>\n",
       "      <td>1.134978</td>\n",
       "      <td>1.943073</td>\n",
       "      <td>-0.171601</td>\n",
       "    </tr>\n",
       "    <tr>\n",
       "      <th>D</th>\n",
       "      <td>-1.177602</td>\n",
       "      <td>-1.151909</td>\n",
       "      <td>0.975162</td>\n",
       "      <td>-1.032749</td>\n",
       "      <td>1.290428</td>\n",
       "      <td>-0.160129</td>\n",
       "    </tr>\n",
       "  </tbody>\n",
       "</table>\n",
       "</div>"
      ],
      "text/plain": [
       "   2013-01-01  2013-01-02  2013-01-03  2013-01-04  2013-01-05  2013-01-06\n",
       "A   -0.438307   -0.509621    0.086955    1.627132   -1.173974    0.182393\n",
       "B   -1.357128   -0.335400   -0.229214    0.123275   -0.092968   -0.398206\n",
       "C   -1.539730   -0.297319   -1.445995    1.134978    1.943073   -0.171601\n",
       "D   -1.177602   -1.151909    0.975162   -1.032749    1.290428   -0.160129"
      ]
     },
     "execution_count": 36,
     "metadata": {},
     "output_type": "execute_result"
    }
   ],
   "source": [
    "df.transpose()"
   ]
  },
  {
   "cell_type": "markdown",
   "id": "b11a9a87-2322-4190-8c42-0904d3185260",
   "metadata": {},
   "source": [
    "### sort_index\n",
    "* index 정렬"
   ]
  },
  {
   "cell_type": "code",
   "execution_count": 37,
   "id": "cd47454c-9419-4b6a-9656-0d63ae96f62c",
   "metadata": {},
   "outputs": [
    {
     "data": {
      "text/html": [
       "<div>\n",
       "<style scoped>\n",
       "    .dataframe tbody tr th:only-of-type {\n",
       "        vertical-align: middle;\n",
       "    }\n",
       "\n",
       "    .dataframe tbody tr th {\n",
       "        vertical-align: top;\n",
       "    }\n",
       "\n",
       "    .dataframe thead th {\n",
       "        text-align: right;\n",
       "    }\n",
       "</style>\n",
       "<table border=\"1\" class=\"dataframe\">\n",
       "  <thead>\n",
       "    <tr style=\"text-align: right;\">\n",
       "      <th></th>\n",
       "      <th>A</th>\n",
       "      <th>B</th>\n",
       "      <th>C</th>\n",
       "      <th>D</th>\n",
       "    </tr>\n",
       "  </thead>\n",
       "  <tbody>\n",
       "    <tr>\n",
       "      <th>2013-01-06</th>\n",
       "      <td>0.182393</td>\n",
       "      <td>-0.398206</td>\n",
       "      <td>-0.171601</td>\n",
       "      <td>-0.160129</td>\n",
       "    </tr>\n",
       "    <tr>\n",
       "      <th>2013-01-05</th>\n",
       "      <td>-1.173974</td>\n",
       "      <td>-0.092968</td>\n",
       "      <td>1.943073</td>\n",
       "      <td>1.290428</td>\n",
       "    </tr>\n",
       "    <tr>\n",
       "      <th>2013-01-04</th>\n",
       "      <td>1.627132</td>\n",
       "      <td>0.123275</td>\n",
       "      <td>1.134978</td>\n",
       "      <td>-1.032749</td>\n",
       "    </tr>\n",
       "    <tr>\n",
       "      <th>2013-01-03</th>\n",
       "      <td>0.086955</td>\n",
       "      <td>-0.229214</td>\n",
       "      <td>-1.445995</td>\n",
       "      <td>0.975162</td>\n",
       "    </tr>\n",
       "    <tr>\n",
       "      <th>2013-01-02</th>\n",
       "      <td>-0.509621</td>\n",
       "      <td>-0.335400</td>\n",
       "      <td>-0.297319</td>\n",
       "      <td>-1.151909</td>\n",
       "    </tr>\n",
       "    <tr>\n",
       "      <th>2013-01-01</th>\n",
       "      <td>-0.438307</td>\n",
       "      <td>-1.357128</td>\n",
       "      <td>-1.539730</td>\n",
       "      <td>-1.177602</td>\n",
       "    </tr>\n",
       "  </tbody>\n",
       "</table>\n",
       "</div>"
      ],
      "text/plain": [
       "                   A         B         C         D\n",
       "2013-01-06  0.182393 -0.398206 -0.171601 -0.160129\n",
       "2013-01-05 -1.173974 -0.092968  1.943073  1.290428\n",
       "2013-01-04  1.627132  0.123275  1.134978 -1.032749\n",
       "2013-01-03  0.086955 -0.229214 -1.445995  0.975162\n",
       "2013-01-02 -0.509621 -0.335400 -0.297319 -1.151909\n",
       "2013-01-01 -0.438307 -1.357128 -1.539730 -1.177602"
      ]
     },
     "execution_count": 37,
     "metadata": {},
     "output_type": "execute_result"
    }
   ],
   "source": [
    "df.sort_index(ascending=False)"
   ]
  },
  {
   "cell_type": "code",
   "execution_count": 38,
   "id": "6164902f-82b5-461c-b339-bf698902b0a6",
   "metadata": {},
   "outputs": [
    {
     "data": {
      "text/html": [
       "<div>\n",
       "<style scoped>\n",
       "    .dataframe tbody tr th:only-of-type {\n",
       "        vertical-align: middle;\n",
       "    }\n",
       "\n",
       "    .dataframe tbody tr th {\n",
       "        vertical-align: top;\n",
       "    }\n",
       "\n",
       "    .dataframe thead th {\n",
       "        text-align: right;\n",
       "    }\n",
       "</style>\n",
       "<table border=\"1\" class=\"dataframe\">\n",
       "  <thead>\n",
       "    <tr style=\"text-align: right;\">\n",
       "      <th></th>\n",
       "      <th>D</th>\n",
       "      <th>C</th>\n",
       "      <th>B</th>\n",
       "      <th>A</th>\n",
       "    </tr>\n",
       "  </thead>\n",
       "  <tbody>\n",
       "    <tr>\n",
       "      <th>2013-01-01</th>\n",
       "      <td>-1.177602</td>\n",
       "      <td>-1.539730</td>\n",
       "      <td>-1.357128</td>\n",
       "      <td>-0.438307</td>\n",
       "    </tr>\n",
       "    <tr>\n",
       "      <th>2013-01-02</th>\n",
       "      <td>-1.151909</td>\n",
       "      <td>-0.297319</td>\n",
       "      <td>-0.335400</td>\n",
       "      <td>-0.509621</td>\n",
       "    </tr>\n",
       "    <tr>\n",
       "      <th>2013-01-03</th>\n",
       "      <td>0.975162</td>\n",
       "      <td>-1.445995</td>\n",
       "      <td>-0.229214</td>\n",
       "      <td>0.086955</td>\n",
       "    </tr>\n",
       "    <tr>\n",
       "      <th>2013-01-04</th>\n",
       "      <td>-1.032749</td>\n",
       "      <td>1.134978</td>\n",
       "      <td>0.123275</td>\n",
       "      <td>1.627132</td>\n",
       "    </tr>\n",
       "    <tr>\n",
       "      <th>2013-01-05</th>\n",
       "      <td>1.290428</td>\n",
       "      <td>1.943073</td>\n",
       "      <td>-0.092968</td>\n",
       "      <td>-1.173974</td>\n",
       "    </tr>\n",
       "    <tr>\n",
       "      <th>2013-01-06</th>\n",
       "      <td>-0.160129</td>\n",
       "      <td>-0.171601</td>\n",
       "      <td>-0.398206</td>\n",
       "      <td>0.182393</td>\n",
       "    </tr>\n",
       "  </tbody>\n",
       "</table>\n",
       "</div>"
      ],
      "text/plain": [
       "                   D         C         B         A\n",
       "2013-01-01 -1.177602 -1.539730 -1.357128 -0.438307\n",
       "2013-01-02 -1.151909 -0.297319 -0.335400 -0.509621\n",
       "2013-01-03  0.975162 -1.445995 -0.229214  0.086955\n",
       "2013-01-04 -1.032749  1.134978  0.123275  1.627132\n",
       "2013-01-05  1.290428  1.943073 -0.092968 -1.173974\n",
       "2013-01-06 -0.160129 -0.171601 -0.398206  0.182393"
      ]
     },
     "execution_count": 38,
     "metadata": {},
     "output_type": "execute_result"
    }
   ],
   "source": [
    "df.sort_index(ascending=False, axis=1)"
   ]
  },
  {
   "cell_type": "markdown",
   "id": "39848746-87ee-4f3f-bc00-87cf1e490f9d",
   "metadata": {},
   "source": [
    "##### 최근 날짜 순으로 index정렬\n",
    "##### ascendig - False : 내림차순 /True : 오름차순 (기본 정렬 방식은 오름차순)\n",
    "##### axis - 0 또는 생략 : 행기준 정렬 / 1 : 열기준 정렬"
   ]
  },
  {
   "cell_type": "markdown",
   "id": "6ef9652a-5ae4-476e-ae58-dbc640f6c539",
   "metadata": {},
   "source": [
    "### sort_values\n",
    "* columns 정렬"
   ]
  },
  {
   "cell_type": "code",
   "execution_count": 39,
   "id": "71dc5c23-ff3c-4e6f-9e73-ae576902ea8f",
   "metadata": {},
   "outputs": [
    {
     "data": {
      "text/html": [
       "<div>\n",
       "<style scoped>\n",
       "    .dataframe tbody tr th:only-of-type {\n",
       "        vertical-align: middle;\n",
       "    }\n",
       "\n",
       "    .dataframe tbody tr th {\n",
       "        vertical-align: top;\n",
       "    }\n",
       "\n",
       "    .dataframe thead th {\n",
       "        text-align: right;\n",
       "    }\n",
       "</style>\n",
       "<table border=\"1\" class=\"dataframe\">\n",
       "  <thead>\n",
       "    <tr style=\"text-align: right;\">\n",
       "      <th></th>\n",
       "      <th>A</th>\n",
       "      <th>B</th>\n",
       "      <th>C</th>\n",
       "      <th>D</th>\n",
       "    </tr>\n",
       "  </thead>\n",
       "  <tbody>\n",
       "    <tr>\n",
       "      <th>2013-01-05</th>\n",
       "      <td>-1.173974</td>\n",
       "      <td>-0.092968</td>\n",
       "      <td>1.943073</td>\n",
       "      <td>1.290428</td>\n",
       "    </tr>\n",
       "    <tr>\n",
       "      <th>2013-01-02</th>\n",
       "      <td>-0.509621</td>\n",
       "      <td>-0.335400</td>\n",
       "      <td>-0.297319</td>\n",
       "      <td>-1.151909</td>\n",
       "    </tr>\n",
       "    <tr>\n",
       "      <th>2013-01-01</th>\n",
       "      <td>-0.438307</td>\n",
       "      <td>-1.357128</td>\n",
       "      <td>-1.539730</td>\n",
       "      <td>-1.177602</td>\n",
       "    </tr>\n",
       "    <tr>\n",
       "      <th>2013-01-03</th>\n",
       "      <td>0.086955</td>\n",
       "      <td>-0.229214</td>\n",
       "      <td>-1.445995</td>\n",
       "      <td>0.975162</td>\n",
       "    </tr>\n",
       "    <tr>\n",
       "      <th>2013-01-06</th>\n",
       "      <td>0.182393</td>\n",
       "      <td>-0.398206</td>\n",
       "      <td>-0.171601</td>\n",
       "      <td>-0.160129</td>\n",
       "    </tr>\n",
       "    <tr>\n",
       "      <th>2013-01-04</th>\n",
       "      <td>1.627132</td>\n",
       "      <td>0.123275</td>\n",
       "      <td>1.134978</td>\n",
       "      <td>-1.032749</td>\n",
       "    </tr>\n",
       "  </tbody>\n",
       "</table>\n",
       "</div>"
      ],
      "text/plain": [
       "                   A         B         C         D\n",
       "2013-01-05 -1.173974 -0.092968  1.943073  1.290428\n",
       "2013-01-02 -0.509621 -0.335400 -0.297319 -1.151909\n",
       "2013-01-01 -0.438307 -1.357128 -1.539730 -1.177602\n",
       "2013-01-03  0.086955 -0.229214 -1.445995  0.975162\n",
       "2013-01-06  0.182393 -0.398206 -0.171601 -0.160129\n",
       "2013-01-04  1.627132  0.123275  1.134978 -1.032749"
      ]
     },
     "execution_count": 39,
     "metadata": {},
     "output_type": "execute_result"
    }
   ],
   "source": [
    "df.sort_values(by=\"A\")"
   ]
  },
  {
   "cell_type": "markdown",
   "id": "541bc696-c421-4b56-96af-1a9098b68126",
   "metadata": {},
   "source": [
    "##### by안에 있는 것 기준으로 정렬 "
   ]
  },
  {
   "cell_type": "code",
   "execution_count": 40,
   "id": "f71cc443-9406-47ea-842a-96549f85bed0",
   "metadata": {},
   "outputs": [
    {
     "data": {
      "text/html": [
       "<div>\n",
       "<style scoped>\n",
       "    .dataframe tbody tr th:only-of-type {\n",
       "        vertical-align: middle;\n",
       "    }\n",
       "\n",
       "    .dataframe tbody tr th {\n",
       "        vertical-align: top;\n",
       "    }\n",
       "\n",
       "    .dataframe thead th {\n",
       "        text-align: right;\n",
       "    }\n",
       "</style>\n",
       "<table border=\"1\" class=\"dataframe\">\n",
       "  <thead>\n",
       "    <tr style=\"text-align: right;\">\n",
       "      <th></th>\n",
       "      <th>A</th>\n",
       "      <th>B</th>\n",
       "      <th>C</th>\n",
       "      <th>D</th>\n",
       "    </tr>\n",
       "  </thead>\n",
       "  <tbody>\n",
       "    <tr>\n",
       "      <th>2013-01-04</th>\n",
       "      <td>1.627132</td>\n",
       "      <td>0.123275</td>\n",
       "      <td>1.134978</td>\n",
       "      <td>-1.032749</td>\n",
       "    </tr>\n",
       "    <tr>\n",
       "      <th>2013-01-06</th>\n",
       "      <td>0.182393</td>\n",
       "      <td>-0.398206</td>\n",
       "      <td>-0.171601</td>\n",
       "      <td>-0.160129</td>\n",
       "    </tr>\n",
       "    <tr>\n",
       "      <th>2013-01-03</th>\n",
       "      <td>0.086955</td>\n",
       "      <td>-0.229214</td>\n",
       "      <td>-1.445995</td>\n",
       "      <td>0.975162</td>\n",
       "    </tr>\n",
       "    <tr>\n",
       "      <th>2013-01-01</th>\n",
       "      <td>-0.438307</td>\n",
       "      <td>-1.357128</td>\n",
       "      <td>-1.539730</td>\n",
       "      <td>-1.177602</td>\n",
       "    </tr>\n",
       "    <tr>\n",
       "      <th>2013-01-02</th>\n",
       "      <td>-0.509621</td>\n",
       "      <td>-0.335400</td>\n",
       "      <td>-0.297319</td>\n",
       "      <td>-1.151909</td>\n",
       "    </tr>\n",
       "    <tr>\n",
       "      <th>2013-01-05</th>\n",
       "      <td>-1.173974</td>\n",
       "      <td>-0.092968</td>\n",
       "      <td>1.943073</td>\n",
       "      <td>1.290428</td>\n",
       "    </tr>\n",
       "  </tbody>\n",
       "</table>\n",
       "</div>"
      ],
      "text/plain": [
       "                   A         B         C         D\n",
       "2013-01-04  1.627132  0.123275  1.134978 -1.032749\n",
       "2013-01-06  0.182393 -0.398206 -0.171601 -0.160129\n",
       "2013-01-03  0.086955 -0.229214 -1.445995  0.975162\n",
       "2013-01-01 -0.438307 -1.357128 -1.539730 -1.177602\n",
       "2013-01-02 -0.509621 -0.335400 -0.297319 -1.151909\n",
       "2013-01-05 -1.173974 -0.092968  1.943073  1.290428"
      ]
     },
     "execution_count": 40,
     "metadata": {},
     "output_type": "execute_result"
    }
   ],
   "source": [
    "df.sort_values(by=[\"A\",\"B\"], ascending=False)"
   ]
  },
  {
   "cell_type": "markdown",
   "id": "93931225-0578-4143-94a0-6b35e294f237",
   "metadata": {},
   "source": [
    "##### 여러개의 columns 기준으로 정렬을 하고 싶다면, by안에 리스트 사용\n",
    "##### A로 먼저 정렬한 다음, B로 정렬"
   ]
  },
  {
   "cell_type": "markdown",
   "id": "4dcf6d04-9a0c-42e3-b333-a8e787f02b69",
   "metadata": {},
   "source": [
    "### df.loc[행,열] 컬럼, 인덱스 이름 그대로 사용\n",
    "### df.iloc[행,열] 인덱스\n",
    "##### ' ':' ' -> 대괄호 사용X\n",
    "##### [' ',' '] -> 대괄호 사용O"
   ]
  },
  {
   "cell_type": "code",
   "execution_count": 41,
   "id": "58d860e4-f14c-41fc-854f-a70375f0268c",
   "metadata": {},
   "outputs": [
    {
     "data": {
      "text/html": [
       "<div>\n",
       "<style scoped>\n",
       "    .dataframe tbody tr th:only-of-type {\n",
       "        vertical-align: middle;\n",
       "    }\n",
       "\n",
       "    .dataframe tbody tr th {\n",
       "        vertical-align: top;\n",
       "    }\n",
       "\n",
       "    .dataframe thead th {\n",
       "        text-align: right;\n",
       "    }\n",
       "</style>\n",
       "<table border=\"1\" class=\"dataframe\">\n",
       "  <thead>\n",
       "    <tr style=\"text-align: right;\">\n",
       "      <th></th>\n",
       "      <th>B</th>\n",
       "      <th>C</th>\n",
       "    </tr>\n",
       "  </thead>\n",
       "  <tbody>\n",
       "    <tr>\n",
       "      <th>2013-01-03</th>\n",
       "      <td>-0.229214</td>\n",
       "      <td>-1.445995</td>\n",
       "    </tr>\n",
       "    <tr>\n",
       "      <th>2013-01-04</th>\n",
       "      <td>0.123275</td>\n",
       "      <td>1.134978</td>\n",
       "    </tr>\n",
       "  </tbody>\n",
       "</table>\n",
       "</div>"
      ],
      "text/plain": [
       "                   B         C\n",
       "2013-01-03 -0.229214 -1.445995\n",
       "2013-01-04  0.123275  1.134978"
      ]
     },
     "execution_count": 41,
     "metadata": {},
     "output_type": "execute_result"
    }
   ],
   "source": [
    "df.loc['2013-01-03':'2013-01-04',['B','C']]"
   ]
  },
  {
   "cell_type": "code",
   "execution_count": 42,
   "id": "8727f0b0-fe9a-4130-b14d-143b43c98a40",
   "metadata": {},
   "outputs": [
    {
     "data": {
      "text/html": [
       "<div>\n",
       "<style scoped>\n",
       "    .dataframe tbody tr th:only-of-type {\n",
       "        vertical-align: middle;\n",
       "    }\n",
       "\n",
       "    .dataframe tbody tr th {\n",
       "        vertical-align: top;\n",
       "    }\n",
       "\n",
       "    .dataframe thead th {\n",
       "        text-align: right;\n",
       "    }\n",
       "</style>\n",
       "<table border=\"1\" class=\"dataframe\">\n",
       "  <thead>\n",
       "    <tr style=\"text-align: right;\">\n",
       "      <th></th>\n",
       "      <th>B</th>\n",
       "      <th>C</th>\n",
       "    </tr>\n",
       "  </thead>\n",
       "  <tbody>\n",
       "    <tr>\n",
       "      <th>2013-01-03</th>\n",
       "      <td>-0.229214</td>\n",
       "      <td>-1.445995</td>\n",
       "    </tr>\n",
       "    <tr>\n",
       "      <th>2013-01-04</th>\n",
       "      <td>0.123275</td>\n",
       "      <td>1.134978</td>\n",
       "    </tr>\n",
       "  </tbody>\n",
       "</table>\n",
       "</div>"
      ],
      "text/plain": [
       "                   B         C\n",
       "2013-01-03 -0.229214 -1.445995\n",
       "2013-01-04  0.123275  1.134978"
      ]
     },
     "execution_count": 42,
     "metadata": {},
     "output_type": "execute_result"
    }
   ],
   "source": [
    "df.loc['2013-01-03':'2013-01-04','B':'C']"
   ]
  },
  {
   "cell_type": "code",
   "execution_count": 43,
   "id": "81d766c5-1a35-4be5-abb5-8e8f86f0b4cc",
   "metadata": {},
   "outputs": [
    {
     "data": {
      "text/html": [
       "<div>\n",
       "<style scoped>\n",
       "    .dataframe tbody tr th:only-of-type {\n",
       "        vertical-align: middle;\n",
       "    }\n",
       "\n",
       "    .dataframe tbody tr th {\n",
       "        vertical-align: top;\n",
       "    }\n",
       "\n",
       "    .dataframe thead th {\n",
       "        text-align: right;\n",
       "    }\n",
       "</style>\n",
       "<table border=\"1\" class=\"dataframe\">\n",
       "  <thead>\n",
       "    <tr style=\"text-align: right;\">\n",
       "      <th></th>\n",
       "      <th>C</th>\n",
       "      <th>D</th>\n",
       "    </tr>\n",
       "  </thead>\n",
       "  <tbody>\n",
       "    <tr>\n",
       "      <th>2013-01-02</th>\n",
       "      <td>-0.297319</td>\n",
       "      <td>-1.151909</td>\n",
       "    </tr>\n",
       "    <tr>\n",
       "      <th>2013-01-03</th>\n",
       "      <td>-1.445995</td>\n",
       "      <td>0.975162</td>\n",
       "    </tr>\n",
       "  </tbody>\n",
       "</table>\n",
       "</div>"
      ],
      "text/plain": [
       "                   C         D\n",
       "2013-01-02 -0.297319 -1.151909\n",
       "2013-01-03 -1.445995  0.975162"
      ]
     },
     "execution_count": 43,
     "metadata": {},
     "output_type": "execute_result"
    }
   ],
   "source": [
    "df.iloc[1:3,2:4]"
   ]
  },
  {
   "cell_type": "code",
   "execution_count": 44,
   "id": "ca102734-2380-41d2-9ff7-05a718707aac",
   "metadata": {},
   "outputs": [
    {
     "data": {
      "text/html": [
       "<div>\n",
       "<style scoped>\n",
       "    .dataframe tbody tr th:only-of-type {\n",
       "        vertical-align: middle;\n",
       "    }\n",
       "\n",
       "    .dataframe tbody tr th {\n",
       "        vertical-align: top;\n",
       "    }\n",
       "\n",
       "    .dataframe thead th {\n",
       "        text-align: right;\n",
       "    }\n",
       "</style>\n",
       "<table border=\"1\" class=\"dataframe\">\n",
       "  <thead>\n",
       "    <tr style=\"text-align: right;\">\n",
       "      <th></th>\n",
       "      <th>A</th>\n",
       "      <th>C</th>\n",
       "    </tr>\n",
       "  </thead>\n",
       "  <tbody>\n",
       "    <tr>\n",
       "      <th>2013-01-02</th>\n",
       "      <td>-0.509621</td>\n",
       "      <td>-0.297319</td>\n",
       "    </tr>\n",
       "    <tr>\n",
       "      <th>2013-01-03</th>\n",
       "      <td>0.086955</td>\n",
       "      <td>-1.445995</td>\n",
       "    </tr>\n",
       "    <tr>\n",
       "      <th>2013-01-05</th>\n",
       "      <td>-1.173974</td>\n",
       "      <td>1.943073</td>\n",
       "    </tr>\n",
       "  </tbody>\n",
       "</table>\n",
       "</div>"
      ],
      "text/plain": [
       "                   A         C\n",
       "2013-01-02 -0.509621 -0.297319\n",
       "2013-01-03  0.086955 -1.445995\n",
       "2013-01-05 -1.173974  1.943073"
      ]
     },
     "execution_count": 44,
     "metadata": {},
     "output_type": "execute_result"
    }
   ],
   "source": [
    "df.iloc[[1,2,4],[0,2]]"
   ]
  },
  {
   "cell_type": "markdown",
   "id": "c410d72d-c7eb-4022-8a0a-d397ba7184bf",
   "metadata": {},
   "source": [
    "## bool\n",
    "* True / False 로 값 반환"
   ]
  },
  {
   "cell_type": "code",
   "execution_count": 45,
   "id": "23eeac74-71af-4107-b473-d321c522a74d",
   "metadata": {},
   "outputs": [],
   "source": [
    "# df[조건]"
   ]
  },
  {
   "cell_type": "code",
   "execution_count": 46,
   "id": "5bae4494-1ed3-43a1-8e6c-e854ba7b303b",
   "metadata": {},
   "outputs": [
    {
     "data": {
      "text/html": [
       "<div>\n",
       "<style scoped>\n",
       "    .dataframe tbody tr th:only-of-type {\n",
       "        vertical-align: middle;\n",
       "    }\n",
       "\n",
       "    .dataframe tbody tr th {\n",
       "        vertical-align: top;\n",
       "    }\n",
       "\n",
       "    .dataframe thead th {\n",
       "        text-align: right;\n",
       "    }\n",
       "</style>\n",
       "<table border=\"1\" class=\"dataframe\">\n",
       "  <thead>\n",
       "    <tr style=\"text-align: right;\">\n",
       "      <th></th>\n",
       "      <th>A</th>\n",
       "      <th>B</th>\n",
       "      <th>C</th>\n",
       "      <th>D</th>\n",
       "    </tr>\n",
       "  </thead>\n",
       "  <tbody>\n",
       "    <tr>\n",
       "      <th>2013-01-03</th>\n",
       "      <td>0.086955</td>\n",
       "      <td>-0.229214</td>\n",
       "      <td>-1.445995</td>\n",
       "      <td>0.975162</td>\n",
       "    </tr>\n",
       "    <tr>\n",
       "      <th>2013-01-04</th>\n",
       "      <td>1.627132</td>\n",
       "      <td>0.123275</td>\n",
       "      <td>1.134978</td>\n",
       "      <td>-1.032749</td>\n",
       "    </tr>\n",
       "    <tr>\n",
       "      <th>2013-01-06</th>\n",
       "      <td>0.182393</td>\n",
       "      <td>-0.398206</td>\n",
       "      <td>-0.171601</td>\n",
       "      <td>-0.160129</td>\n",
       "    </tr>\n",
       "  </tbody>\n",
       "</table>\n",
       "</div>"
      ],
      "text/plain": [
       "                   A         B         C         D\n",
       "2013-01-03  0.086955 -0.229214 -1.445995  0.975162\n",
       "2013-01-04  1.627132  0.123275  1.134978 -1.032749\n",
       "2013-01-06  0.182393 -0.398206 -0.171601 -0.160129"
      ]
     },
     "execution_count": 46,
     "metadata": {},
     "output_type": "execute_result"
    }
   ],
   "source": [
    "df[df['A']>0]"
   ]
  },
  {
   "cell_type": "code",
   "execution_count": 47,
   "id": "b319b55e-93ba-4ac0-9ee5-ee9999e76d9c",
   "metadata": {},
   "outputs": [
    {
     "data": {
      "text/plain": [
       "2013-01-01    False\n",
       "2013-01-02    False\n",
       "2013-01-03     True\n",
       "2013-01-04     True\n",
       "2013-01-05    False\n",
       "2013-01-06     True\n",
       "Freq: D, Name: A, dtype: bool"
      ]
     },
     "execution_count": 47,
     "metadata": {},
     "output_type": "execute_result"
    }
   ],
   "source": [
    "df['A']>0"
   ]
  },
  {
   "cell_type": "code",
   "execution_count": 48,
   "id": "e27ea7e1-fbfc-4d67-b3bc-3cd83a964e42",
   "metadata": {},
   "outputs": [
    {
     "data": {
      "text/html": [
       "<div>\n",
       "<style scoped>\n",
       "    .dataframe tbody tr th:only-of-type {\n",
       "        vertical-align: middle;\n",
       "    }\n",
       "\n",
       "    .dataframe tbody tr th {\n",
       "        vertical-align: top;\n",
       "    }\n",
       "\n",
       "    .dataframe thead th {\n",
       "        text-align: right;\n",
       "    }\n",
       "</style>\n",
       "<table border=\"1\" class=\"dataframe\">\n",
       "  <thead>\n",
       "    <tr style=\"text-align: right;\">\n",
       "      <th></th>\n",
       "      <th>A</th>\n",
       "      <th>B</th>\n",
       "      <th>C</th>\n",
       "      <th>D</th>\n",
       "    </tr>\n",
       "  </thead>\n",
       "  <tbody>\n",
       "    <tr>\n",
       "      <th>2013-01-01</th>\n",
       "      <td>NaN</td>\n",
       "      <td>NaN</td>\n",
       "      <td>NaN</td>\n",
       "      <td>NaN</td>\n",
       "    </tr>\n",
       "    <tr>\n",
       "      <th>2013-01-02</th>\n",
       "      <td>NaN</td>\n",
       "      <td>NaN</td>\n",
       "      <td>NaN</td>\n",
       "      <td>NaN</td>\n",
       "    </tr>\n",
       "    <tr>\n",
       "      <th>2013-01-03</th>\n",
       "      <td>0.086955</td>\n",
       "      <td>NaN</td>\n",
       "      <td>NaN</td>\n",
       "      <td>0.975162</td>\n",
       "    </tr>\n",
       "    <tr>\n",
       "      <th>2013-01-04</th>\n",
       "      <td>1.627132</td>\n",
       "      <td>0.123275</td>\n",
       "      <td>1.134978</td>\n",
       "      <td>NaN</td>\n",
       "    </tr>\n",
       "    <tr>\n",
       "      <th>2013-01-05</th>\n",
       "      <td>NaN</td>\n",
       "      <td>NaN</td>\n",
       "      <td>1.943073</td>\n",
       "      <td>1.290428</td>\n",
       "    </tr>\n",
       "    <tr>\n",
       "      <th>2013-01-06</th>\n",
       "      <td>0.182393</td>\n",
       "      <td>NaN</td>\n",
       "      <td>NaN</td>\n",
       "      <td>NaN</td>\n",
       "    </tr>\n",
       "  </tbody>\n",
       "</table>\n",
       "</div>"
      ],
      "text/plain": [
       "                   A         B         C         D\n",
       "2013-01-01       NaN       NaN       NaN       NaN\n",
       "2013-01-02       NaN       NaN       NaN       NaN\n",
       "2013-01-03  0.086955       NaN       NaN  0.975162\n",
       "2013-01-04  1.627132  0.123275  1.134978       NaN\n",
       "2013-01-05       NaN       NaN  1.943073  1.290428\n",
       "2013-01-06  0.182393       NaN       NaN       NaN"
      ]
     },
     "execution_count": 48,
     "metadata": {},
     "output_type": "execute_result"
    }
   ],
   "source": [
    "df[df>0]"
   ]
  },
  {
   "cell_type": "markdown",
   "id": "31ab4c72-dd31-4367-9dcb-628d7159b99c",
   "metadata": {},
   "source": [
    "##### 조건에 만족하지 않는 값은 NaN으로 나타남"
   ]
  },
  {
   "cell_type": "markdown",
   "id": "5915740d-5e55-4101-b958-97d67ce68139",
   "metadata": {},
   "source": [
    "## copy & 추가하기\n",
    "* df의 값을 복사해서 df2에 담고 'E' columns 추가하기"
   ]
  },
  {
   "cell_type": "code",
   "execution_count": 49,
   "id": "8fc20280-3deb-4bf4-b500-3b0f27789805",
   "metadata": {},
   "outputs": [],
   "source": [
    "df2 = df.copy()"
   ]
  },
  {
   "cell_type": "code",
   "execution_count": 50,
   "id": "fde5a0c7-2247-4812-8c46-652352e3202c",
   "metadata": {},
   "outputs": [
    {
     "data": {
      "text/html": [
       "<div>\n",
       "<style scoped>\n",
       "    .dataframe tbody tr th:only-of-type {\n",
       "        vertical-align: middle;\n",
       "    }\n",
       "\n",
       "    .dataframe tbody tr th {\n",
       "        vertical-align: top;\n",
       "    }\n",
       "\n",
       "    .dataframe thead th {\n",
       "        text-align: right;\n",
       "    }\n",
       "</style>\n",
       "<table border=\"1\" class=\"dataframe\">\n",
       "  <thead>\n",
       "    <tr style=\"text-align: right;\">\n",
       "      <th></th>\n",
       "      <th>A</th>\n",
       "      <th>B</th>\n",
       "      <th>C</th>\n",
       "      <th>D</th>\n",
       "    </tr>\n",
       "  </thead>\n",
       "  <tbody>\n",
       "    <tr>\n",
       "      <th>2013-01-01</th>\n",
       "      <td>-0.438307</td>\n",
       "      <td>-1.357128</td>\n",
       "      <td>-1.539730</td>\n",
       "      <td>-1.177602</td>\n",
       "    </tr>\n",
       "    <tr>\n",
       "      <th>2013-01-02</th>\n",
       "      <td>-0.509621</td>\n",
       "      <td>-0.335400</td>\n",
       "      <td>-0.297319</td>\n",
       "      <td>-1.151909</td>\n",
       "    </tr>\n",
       "    <tr>\n",
       "      <th>2013-01-03</th>\n",
       "      <td>0.086955</td>\n",
       "      <td>-0.229214</td>\n",
       "      <td>-1.445995</td>\n",
       "      <td>0.975162</td>\n",
       "    </tr>\n",
       "    <tr>\n",
       "      <th>2013-01-04</th>\n",
       "      <td>1.627132</td>\n",
       "      <td>0.123275</td>\n",
       "      <td>1.134978</td>\n",
       "      <td>-1.032749</td>\n",
       "    </tr>\n",
       "    <tr>\n",
       "      <th>2013-01-05</th>\n",
       "      <td>-1.173974</td>\n",
       "      <td>-0.092968</td>\n",
       "      <td>1.943073</td>\n",
       "      <td>1.290428</td>\n",
       "    </tr>\n",
       "    <tr>\n",
       "      <th>2013-01-06</th>\n",
       "      <td>0.182393</td>\n",
       "      <td>-0.398206</td>\n",
       "      <td>-0.171601</td>\n",
       "      <td>-0.160129</td>\n",
       "    </tr>\n",
       "  </tbody>\n",
       "</table>\n",
       "</div>"
      ],
      "text/plain": [
       "                   A         B         C         D\n",
       "2013-01-01 -0.438307 -1.357128 -1.539730 -1.177602\n",
       "2013-01-02 -0.509621 -0.335400 -0.297319 -1.151909\n",
       "2013-01-03  0.086955 -0.229214 -1.445995  0.975162\n",
       "2013-01-04  1.627132  0.123275  1.134978 -1.032749\n",
       "2013-01-05 -1.173974 -0.092968  1.943073  1.290428\n",
       "2013-01-06  0.182393 -0.398206 -0.171601 -0.160129"
      ]
     },
     "execution_count": 50,
     "metadata": {},
     "output_type": "execute_result"
    }
   ],
   "source": [
    "df2"
   ]
  },
  {
   "cell_type": "code",
   "execution_count": 51,
   "id": "4dc1ac58-2bb4-4c4e-9659-e97f7249d5e2",
   "metadata": {},
   "outputs": [],
   "source": [
    "df2[\"E\"] = [\"one\", \"one\", \"two\", \"three\", \"four\", \"three\"]"
   ]
  },
  {
   "cell_type": "code",
   "execution_count": 52,
   "id": "8bb7a51c-0454-40a6-ba9f-6112948e7c67",
   "metadata": {},
   "outputs": [
    {
     "data": {
      "text/html": [
       "<div>\n",
       "<style scoped>\n",
       "    .dataframe tbody tr th:only-of-type {\n",
       "        vertical-align: middle;\n",
       "    }\n",
       "\n",
       "    .dataframe tbody tr th {\n",
       "        vertical-align: top;\n",
       "    }\n",
       "\n",
       "    .dataframe thead th {\n",
       "        text-align: right;\n",
       "    }\n",
       "</style>\n",
       "<table border=\"1\" class=\"dataframe\">\n",
       "  <thead>\n",
       "    <tr style=\"text-align: right;\">\n",
       "      <th></th>\n",
       "      <th>A</th>\n",
       "      <th>B</th>\n",
       "      <th>C</th>\n",
       "      <th>D</th>\n",
       "      <th>E</th>\n",
       "    </tr>\n",
       "  </thead>\n",
       "  <tbody>\n",
       "    <tr>\n",
       "      <th>2013-01-01</th>\n",
       "      <td>-0.438307</td>\n",
       "      <td>-1.357128</td>\n",
       "      <td>-1.539730</td>\n",
       "      <td>-1.177602</td>\n",
       "      <td>one</td>\n",
       "    </tr>\n",
       "    <tr>\n",
       "      <th>2013-01-02</th>\n",
       "      <td>-0.509621</td>\n",
       "      <td>-0.335400</td>\n",
       "      <td>-0.297319</td>\n",
       "      <td>-1.151909</td>\n",
       "      <td>one</td>\n",
       "    </tr>\n",
       "    <tr>\n",
       "      <th>2013-01-03</th>\n",
       "      <td>0.086955</td>\n",
       "      <td>-0.229214</td>\n",
       "      <td>-1.445995</td>\n",
       "      <td>0.975162</td>\n",
       "      <td>two</td>\n",
       "    </tr>\n",
       "    <tr>\n",
       "      <th>2013-01-04</th>\n",
       "      <td>1.627132</td>\n",
       "      <td>0.123275</td>\n",
       "      <td>1.134978</td>\n",
       "      <td>-1.032749</td>\n",
       "      <td>three</td>\n",
       "    </tr>\n",
       "    <tr>\n",
       "      <th>2013-01-05</th>\n",
       "      <td>-1.173974</td>\n",
       "      <td>-0.092968</td>\n",
       "      <td>1.943073</td>\n",
       "      <td>1.290428</td>\n",
       "      <td>four</td>\n",
       "    </tr>\n",
       "    <tr>\n",
       "      <th>2013-01-06</th>\n",
       "      <td>0.182393</td>\n",
       "      <td>-0.398206</td>\n",
       "      <td>-0.171601</td>\n",
       "      <td>-0.160129</td>\n",
       "      <td>three</td>\n",
       "    </tr>\n",
       "  </tbody>\n",
       "</table>\n",
       "</div>"
      ],
      "text/plain": [
       "                   A         B         C         D      E\n",
       "2013-01-01 -0.438307 -1.357128 -1.539730 -1.177602    one\n",
       "2013-01-02 -0.509621 -0.335400 -0.297319 -1.151909    one\n",
       "2013-01-03  0.086955 -0.229214 -1.445995  0.975162    two\n",
       "2013-01-04  1.627132  0.123275  1.134978 -1.032749  three\n",
       "2013-01-05 -1.173974 -0.092968  1.943073  1.290428   four\n",
       "2013-01-06  0.182393 -0.398206 -0.171601 -0.160129  three"
      ]
     },
     "execution_count": 52,
     "metadata": {},
     "output_type": "execute_result"
    }
   ],
   "source": [
    "df2"
   ]
  },
  {
   "cell_type": "code",
   "execution_count": 53,
   "id": "96b790dc-2f29-454e-8c78-af23676ebb06",
   "metadata": {},
   "outputs": [
    {
     "data": {
      "text/html": [
       "<div>\n",
       "<style scoped>\n",
       "    .dataframe tbody tr th:only-of-type {\n",
       "        vertical-align: middle;\n",
       "    }\n",
       "\n",
       "    .dataframe tbody tr th {\n",
       "        vertical-align: top;\n",
       "    }\n",
       "\n",
       "    .dataframe thead th {\n",
       "        text-align: right;\n",
       "    }\n",
       "</style>\n",
       "<table border=\"1\" class=\"dataframe\">\n",
       "  <thead>\n",
       "    <tr style=\"text-align: right;\">\n",
       "      <th></th>\n",
       "      <th>A</th>\n",
       "      <th>B</th>\n",
       "      <th>C</th>\n",
       "      <th>D</th>\n",
       "    </tr>\n",
       "  </thead>\n",
       "  <tbody>\n",
       "    <tr>\n",
       "      <th>2013-01-01</th>\n",
       "      <td>-0.438307</td>\n",
       "      <td>-1.357128</td>\n",
       "      <td>-1.539730</td>\n",
       "      <td>-1.177602</td>\n",
       "    </tr>\n",
       "    <tr>\n",
       "      <th>2013-01-02</th>\n",
       "      <td>-0.509621</td>\n",
       "      <td>-0.335400</td>\n",
       "      <td>-0.297319</td>\n",
       "      <td>-1.151909</td>\n",
       "    </tr>\n",
       "    <tr>\n",
       "      <th>2013-01-03</th>\n",
       "      <td>0.086955</td>\n",
       "      <td>-0.229214</td>\n",
       "      <td>-1.445995</td>\n",
       "      <td>0.975162</td>\n",
       "    </tr>\n",
       "    <tr>\n",
       "      <th>2013-01-04</th>\n",
       "      <td>1.627132</td>\n",
       "      <td>0.123275</td>\n",
       "      <td>1.134978</td>\n",
       "      <td>-1.032749</td>\n",
       "    </tr>\n",
       "    <tr>\n",
       "      <th>2013-01-05</th>\n",
       "      <td>-1.173974</td>\n",
       "      <td>-0.092968</td>\n",
       "      <td>1.943073</td>\n",
       "      <td>1.290428</td>\n",
       "    </tr>\n",
       "    <tr>\n",
       "      <th>2013-01-06</th>\n",
       "      <td>0.182393</td>\n",
       "      <td>-0.398206</td>\n",
       "      <td>-0.171601</td>\n",
       "      <td>-0.160129</td>\n",
       "    </tr>\n",
       "  </tbody>\n",
       "</table>\n",
       "</div>"
      ],
      "text/plain": [
       "                   A         B         C         D\n",
       "2013-01-01 -0.438307 -1.357128 -1.539730 -1.177602\n",
       "2013-01-02 -0.509621 -0.335400 -0.297319 -1.151909\n",
       "2013-01-03  0.086955 -0.229214 -1.445995  0.975162\n",
       "2013-01-04  1.627132  0.123275  1.134978 -1.032749\n",
       "2013-01-05 -1.173974 -0.092968  1.943073  1.290428\n",
       "2013-01-06  0.182393 -0.398206 -0.171601 -0.160129"
      ]
     },
     "execution_count": 53,
     "metadata": {},
     "output_type": "execute_result"
    }
   ],
   "source": [
    "df"
   ]
  },
  {
   "cell_type": "markdown",
   "id": "a236c9e7-54c9-4d32-80dc-913927874ffb",
   "metadata": {},
   "source": [
    "## isin\n",
    "* 값이 참이면 출력"
   ]
  },
  {
   "cell_type": "code",
   "execution_count": 54,
   "id": "a1a52a2c-e429-4176-86e0-6aca22e0d7ef",
   "metadata": {},
   "outputs": [
    {
     "data": {
      "text/html": [
       "<div>\n",
       "<style scoped>\n",
       "    .dataframe tbody tr th:only-of-type {\n",
       "        vertical-align: middle;\n",
       "    }\n",
       "\n",
       "    .dataframe tbody tr th {\n",
       "        vertical-align: top;\n",
       "    }\n",
       "\n",
       "    .dataframe thead th {\n",
       "        text-align: right;\n",
       "    }\n",
       "</style>\n",
       "<table border=\"1\" class=\"dataframe\">\n",
       "  <thead>\n",
       "    <tr style=\"text-align: right;\">\n",
       "      <th></th>\n",
       "      <th>A</th>\n",
       "      <th>B</th>\n",
       "      <th>C</th>\n",
       "      <th>D</th>\n",
       "      <th>E</th>\n",
       "    </tr>\n",
       "  </thead>\n",
       "  <tbody>\n",
       "    <tr>\n",
       "      <th>2013-01-01</th>\n",
       "      <td>-0.438307</td>\n",
       "      <td>-1.357128</td>\n",
       "      <td>-1.539730</td>\n",
       "      <td>-1.177602</td>\n",
       "      <td>one</td>\n",
       "    </tr>\n",
       "    <tr>\n",
       "      <th>2013-01-02</th>\n",
       "      <td>-0.509621</td>\n",
       "      <td>-0.335400</td>\n",
       "      <td>-0.297319</td>\n",
       "      <td>-1.151909</td>\n",
       "      <td>one</td>\n",
       "    </tr>\n",
       "    <tr>\n",
       "      <th>2013-01-03</th>\n",
       "      <td>0.086955</td>\n",
       "      <td>-0.229214</td>\n",
       "      <td>-1.445995</td>\n",
       "      <td>0.975162</td>\n",
       "      <td>two</td>\n",
       "    </tr>\n",
       "    <tr>\n",
       "      <th>2013-01-04</th>\n",
       "      <td>1.627132</td>\n",
       "      <td>0.123275</td>\n",
       "      <td>1.134978</td>\n",
       "      <td>-1.032749</td>\n",
       "      <td>three</td>\n",
       "    </tr>\n",
       "    <tr>\n",
       "      <th>2013-01-05</th>\n",
       "      <td>-1.173974</td>\n",
       "      <td>-0.092968</td>\n",
       "      <td>1.943073</td>\n",
       "      <td>1.290428</td>\n",
       "      <td>four</td>\n",
       "    </tr>\n",
       "    <tr>\n",
       "      <th>2013-01-06</th>\n",
       "      <td>0.182393</td>\n",
       "      <td>-0.398206</td>\n",
       "      <td>-0.171601</td>\n",
       "      <td>-0.160129</td>\n",
       "      <td>three</td>\n",
       "    </tr>\n",
       "  </tbody>\n",
       "</table>\n",
       "</div>"
      ],
      "text/plain": [
       "                   A         B         C         D      E\n",
       "2013-01-01 -0.438307 -1.357128 -1.539730 -1.177602    one\n",
       "2013-01-02 -0.509621 -0.335400 -0.297319 -1.151909    one\n",
       "2013-01-03  0.086955 -0.229214 -1.445995  0.975162    two\n",
       "2013-01-04  1.627132  0.123275  1.134978 -1.032749  three\n",
       "2013-01-05 -1.173974 -0.092968  1.943073  1.290428   four\n",
       "2013-01-06  0.182393 -0.398206 -0.171601 -0.160129  three"
      ]
     },
     "execution_count": 54,
     "metadata": {},
     "output_type": "execute_result"
    }
   ],
   "source": [
    "df2"
   ]
  },
  {
   "cell_type": "code",
   "execution_count": 56,
   "id": "48e50b40-39db-40d8-9e30-395b7c1b3878",
   "metadata": {},
   "outputs": [
    {
     "data": {
      "text/html": [
       "<div>\n",
       "<style scoped>\n",
       "    .dataframe tbody tr th:only-of-type {\n",
       "        vertical-align: middle;\n",
       "    }\n",
       "\n",
       "    .dataframe tbody tr th {\n",
       "        vertical-align: top;\n",
       "    }\n",
       "\n",
       "    .dataframe thead th {\n",
       "        text-align: right;\n",
       "    }\n",
       "</style>\n",
       "<table border=\"1\" class=\"dataframe\">\n",
       "  <thead>\n",
       "    <tr style=\"text-align: right;\">\n",
       "      <th></th>\n",
       "      <th>A</th>\n",
       "      <th>B</th>\n",
       "      <th>C</th>\n",
       "      <th>D</th>\n",
       "      <th>E</th>\n",
       "    </tr>\n",
       "  </thead>\n",
       "  <tbody>\n",
       "    <tr>\n",
       "      <th>2013-01-03</th>\n",
       "      <td>0.086955</td>\n",
       "      <td>-0.229214</td>\n",
       "      <td>-1.445995</td>\n",
       "      <td>0.975162</td>\n",
       "      <td>two</td>\n",
       "    </tr>\n",
       "    <tr>\n",
       "      <th>2013-01-05</th>\n",
       "      <td>-1.173974</td>\n",
       "      <td>-0.092968</td>\n",
       "      <td>1.943073</td>\n",
       "      <td>1.290428</td>\n",
       "      <td>four</td>\n",
       "    </tr>\n",
       "  </tbody>\n",
       "</table>\n",
       "</div>"
      ],
      "text/plain": [
       "                   A         B         C         D     E\n",
       "2013-01-03  0.086955 -0.229214 -1.445995  0.975162   two\n",
       "2013-01-05 -1.173974 -0.092968  1.943073  1.290428  four"
      ]
     },
     "execution_count": 56,
     "metadata": {},
     "output_type": "execute_result"
    }
   ],
   "source": [
    "df2[df2['E'].isin(['two', 'four'])]"
   ]
  },
  {
   "cell_type": "code",
   "execution_count": 57,
   "id": "6c1bff8f-65f8-4979-b4b6-6154be89d5d3",
   "metadata": {},
   "outputs": [
    {
     "data": {
      "text/html": [
       "<div>\n",
       "<style scoped>\n",
       "    .dataframe tbody tr th:only-of-type {\n",
       "        vertical-align: middle;\n",
       "    }\n",
       "\n",
       "    .dataframe tbody tr th {\n",
       "        vertical-align: top;\n",
       "    }\n",
       "\n",
       "    .dataframe thead th {\n",
       "        text-align: right;\n",
       "    }\n",
       "</style>\n",
       "<table border=\"1\" class=\"dataframe\">\n",
       "  <thead>\n",
       "    <tr style=\"text-align: right;\">\n",
       "      <th></th>\n",
       "      <th>A</th>\n",
       "      <th>B</th>\n",
       "      <th>C</th>\n",
       "      <th>D</th>\n",
       "      <th>E</th>\n",
       "    </tr>\n",
       "  </thead>\n",
       "  <tbody>\n",
       "    <tr>\n",
       "      <th>2013-01-03</th>\n",
       "      <td>0.086955</td>\n",
       "      <td>-0.229214</td>\n",
       "      <td>-1.445995</td>\n",
       "      <td>0.975162</td>\n",
       "      <td>two</td>\n",
       "    </tr>\n",
       "    <tr>\n",
       "      <th>2013-01-05</th>\n",
       "      <td>-1.173974</td>\n",
       "      <td>-0.092968</td>\n",
       "      <td>1.943073</td>\n",
       "      <td>1.290428</td>\n",
       "      <td>four</td>\n",
       "    </tr>\n",
       "  </tbody>\n",
       "</table>\n",
       "</div>"
      ],
      "text/plain": [
       "                   A         B         C         D     E\n",
       "2013-01-03  0.086955 -0.229214 -1.445995  0.975162   two\n",
       "2013-01-05 -1.173974 -0.092968  1.943073  1.290428  four"
      ]
     },
     "execution_count": 57,
     "metadata": {},
     "output_type": "execute_result"
    }
   ],
   "source": [
    "df2[(df2['E']=='two') | (df2['E']=='four')]"
   ]
  },
  {
   "cell_type": "markdown",
   "id": "1299597a-c8d4-4a5f-acb6-420b797436a7",
   "metadata": {},
   "source": [
    "## reindex\n",
    "* 인덱스를 새 인덱스로 덮어씌우고 내용을 채움"
   ]
  },
  {
   "cell_type": "code",
   "execution_count": 58,
   "id": "f833d8dc-1635-4b45-a476-69cb721804e1",
   "metadata": {},
   "outputs": [
    {
     "data": {
      "text/html": [
       "<div>\n",
       "<style scoped>\n",
       "    .dataframe tbody tr th:only-of-type {\n",
       "        vertical-align: middle;\n",
       "    }\n",
       "\n",
       "    .dataframe tbody tr th {\n",
       "        vertical-align: top;\n",
       "    }\n",
       "\n",
       "    .dataframe thead th {\n",
       "        text-align: right;\n",
       "    }\n",
       "</style>\n",
       "<table border=\"1\" class=\"dataframe\">\n",
       "  <thead>\n",
       "    <tr style=\"text-align: right;\">\n",
       "      <th></th>\n",
       "      <th>A</th>\n",
       "      <th>B</th>\n",
       "      <th>C</th>\n",
       "      <th>D</th>\n",
       "    </tr>\n",
       "  </thead>\n",
       "  <tbody>\n",
       "    <tr>\n",
       "      <th>2013-01-01</th>\n",
       "      <td>-0.438307</td>\n",
       "      <td>-1.357128</td>\n",
       "      <td>-1.539730</td>\n",
       "      <td>-1.177602</td>\n",
       "    </tr>\n",
       "    <tr>\n",
       "      <th>2013-01-02</th>\n",
       "      <td>-0.509621</td>\n",
       "      <td>-0.335400</td>\n",
       "      <td>-0.297319</td>\n",
       "      <td>-1.151909</td>\n",
       "    </tr>\n",
       "    <tr>\n",
       "      <th>2013-01-03</th>\n",
       "      <td>0.086955</td>\n",
       "      <td>-0.229214</td>\n",
       "      <td>-1.445995</td>\n",
       "      <td>0.975162</td>\n",
       "    </tr>\n",
       "    <tr>\n",
       "      <th>2013-01-04</th>\n",
       "      <td>1.627132</td>\n",
       "      <td>0.123275</td>\n",
       "      <td>1.134978</td>\n",
       "      <td>-1.032749</td>\n",
       "    </tr>\n",
       "    <tr>\n",
       "      <th>2013-01-05</th>\n",
       "      <td>-1.173974</td>\n",
       "      <td>-0.092968</td>\n",
       "      <td>1.943073</td>\n",
       "      <td>1.290428</td>\n",
       "    </tr>\n",
       "    <tr>\n",
       "      <th>2013-01-06</th>\n",
       "      <td>0.182393</td>\n",
       "      <td>-0.398206</td>\n",
       "      <td>-0.171601</td>\n",
       "      <td>-0.160129</td>\n",
       "    </tr>\n",
       "  </tbody>\n",
       "</table>\n",
       "</div>"
      ],
      "text/plain": [
       "                   A         B         C         D\n",
       "2013-01-01 -0.438307 -1.357128 -1.539730 -1.177602\n",
       "2013-01-02 -0.509621 -0.335400 -0.297319 -1.151909\n",
       "2013-01-03  0.086955 -0.229214 -1.445995  0.975162\n",
       "2013-01-04  1.627132  0.123275  1.134978 -1.032749\n",
       "2013-01-05 -1.173974 -0.092968  1.943073  1.290428\n",
       "2013-01-06  0.182393 -0.398206 -0.171601 -0.160129"
      ]
     },
     "execution_count": 58,
     "metadata": {},
     "output_type": "execute_result"
    }
   ],
   "source": [
    "df"
   ]
  },
  {
   "cell_type": "code",
   "execution_count": 61,
   "id": "4527b0a2-c2b1-4901-9efe-1cc8e3728213",
   "metadata": {},
   "outputs": [],
   "source": [
    "df1 = df.reindex(index=dates[0:4], columns=list(df.columns)+['E'])"
   ]
  },
  {
   "cell_type": "code",
   "execution_count": 62,
   "id": "6873a6a1-90e1-48b7-af49-290b3ba68881",
   "metadata": {},
   "outputs": [
    {
     "data": {
      "text/html": [
       "<div>\n",
       "<style scoped>\n",
       "    .dataframe tbody tr th:only-of-type {\n",
       "        vertical-align: middle;\n",
       "    }\n",
       "\n",
       "    .dataframe tbody tr th {\n",
       "        vertical-align: top;\n",
       "    }\n",
       "\n",
       "    .dataframe thead th {\n",
       "        text-align: right;\n",
       "    }\n",
       "</style>\n",
       "<table border=\"1\" class=\"dataframe\">\n",
       "  <thead>\n",
       "    <tr style=\"text-align: right;\">\n",
       "      <th></th>\n",
       "      <th>A</th>\n",
       "      <th>B</th>\n",
       "      <th>C</th>\n",
       "      <th>D</th>\n",
       "      <th>E</th>\n",
       "    </tr>\n",
       "  </thead>\n",
       "  <tbody>\n",
       "    <tr>\n",
       "      <th>2013-01-01</th>\n",
       "      <td>-0.438307</td>\n",
       "      <td>-1.357128</td>\n",
       "      <td>-1.539730</td>\n",
       "      <td>-1.177602</td>\n",
       "      <td>NaN</td>\n",
       "    </tr>\n",
       "    <tr>\n",
       "      <th>2013-01-02</th>\n",
       "      <td>-0.509621</td>\n",
       "      <td>-0.335400</td>\n",
       "      <td>-0.297319</td>\n",
       "      <td>-1.151909</td>\n",
       "      <td>NaN</td>\n",
       "    </tr>\n",
       "    <tr>\n",
       "      <th>2013-01-03</th>\n",
       "      <td>0.086955</td>\n",
       "      <td>-0.229214</td>\n",
       "      <td>-1.445995</td>\n",
       "      <td>0.975162</td>\n",
       "      <td>NaN</td>\n",
       "    </tr>\n",
       "    <tr>\n",
       "      <th>2013-01-04</th>\n",
       "      <td>1.627132</td>\n",
       "      <td>0.123275</td>\n",
       "      <td>1.134978</td>\n",
       "      <td>-1.032749</td>\n",
       "      <td>NaN</td>\n",
       "    </tr>\n",
       "  </tbody>\n",
       "</table>\n",
       "</div>"
      ],
      "text/plain": [
       "                   A         B         C         D   E\n",
       "2013-01-01 -0.438307 -1.357128 -1.539730 -1.177602 NaN\n",
       "2013-01-02 -0.509621 -0.335400 -0.297319 -1.151909 NaN\n",
       "2013-01-03  0.086955 -0.229214 -1.445995  0.975162 NaN\n",
       "2013-01-04  1.627132  0.123275  1.134978 -1.032749 NaN"
      ]
     },
     "execution_count": 62,
     "metadata": {},
     "output_type": "execute_result"
    }
   ],
   "source": [
    "df1"
   ]
  },
  {
   "cell_type": "code",
   "execution_count": 63,
   "id": "a490a20c-2caa-4b52-870d-733c1e1b3505",
   "metadata": {},
   "outputs": [],
   "source": [
    "df1.loc[dates[0]:dates[1], 'E'] = 1"
   ]
  },
  {
   "cell_type": "code",
   "execution_count": 64,
   "id": "f29ec595-0548-4153-bae1-f17c337f0945",
   "metadata": {},
   "outputs": [
    {
     "data": {
      "text/html": [
       "<div>\n",
       "<style scoped>\n",
       "    .dataframe tbody tr th:only-of-type {\n",
       "        vertical-align: middle;\n",
       "    }\n",
       "\n",
       "    .dataframe tbody tr th {\n",
       "        vertical-align: top;\n",
       "    }\n",
       "\n",
       "    .dataframe thead th {\n",
       "        text-align: right;\n",
       "    }\n",
       "</style>\n",
       "<table border=\"1\" class=\"dataframe\">\n",
       "  <thead>\n",
       "    <tr style=\"text-align: right;\">\n",
       "      <th></th>\n",
       "      <th>A</th>\n",
       "      <th>B</th>\n",
       "      <th>C</th>\n",
       "      <th>D</th>\n",
       "      <th>E</th>\n",
       "    </tr>\n",
       "  </thead>\n",
       "  <tbody>\n",
       "    <tr>\n",
       "      <th>2013-01-01</th>\n",
       "      <td>-0.438307</td>\n",
       "      <td>-1.357128</td>\n",
       "      <td>-1.539730</td>\n",
       "      <td>-1.177602</td>\n",
       "      <td>1.0</td>\n",
       "    </tr>\n",
       "    <tr>\n",
       "      <th>2013-01-02</th>\n",
       "      <td>-0.509621</td>\n",
       "      <td>-0.335400</td>\n",
       "      <td>-0.297319</td>\n",
       "      <td>-1.151909</td>\n",
       "      <td>1.0</td>\n",
       "    </tr>\n",
       "    <tr>\n",
       "      <th>2013-01-03</th>\n",
       "      <td>0.086955</td>\n",
       "      <td>-0.229214</td>\n",
       "      <td>-1.445995</td>\n",
       "      <td>0.975162</td>\n",
       "      <td>NaN</td>\n",
       "    </tr>\n",
       "    <tr>\n",
       "      <th>2013-01-04</th>\n",
       "      <td>1.627132</td>\n",
       "      <td>0.123275</td>\n",
       "      <td>1.134978</td>\n",
       "      <td>-1.032749</td>\n",
       "      <td>NaN</td>\n",
       "    </tr>\n",
       "  </tbody>\n",
       "</table>\n",
       "</div>"
      ],
      "text/plain": [
       "                   A         B         C         D    E\n",
       "2013-01-01 -0.438307 -1.357128 -1.539730 -1.177602  1.0\n",
       "2013-01-02 -0.509621 -0.335400 -0.297319 -1.151909  1.0\n",
       "2013-01-03  0.086955 -0.229214 -1.445995  0.975162  NaN\n",
       "2013-01-04  1.627132  0.123275  1.134978 -1.032749  NaN"
      ]
     },
     "execution_count": 64,
     "metadata": {},
     "output_type": "execute_result"
    }
   ],
   "source": [
    "df1"
   ]
  },
  {
   "cell_type": "markdown",
   "id": "766e6e3e-2293-43b8-9bb2-8e399b658f67",
   "metadata": {},
   "source": [
    "## dropna\n",
    "* nan값이 있는 열과 행 제거"
   ]
  },
  {
   "cell_type": "code",
   "execution_count": 65,
   "id": "8465f1d3-1d69-4e73-bd5d-b7d2a93705c4",
   "metadata": {},
   "outputs": [
    {
     "data": {
      "text/html": [
       "<div>\n",
       "<style scoped>\n",
       "    .dataframe tbody tr th:only-of-type {\n",
       "        vertical-align: middle;\n",
       "    }\n",
       "\n",
       "    .dataframe tbody tr th {\n",
       "        vertical-align: top;\n",
       "    }\n",
       "\n",
       "    .dataframe thead th {\n",
       "        text-align: right;\n",
       "    }\n",
       "</style>\n",
       "<table border=\"1\" class=\"dataframe\">\n",
       "  <thead>\n",
       "    <tr style=\"text-align: right;\">\n",
       "      <th></th>\n",
       "      <th>A</th>\n",
       "      <th>B</th>\n",
       "      <th>C</th>\n",
       "      <th>D</th>\n",
       "      <th>E</th>\n",
       "    </tr>\n",
       "  </thead>\n",
       "  <tbody>\n",
       "    <tr>\n",
       "      <th>2013-01-01</th>\n",
       "      <td>-0.438307</td>\n",
       "      <td>-1.357128</td>\n",
       "      <td>-1.539730</td>\n",
       "      <td>-1.177602</td>\n",
       "      <td>1.0</td>\n",
       "    </tr>\n",
       "    <tr>\n",
       "      <th>2013-01-02</th>\n",
       "      <td>-0.509621</td>\n",
       "      <td>-0.335400</td>\n",
       "      <td>-0.297319</td>\n",
       "      <td>-1.151909</td>\n",
       "      <td>1.0</td>\n",
       "    </tr>\n",
       "    <tr>\n",
       "      <th>2013-01-03</th>\n",
       "      <td>0.086955</td>\n",
       "      <td>-0.229214</td>\n",
       "      <td>-1.445995</td>\n",
       "      <td>0.975162</td>\n",
       "      <td>NaN</td>\n",
       "    </tr>\n",
       "    <tr>\n",
       "      <th>2013-01-04</th>\n",
       "      <td>1.627132</td>\n",
       "      <td>0.123275</td>\n",
       "      <td>1.134978</td>\n",
       "      <td>-1.032749</td>\n",
       "      <td>NaN</td>\n",
       "    </tr>\n",
       "  </tbody>\n",
       "</table>\n",
       "</div>"
      ],
      "text/plain": [
       "                   A         B         C         D    E\n",
       "2013-01-01 -0.438307 -1.357128 -1.539730 -1.177602  1.0\n",
       "2013-01-02 -0.509621 -0.335400 -0.297319 -1.151909  1.0\n",
       "2013-01-03  0.086955 -0.229214 -1.445995  0.975162  NaN\n",
       "2013-01-04  1.627132  0.123275  1.134978 -1.032749  NaN"
      ]
     },
     "execution_count": 65,
     "metadata": {},
     "output_type": "execute_result"
    }
   ],
   "source": [
    "df1"
   ]
  },
  {
   "cell_type": "markdown",
   "id": "e1b6f7c1-fb71-46c4-9808-a0b55c72b33d",
   "metadata": {},
   "source": [
    "#### how='all' 삭제하려는 행 또는 열의 모든 값이 nan일 때 제거"
   ]
  },
  {
   "cell_type": "code",
   "execution_count": 66,
   "id": "0c5f5fae-462a-433c-bd84-6231cfc65126",
   "metadata": {},
   "outputs": [
    {
     "data": {
      "text/html": [
       "<div>\n",
       "<style scoped>\n",
       "    .dataframe tbody tr th:only-of-type {\n",
       "        vertical-align: middle;\n",
       "    }\n",
       "\n",
       "    .dataframe tbody tr th {\n",
       "        vertical-align: top;\n",
       "    }\n",
       "\n",
       "    .dataframe thead th {\n",
       "        text-align: right;\n",
       "    }\n",
       "</style>\n",
       "<table border=\"1\" class=\"dataframe\">\n",
       "  <thead>\n",
       "    <tr style=\"text-align: right;\">\n",
       "      <th></th>\n",
       "      <th>A</th>\n",
       "      <th>B</th>\n",
       "      <th>C</th>\n",
       "      <th>D</th>\n",
       "      <th>E</th>\n",
       "    </tr>\n",
       "  </thead>\n",
       "  <tbody>\n",
       "    <tr>\n",
       "      <th>2013-01-01</th>\n",
       "      <td>-0.438307</td>\n",
       "      <td>-1.357128</td>\n",
       "      <td>-1.539730</td>\n",
       "      <td>-1.177602</td>\n",
       "      <td>1.0</td>\n",
       "    </tr>\n",
       "    <tr>\n",
       "      <th>2013-01-02</th>\n",
       "      <td>-0.509621</td>\n",
       "      <td>-0.335400</td>\n",
       "      <td>-0.297319</td>\n",
       "      <td>-1.151909</td>\n",
       "      <td>1.0</td>\n",
       "    </tr>\n",
       "    <tr>\n",
       "      <th>2013-01-03</th>\n",
       "      <td>0.086955</td>\n",
       "      <td>-0.229214</td>\n",
       "      <td>-1.445995</td>\n",
       "      <td>0.975162</td>\n",
       "      <td>NaN</td>\n",
       "    </tr>\n",
       "    <tr>\n",
       "      <th>2013-01-04</th>\n",
       "      <td>1.627132</td>\n",
       "      <td>0.123275</td>\n",
       "      <td>1.134978</td>\n",
       "      <td>-1.032749</td>\n",
       "      <td>NaN</td>\n",
       "    </tr>\n",
       "  </tbody>\n",
       "</table>\n",
       "</div>"
      ],
      "text/plain": [
       "                   A         B         C         D    E\n",
       "2013-01-01 -0.438307 -1.357128 -1.539730 -1.177602  1.0\n",
       "2013-01-02 -0.509621 -0.335400 -0.297319 -1.151909  1.0\n",
       "2013-01-03  0.086955 -0.229214 -1.445995  0.975162  NaN\n",
       "2013-01-04  1.627132  0.123275  1.134978 -1.032749  NaN"
      ]
     },
     "execution_count": 66,
     "metadata": {},
     "output_type": "execute_result"
    }
   ],
   "source": [
    "df1.dropna(how='all', axis=0)"
   ]
  },
  {
   "cell_type": "markdown",
   "id": "b3421b9e-68c0-4727-820c-fb71c5939d38",
   "metadata": {},
   "source": [
    "#### how='any' 삭제하려는 행 또는 열 중에서 nan값이 하나라도 있으면 제거"
   ]
  },
  {
   "cell_type": "code",
   "execution_count": 67,
   "id": "27aa36af-5f24-43b2-9d3b-1b042bd01e0f",
   "metadata": {},
   "outputs": [
    {
     "data": {
      "text/html": [
       "<div>\n",
       "<style scoped>\n",
       "    .dataframe tbody tr th:only-of-type {\n",
       "        vertical-align: middle;\n",
       "    }\n",
       "\n",
       "    .dataframe tbody tr th {\n",
       "        vertical-align: top;\n",
       "    }\n",
       "\n",
       "    .dataframe thead th {\n",
       "        text-align: right;\n",
       "    }\n",
       "</style>\n",
       "<table border=\"1\" class=\"dataframe\">\n",
       "  <thead>\n",
       "    <tr style=\"text-align: right;\">\n",
       "      <th></th>\n",
       "      <th>A</th>\n",
       "      <th>B</th>\n",
       "      <th>C</th>\n",
       "      <th>D</th>\n",
       "      <th>E</th>\n",
       "    </tr>\n",
       "  </thead>\n",
       "  <tbody>\n",
       "    <tr>\n",
       "      <th>2013-01-01</th>\n",
       "      <td>-0.438307</td>\n",
       "      <td>-1.357128</td>\n",
       "      <td>-1.539730</td>\n",
       "      <td>-1.177602</td>\n",
       "      <td>1.0</td>\n",
       "    </tr>\n",
       "    <tr>\n",
       "      <th>2013-01-02</th>\n",
       "      <td>-0.509621</td>\n",
       "      <td>-0.335400</td>\n",
       "      <td>-0.297319</td>\n",
       "      <td>-1.151909</td>\n",
       "      <td>1.0</td>\n",
       "    </tr>\n",
       "  </tbody>\n",
       "</table>\n",
       "</div>"
      ],
      "text/plain": [
       "                   A         B         C         D    E\n",
       "2013-01-01 -0.438307 -1.357128 -1.539730 -1.177602  1.0\n",
       "2013-01-02 -0.509621 -0.335400 -0.297319 -1.151909  1.0"
      ]
     },
     "execution_count": 67,
     "metadata": {},
     "output_type": "execute_result"
    }
   ],
   "source": [
    "df1.dropna(how='any', axis=0)"
   ]
  },
  {
   "cell_type": "code",
   "execution_count": 69,
   "id": "2737a3bc-c6e9-4cff-9ff0-3ecb7d916ba8",
   "metadata": {},
   "outputs": [
    {
     "data": {
      "text/html": [
       "<div>\n",
       "<style scoped>\n",
       "    .dataframe tbody tr th:only-of-type {\n",
       "        vertical-align: middle;\n",
       "    }\n",
       "\n",
       "    .dataframe tbody tr th {\n",
       "        vertical-align: top;\n",
       "    }\n",
       "\n",
       "    .dataframe thead th {\n",
       "        text-align: right;\n",
       "    }\n",
       "</style>\n",
       "<table border=\"1\" class=\"dataframe\">\n",
       "  <thead>\n",
       "    <tr style=\"text-align: right;\">\n",
       "      <th></th>\n",
       "      <th>A</th>\n",
       "      <th>B</th>\n",
       "      <th>C</th>\n",
       "      <th>D</th>\n",
       "    </tr>\n",
       "  </thead>\n",
       "  <tbody>\n",
       "    <tr>\n",
       "      <th>2013-01-01</th>\n",
       "      <td>-0.438307</td>\n",
       "      <td>-1.357128</td>\n",
       "      <td>-1.539730</td>\n",
       "      <td>-1.177602</td>\n",
       "    </tr>\n",
       "    <tr>\n",
       "      <th>2013-01-02</th>\n",
       "      <td>-0.509621</td>\n",
       "      <td>-0.335400</td>\n",
       "      <td>-0.297319</td>\n",
       "      <td>-1.151909</td>\n",
       "    </tr>\n",
       "    <tr>\n",
       "      <th>2013-01-03</th>\n",
       "      <td>0.086955</td>\n",
       "      <td>-0.229214</td>\n",
       "      <td>-1.445995</td>\n",
       "      <td>0.975162</td>\n",
       "    </tr>\n",
       "    <tr>\n",
       "      <th>2013-01-04</th>\n",
       "      <td>1.627132</td>\n",
       "      <td>0.123275</td>\n",
       "      <td>1.134978</td>\n",
       "      <td>-1.032749</td>\n",
       "    </tr>\n",
       "  </tbody>\n",
       "</table>\n",
       "</div>"
      ],
      "text/plain": [
       "                   A         B         C         D\n",
       "2013-01-01 -0.438307 -1.357128 -1.539730 -1.177602\n",
       "2013-01-02 -0.509621 -0.335400 -0.297319 -1.151909\n",
       "2013-01-03  0.086955 -0.229214 -1.445995  0.975162\n",
       "2013-01-04  1.627132  0.123275  1.134978 -1.032749"
      ]
     },
     "execution_count": 69,
     "metadata": {},
     "output_type": "execute_result"
    }
   ],
   "source": [
    "df1.dropna(how='any', axis=1)"
   ]
  },
  {
   "cell_type": "code",
   "execution_count": 71,
   "id": "4bd9c275-a583-4cc2-ab6e-98341b3c2139",
   "metadata": {},
   "outputs": [
    {
     "data": {
      "text/html": [
       "<div>\n",
       "<style scoped>\n",
       "    .dataframe tbody tr th:only-of-type {\n",
       "        vertical-align: middle;\n",
       "    }\n",
       "\n",
       "    .dataframe tbody tr th {\n",
       "        vertical-align: top;\n",
       "    }\n",
       "\n",
       "    .dataframe thead th {\n",
       "        text-align: right;\n",
       "    }\n",
       "</style>\n",
       "<table border=\"1\" class=\"dataframe\">\n",
       "  <thead>\n",
       "    <tr style=\"text-align: right;\">\n",
       "      <th></th>\n",
       "      <th>A</th>\n",
       "      <th>B</th>\n",
       "      <th>C</th>\n",
       "      <th>D</th>\n",
       "      <th>E</th>\n",
       "    </tr>\n",
       "  </thead>\n",
       "  <tbody>\n",
       "    <tr>\n",
       "      <th>2013-01-01</th>\n",
       "      <td>-0.438307</td>\n",
       "      <td>-1.357128</td>\n",
       "      <td>-1.539730</td>\n",
       "      <td>-1.177602</td>\n",
       "      <td>NaN</td>\n",
       "    </tr>\n",
       "    <tr>\n",
       "      <th>2013-01-02</th>\n",
       "      <td>-0.509621</td>\n",
       "      <td>-0.335400</td>\n",
       "      <td>-0.297319</td>\n",
       "      <td>-1.151909</td>\n",
       "      <td>NaN</td>\n",
       "    </tr>\n",
       "    <tr>\n",
       "      <th>2013-01-03</th>\n",
       "      <td>0.086955</td>\n",
       "      <td>-0.229214</td>\n",
       "      <td>-1.445995</td>\n",
       "      <td>0.975162</td>\n",
       "      <td>NaN</td>\n",
       "    </tr>\n",
       "    <tr>\n",
       "      <th>2013-01-04</th>\n",
       "      <td>1.627132</td>\n",
       "      <td>0.123275</td>\n",
       "      <td>1.134978</td>\n",
       "      <td>-1.032749</td>\n",
       "      <td>NaN</td>\n",
       "    </tr>\n",
       "  </tbody>\n",
       "</table>\n",
       "</div>"
      ],
      "text/plain": [
       "                   A         B         C         D   E\n",
       "2013-01-01 -0.438307 -1.357128 -1.539730 -1.177602 NaN\n",
       "2013-01-02 -0.509621 -0.335400 -0.297319 -1.151909 NaN\n",
       "2013-01-03  0.086955 -0.229214 -1.445995  0.975162 NaN\n",
       "2013-01-04  1.627132  0.123275  1.134978 -1.032749 NaN"
      ]
     },
     "execution_count": 71,
     "metadata": {},
     "output_type": "execute_result"
    }
   ],
   "source": [
    "df1 = df.reindex(index=dates[0:4],\n",
    "                 columns=list(df.columns)+[\"E\"])\n",
    "df1"
   ]
  },
  {
   "cell_type": "code",
   "execution_count": 72,
   "id": "c11b1f49-25cf-44b4-aa3b-b02b6687d7d1",
   "metadata": {},
   "outputs": [
    {
     "data": {
      "text/html": [
       "<div>\n",
       "<style scoped>\n",
       "    .dataframe tbody tr th:only-of-type {\n",
       "        vertical-align: middle;\n",
       "    }\n",
       "\n",
       "    .dataframe tbody tr th {\n",
       "        vertical-align: top;\n",
       "    }\n",
       "\n",
       "    .dataframe thead th {\n",
       "        text-align: right;\n",
       "    }\n",
       "</style>\n",
       "<table border=\"1\" class=\"dataframe\">\n",
       "  <thead>\n",
       "    <tr style=\"text-align: right;\">\n",
       "      <th></th>\n",
       "      <th>A</th>\n",
       "      <th>B</th>\n",
       "      <th>C</th>\n",
       "      <th>D</th>\n",
       "    </tr>\n",
       "  </thead>\n",
       "  <tbody>\n",
       "    <tr>\n",
       "      <th>2013-01-01</th>\n",
       "      <td>-0.438307</td>\n",
       "      <td>-1.357128</td>\n",
       "      <td>-1.539730</td>\n",
       "      <td>-1.177602</td>\n",
       "    </tr>\n",
       "    <tr>\n",
       "      <th>2013-01-02</th>\n",
       "      <td>-0.509621</td>\n",
       "      <td>-0.335400</td>\n",
       "      <td>-0.297319</td>\n",
       "      <td>-1.151909</td>\n",
       "    </tr>\n",
       "    <tr>\n",
       "      <th>2013-01-03</th>\n",
       "      <td>0.086955</td>\n",
       "      <td>-0.229214</td>\n",
       "      <td>-1.445995</td>\n",
       "      <td>0.975162</td>\n",
       "    </tr>\n",
       "    <tr>\n",
       "      <th>2013-01-04</th>\n",
       "      <td>1.627132</td>\n",
       "      <td>0.123275</td>\n",
       "      <td>1.134978</td>\n",
       "      <td>-1.032749</td>\n",
       "    </tr>\n",
       "  </tbody>\n",
       "</table>\n",
       "</div>"
      ],
      "text/plain": [
       "                   A         B         C         D\n",
       "2013-01-01 -0.438307 -1.357128 -1.539730 -1.177602\n",
       "2013-01-02 -0.509621 -0.335400 -0.297319 -1.151909\n",
       "2013-01-03  0.086955 -0.229214 -1.445995  0.975162\n",
       "2013-01-04  1.627132  0.123275  1.134978 -1.032749"
      ]
     },
     "execution_count": 72,
     "metadata": {},
     "output_type": "execute_result"
    }
   ],
   "source": [
    "df1.dropna(how='any', axis=1)"
   ]
  },
  {
   "cell_type": "raw",
   "id": "b9aa2a62-010a-42b9-9acf-408e07605e3e",
   "metadata": {},
   "source": [
    "axis = 0 -> index방향, axis = 1 -> columns방향"
   ]
  },
  {
   "cell_type": "markdown",
   "id": "8f8a5cde-fbb5-4426-8ec8-53af5bab6979",
   "metadata": {},
   "source": [
    "## fillna\n",
    "* 원하는 값으로 값 채우기"
   ]
  },
  {
   "cell_type": "code",
   "execution_count": 73,
   "id": "a771ab3c-8c0f-4a78-a611-012bacca6081",
   "metadata": {},
   "outputs": [
    {
     "data": {
      "text/html": [
       "<div>\n",
       "<style scoped>\n",
       "    .dataframe tbody tr th:only-of-type {\n",
       "        vertical-align: middle;\n",
       "    }\n",
       "\n",
       "    .dataframe tbody tr th {\n",
       "        vertical-align: top;\n",
       "    }\n",
       "\n",
       "    .dataframe thead th {\n",
       "        text-align: right;\n",
       "    }\n",
       "</style>\n",
       "<table border=\"1\" class=\"dataframe\">\n",
       "  <thead>\n",
       "    <tr style=\"text-align: right;\">\n",
       "      <th></th>\n",
       "      <th>A</th>\n",
       "      <th>B</th>\n",
       "      <th>C</th>\n",
       "      <th>D</th>\n",
       "      <th>E</th>\n",
       "    </tr>\n",
       "  </thead>\n",
       "  <tbody>\n",
       "    <tr>\n",
       "      <th>2013-01-01</th>\n",
       "      <td>-0.438307</td>\n",
       "      <td>-1.357128</td>\n",
       "      <td>-1.539730</td>\n",
       "      <td>-1.177602</td>\n",
       "      <td>1.0</td>\n",
       "    </tr>\n",
       "    <tr>\n",
       "      <th>2013-01-02</th>\n",
       "      <td>-0.509621</td>\n",
       "      <td>-0.335400</td>\n",
       "      <td>-0.297319</td>\n",
       "      <td>-1.151909</td>\n",
       "      <td>1.0</td>\n",
       "    </tr>\n",
       "    <tr>\n",
       "      <th>2013-01-03</th>\n",
       "      <td>0.086955</td>\n",
       "      <td>-0.229214</td>\n",
       "      <td>-1.445995</td>\n",
       "      <td>0.975162</td>\n",
       "      <td>NaN</td>\n",
       "    </tr>\n",
       "    <tr>\n",
       "      <th>2013-01-04</th>\n",
       "      <td>1.627132</td>\n",
       "      <td>0.123275</td>\n",
       "      <td>1.134978</td>\n",
       "      <td>-1.032749</td>\n",
       "      <td>NaN</td>\n",
       "    </tr>\n",
       "  </tbody>\n",
       "</table>\n",
       "</div>"
      ],
      "text/plain": [
       "                   A         B         C         D    E\n",
       "2013-01-01 -0.438307 -1.357128 -1.539730 -1.177602  1.0\n",
       "2013-01-02 -0.509621 -0.335400 -0.297319 -1.151909  1.0\n",
       "2013-01-03  0.086955 -0.229214 -1.445995  0.975162  NaN\n",
       "2013-01-04  1.627132  0.123275  1.134978 -1.032749  NaN"
      ]
     },
     "execution_count": 73,
     "metadata": {},
     "output_type": "execute_result"
    }
   ],
   "source": [
    "df1 = df.reindex(index=dates[0:4],\n",
    "                 columns=list(df.columns)+[\"E\"])\n",
    "df1.loc[dates[0]:dates[1],'E']=1\n",
    "df1"
   ]
  },
  {
   "cell_type": "code",
   "execution_count": 74,
   "id": "16552c78-4f80-4482-a600-f1003e050e4c",
   "metadata": {},
   "outputs": [
    {
     "data": {
      "text/plain": [
       "1.0"
      ]
     },
     "execution_count": 74,
     "metadata": {},
     "output_type": "execute_result"
    }
   ],
   "source": [
    "df1['E'].mean()"
   ]
  },
  {
   "cell_type": "code",
   "execution_count": 75,
   "id": "6994312e-6fe2-4892-bcef-5f8ecb7a346b",
   "metadata": {},
   "outputs": [
    {
     "data": {
      "text/html": [
       "<div>\n",
       "<style scoped>\n",
       "    .dataframe tbody tr th:only-of-type {\n",
       "        vertical-align: middle;\n",
       "    }\n",
       "\n",
       "    .dataframe tbody tr th {\n",
       "        vertical-align: top;\n",
       "    }\n",
       "\n",
       "    .dataframe thead th {\n",
       "        text-align: right;\n",
       "    }\n",
       "</style>\n",
       "<table border=\"1\" class=\"dataframe\">\n",
       "  <thead>\n",
       "    <tr style=\"text-align: right;\">\n",
       "      <th></th>\n",
       "      <th>A</th>\n",
       "      <th>B</th>\n",
       "      <th>C</th>\n",
       "      <th>D</th>\n",
       "      <th>E</th>\n",
       "    </tr>\n",
       "  </thead>\n",
       "  <tbody>\n",
       "    <tr>\n",
       "      <th>2013-01-01</th>\n",
       "      <td>-0.438307</td>\n",
       "      <td>-1.357128</td>\n",
       "      <td>-1.539730</td>\n",
       "      <td>-1.177602</td>\n",
       "      <td>1.0</td>\n",
       "    </tr>\n",
       "    <tr>\n",
       "      <th>2013-01-02</th>\n",
       "      <td>-0.509621</td>\n",
       "      <td>-0.335400</td>\n",
       "      <td>-0.297319</td>\n",
       "      <td>-1.151909</td>\n",
       "      <td>1.0</td>\n",
       "    </tr>\n",
       "    <tr>\n",
       "      <th>2013-01-03</th>\n",
       "      <td>0.086955</td>\n",
       "      <td>-0.229214</td>\n",
       "      <td>-1.445995</td>\n",
       "      <td>0.975162</td>\n",
       "      <td>1.0</td>\n",
       "    </tr>\n",
       "    <tr>\n",
       "      <th>2013-01-04</th>\n",
       "      <td>1.627132</td>\n",
       "      <td>0.123275</td>\n",
       "      <td>1.134978</td>\n",
       "      <td>-1.032749</td>\n",
       "      <td>1.0</td>\n",
       "    </tr>\n",
       "  </tbody>\n",
       "</table>\n",
       "</div>"
      ],
      "text/plain": [
       "                   A         B         C         D    E\n",
       "2013-01-01 -0.438307 -1.357128 -1.539730 -1.177602  1.0\n",
       "2013-01-02 -0.509621 -0.335400 -0.297319 -1.151909  1.0\n",
       "2013-01-03  0.086955 -0.229214 -1.445995  0.975162  1.0\n",
       "2013-01-04  1.627132  0.123275  1.134978 -1.032749  1.0"
      ]
     },
     "execution_count": 75,
     "metadata": {},
     "output_type": "execute_result"
    }
   ],
   "source": [
    "df1.fillna(df1.mean())"
   ]
  },
  {
   "cell_type": "code",
   "execution_count": 76,
   "id": "939eaae4-ae49-443a-b18d-2fa89f05b17c",
   "metadata": {},
   "outputs": [
    {
     "data": {
      "text/html": [
       "<div>\n",
       "<style scoped>\n",
       "    .dataframe tbody tr th:only-of-type {\n",
       "        vertical-align: middle;\n",
       "    }\n",
       "\n",
       "    .dataframe tbody tr th {\n",
       "        vertical-align: top;\n",
       "    }\n",
       "\n",
       "    .dataframe thead th {\n",
       "        text-align: right;\n",
       "    }\n",
       "</style>\n",
       "<table border=\"1\" class=\"dataframe\">\n",
       "  <thead>\n",
       "    <tr style=\"text-align: right;\">\n",
       "      <th></th>\n",
       "      <th>A</th>\n",
       "      <th>B</th>\n",
       "      <th>C</th>\n",
       "      <th>D</th>\n",
       "      <th>E</th>\n",
       "    </tr>\n",
       "  </thead>\n",
       "  <tbody>\n",
       "    <tr>\n",
       "      <th>2013-01-01</th>\n",
       "      <td>NaN</td>\n",
       "      <td>-1.357128</td>\n",
       "      <td>-1.539730</td>\n",
       "      <td>-1.177602</td>\n",
       "      <td>1.0</td>\n",
       "    </tr>\n",
       "    <tr>\n",
       "      <th>2013-01-02</th>\n",
       "      <td>-0.509621</td>\n",
       "      <td>NaN</td>\n",
       "      <td>-0.297319</td>\n",
       "      <td>NaN</td>\n",
       "      <td>1.0</td>\n",
       "    </tr>\n",
       "    <tr>\n",
       "      <th>2013-01-03</th>\n",
       "      <td>0.086955</td>\n",
       "      <td>-0.229214</td>\n",
       "      <td>-1.445995</td>\n",
       "      <td>0.975162</td>\n",
       "      <td>NaN</td>\n",
       "    </tr>\n",
       "    <tr>\n",
       "      <th>2013-01-04</th>\n",
       "      <td>1.627132</td>\n",
       "      <td>0.123275</td>\n",
       "      <td>NaN</td>\n",
       "      <td>-1.032749</td>\n",
       "      <td>NaN</td>\n",
       "    </tr>\n",
       "  </tbody>\n",
       "</table>\n",
       "</div>"
      ],
      "text/plain": [
       "                   A         B         C         D    E\n",
       "2013-01-01       NaN -1.357128 -1.539730 -1.177602  1.0\n",
       "2013-01-02 -0.509621       NaN -0.297319       NaN  1.0\n",
       "2013-01-03  0.086955 -0.229214 -1.445995  0.975162  NaN\n",
       "2013-01-04  1.627132  0.123275       NaN -1.032749  NaN"
      ]
     },
     "execution_count": 76,
     "metadata": {},
     "output_type": "execute_result"
    }
   ],
   "source": [
    "df1 = df.reindex(index=dates[0:4],\n",
    "                 columns=list(df.columns)+[\"E\"])\n",
    "df1.loc[dates[0]:dates[1],'E']=1\n",
    "df1.loc[dates[0], 'A']=np.nan\n",
    "df1.loc[dates[1], 'B']=np.nan\n",
    "df1.loc[dates[3], 'C']=np.nan\n",
    "df1.loc[dates[1], 'D']=np.nan\n",
    "df1"
   ]
  },
  {
   "cell_type": "code",
   "execution_count": 77,
   "id": "23c1ef50-fb75-48c3-8f2a-cb2450883296",
   "metadata": {},
   "outputs": [
    {
     "data": {
      "text/plain": [
       "A    0.401489\n",
       "B   -0.487689\n",
       "C   -1.094348\n",
       "D   -0.411730\n",
       "E    1.000000\n",
       "dtype: float64"
      ]
     },
     "execution_count": 77,
     "metadata": {},
     "output_type": "execute_result"
    }
   ],
   "source": [
    "df1.mean()"
   ]
  },
  {
   "cell_type": "code",
   "execution_count": 78,
   "id": "ff40ae64-2eec-4781-8597-a6383a870156",
   "metadata": {},
   "outputs": [
    {
     "data": {
      "text/html": [
       "<div>\n",
       "<style scoped>\n",
       "    .dataframe tbody tr th:only-of-type {\n",
       "        vertical-align: middle;\n",
       "    }\n",
       "\n",
       "    .dataframe tbody tr th {\n",
       "        vertical-align: top;\n",
       "    }\n",
       "\n",
       "    .dataframe thead th {\n",
       "        text-align: right;\n",
       "    }\n",
       "</style>\n",
       "<table border=\"1\" class=\"dataframe\">\n",
       "  <thead>\n",
       "    <tr style=\"text-align: right;\">\n",
       "      <th></th>\n",
       "      <th>A</th>\n",
       "      <th>B</th>\n",
       "      <th>C</th>\n",
       "      <th>D</th>\n",
       "      <th>E</th>\n",
       "    </tr>\n",
       "  </thead>\n",
       "  <tbody>\n",
       "    <tr>\n",
       "      <th>2013-01-01</th>\n",
       "      <td>0.401489</td>\n",
       "      <td>-1.357128</td>\n",
       "      <td>-1.539730</td>\n",
       "      <td>-1.177602</td>\n",
       "      <td>1.0</td>\n",
       "    </tr>\n",
       "    <tr>\n",
       "      <th>2013-01-02</th>\n",
       "      <td>-0.509621</td>\n",
       "      <td>-0.487689</td>\n",
       "      <td>-0.297319</td>\n",
       "      <td>-0.411730</td>\n",
       "      <td>1.0</td>\n",
       "    </tr>\n",
       "    <tr>\n",
       "      <th>2013-01-03</th>\n",
       "      <td>0.086955</td>\n",
       "      <td>-0.229214</td>\n",
       "      <td>-1.445995</td>\n",
       "      <td>0.975162</td>\n",
       "      <td>1.0</td>\n",
       "    </tr>\n",
       "    <tr>\n",
       "      <th>2013-01-04</th>\n",
       "      <td>1.627132</td>\n",
       "      <td>0.123275</td>\n",
       "      <td>-1.094348</td>\n",
       "      <td>-1.032749</td>\n",
       "      <td>1.0</td>\n",
       "    </tr>\n",
       "  </tbody>\n",
       "</table>\n",
       "</div>"
      ],
      "text/plain": [
       "                   A         B         C         D    E\n",
       "2013-01-01  0.401489 -1.357128 -1.539730 -1.177602  1.0\n",
       "2013-01-02 -0.509621 -0.487689 -0.297319 -0.411730  1.0\n",
       "2013-01-03  0.086955 -0.229214 -1.445995  0.975162  1.0\n",
       "2013-01-04  1.627132  0.123275 -1.094348 -1.032749  1.0"
      ]
     },
     "execution_count": 78,
     "metadata": {},
     "output_type": "execute_result"
    }
   ],
   "source": [
    "df1.fillna(df1.mean())"
   ]
  },
  {
   "cell_type": "markdown",
   "id": "20720616-24ac-4854-a0f7-e73c3a4b6582",
   "metadata": {},
   "source": [
    "# operations\n",
    "## mean(평균)/ std(표준편차)/ var(분산)/ max/ min/ median"
   ]
  },
  {
   "cell_type": "code",
   "execution_count": 84,
   "id": "08bc0ba2-63b1-4bb9-94cb-5e46bf43da4f",
   "metadata": {},
   "outputs": [
    {
     "data": {
      "text/html": [
       "<div>\n",
       "<style scoped>\n",
       "    .dataframe tbody tr th:only-of-type {\n",
       "        vertical-align: middle;\n",
       "    }\n",
       "\n",
       "    .dataframe tbody tr th {\n",
       "        vertical-align: top;\n",
       "    }\n",
       "\n",
       "    .dataframe thead th {\n",
       "        text-align: right;\n",
       "    }\n",
       "</style>\n",
       "<table border=\"1\" class=\"dataframe\">\n",
       "  <thead>\n",
       "    <tr style=\"text-align: right;\">\n",
       "      <th></th>\n",
       "      <th>A</th>\n",
       "      <th>B</th>\n",
       "      <th>C</th>\n",
       "      <th>D</th>\n",
       "    </tr>\n",
       "  </thead>\n",
       "  <tbody>\n",
       "    <tr>\n",
       "      <th>2013-01-01</th>\n",
       "      <td>-0.438307</td>\n",
       "      <td>-1.357128</td>\n",
       "      <td>-1.539730</td>\n",
       "      <td>-1.177602</td>\n",
       "    </tr>\n",
       "    <tr>\n",
       "      <th>2013-01-02</th>\n",
       "      <td>-0.509621</td>\n",
       "      <td>-0.335400</td>\n",
       "      <td>-0.297319</td>\n",
       "      <td>-1.151909</td>\n",
       "    </tr>\n",
       "    <tr>\n",
       "      <th>2013-01-03</th>\n",
       "      <td>0.086955</td>\n",
       "      <td>-0.229214</td>\n",
       "      <td>-1.445995</td>\n",
       "      <td>0.975162</td>\n",
       "    </tr>\n",
       "    <tr>\n",
       "      <th>2013-01-04</th>\n",
       "      <td>1.627132</td>\n",
       "      <td>0.123275</td>\n",
       "      <td>1.134978</td>\n",
       "      <td>-1.032749</td>\n",
       "    </tr>\n",
       "    <tr>\n",
       "      <th>2013-01-05</th>\n",
       "      <td>-1.173974</td>\n",
       "      <td>-0.092968</td>\n",
       "      <td>1.943073</td>\n",
       "      <td>1.290428</td>\n",
       "    </tr>\n",
       "    <tr>\n",
       "      <th>2013-01-06</th>\n",
       "      <td>0.182393</td>\n",
       "      <td>-0.398206</td>\n",
       "      <td>-0.171601</td>\n",
       "      <td>-0.160129</td>\n",
       "    </tr>\n",
       "  </tbody>\n",
       "</table>\n",
       "</div>"
      ],
      "text/plain": [
       "                   A         B         C         D\n",
       "2013-01-01 -0.438307 -1.357128 -1.539730 -1.177602\n",
       "2013-01-02 -0.509621 -0.335400 -0.297319 -1.151909\n",
       "2013-01-03  0.086955 -0.229214 -1.445995  0.975162\n",
       "2013-01-04  1.627132  0.123275  1.134978 -1.032749\n",
       "2013-01-05 -1.173974 -0.092968  1.943073  1.290428\n",
       "2013-01-06  0.182393 -0.398206 -0.171601 -0.160129"
      ]
     },
     "execution_count": 84,
     "metadata": {},
     "output_type": "execute_result"
    }
   ],
   "source": [
    "df"
   ]
  },
  {
   "cell_type": "markdown",
   "id": "4eaa2276-4973-444a-ae71-47cf5b714198",
   "metadata": {},
   "source": [
    "#### mean(0) -> 열(columns)기준"
   ]
  },
  {
   "cell_type": "code",
   "execution_count": 85,
   "id": "24a190c9-09aa-4e2b-8878-0753eb4c1227",
   "metadata": {},
   "outputs": [
    {
     "data": {
      "text/plain": [
       "A   -0.037570\n",
       "B   -0.381607\n",
       "C   -0.062766\n",
       "D   -0.209467\n",
       "dtype: float64"
      ]
     },
     "execution_count": 85,
     "metadata": {},
     "output_type": "execute_result"
    }
   ],
   "source": [
    "df.mean()"
   ]
  },
  {
   "cell_type": "markdown",
   "id": "0c612ddc-2f47-4537-a83d-480a68684855",
   "metadata": {},
   "source": [
    "#### mean(1) -> 행(index)기준"
   ]
  },
  {
   "cell_type": "code",
   "execution_count": 86,
   "id": "1e68b7f3-85ce-4ca5-93d7-0f72539b595d",
   "metadata": {},
   "outputs": [
    {
     "data": {
      "text/plain": [
       "2013-01-01   -1.128192\n",
       "2013-01-02   -0.573562\n",
       "2013-01-03   -0.153273\n",
       "2013-01-04    0.463159\n",
       "2013-01-05    0.491640\n",
       "2013-01-06   -0.136886\n",
       "Freq: D, dtype: float64"
      ]
     },
     "execution_count": 86,
     "metadata": {},
     "output_type": "execute_result"
    }
   ],
   "source": [
    "df.mean(1)"
   ]
  },
  {
   "cell_type": "code",
   "execution_count": 87,
   "id": "2b6bcd13-1a00-405a-a981-153703b9ced3",
   "metadata": {},
   "outputs": [
    {
     "data": {
      "text/plain": [
       "A    0.949733\n",
       "B    0.512931\n",
       "C    1.387053\n",
       "D    1.109842\n",
       "dtype: float64"
      ]
     },
     "execution_count": 87,
     "metadata": {},
     "output_type": "execute_result"
    }
   ],
   "source": [
    "df.std()"
   ]
  },
  {
   "cell_type": "code",
   "execution_count": 88,
   "id": "63734c29-1624-4c0a-b277-67ac98dd3d60",
   "metadata": {},
   "outputs": [
    {
     "data": {
      "text/plain": [
       "A    0.901992\n",
       "B    0.263099\n",
       "C    1.923917\n",
       "D    1.231748\n",
       "dtype: float64"
      ]
     },
     "execution_count": 88,
     "metadata": {},
     "output_type": "execute_result"
    }
   ],
   "source": [
    "df.var()"
   ]
  },
  {
   "cell_type": "code",
   "execution_count": 89,
   "id": "f0bc772e-793b-413f-89ea-0d5d21a46fc1",
   "metadata": {},
   "outputs": [
    {
     "data": {
      "text/plain": [
       "A    1.627132\n",
       "B    0.123275\n",
       "C    1.943073\n",
       "D    1.290428\n",
       "dtype: float64"
      ]
     },
     "execution_count": 89,
     "metadata": {},
     "output_type": "execute_result"
    }
   ],
   "source": [
    "df.max()"
   ]
  },
  {
   "cell_type": "code",
   "execution_count": 90,
   "id": "1e96ea5b-9538-4e2b-860c-35b271ce9ea3",
   "metadata": {},
   "outputs": [
    {
     "data": {
      "text/plain": [
       "A   -1.173974\n",
       "B   -1.357128\n",
       "C   -1.539730\n",
       "D   -1.177602\n",
       "dtype: float64"
      ]
     },
     "execution_count": 90,
     "metadata": {},
     "output_type": "execute_result"
    }
   ],
   "source": [
    "df.min()"
   ]
  },
  {
   "cell_type": "code",
   "execution_count": 91,
   "id": "39025be6-f8ab-41fc-a7c1-049756254ab5",
   "metadata": {},
   "outputs": [
    {
     "data": {
      "text/plain": [
       "A   -0.175676\n",
       "B   -0.282307\n",
       "C   -0.234460\n",
       "D   -0.596439\n",
       "dtype: float64"
      ]
     },
     "execution_count": 91,
     "metadata": {},
     "output_type": "execute_result"
    }
   ],
   "source": [
    "df.median()"
   ]
  },
  {
   "cell_type": "markdown",
   "id": "a525daf0-fa5c-4af6-983d-e6223eb7690f",
   "metadata": {},
   "source": [
    "## apply\n",
    "* 함수를 적용할 때 사용"
   ]
  },
  {
   "cell_type": "code",
   "execution_count": 92,
   "id": "cab9fc0d-1f17-48e7-bbdb-cb26892f9c79",
   "metadata": {},
   "outputs": [
    {
     "data": {
      "text/html": [
       "<div>\n",
       "<style scoped>\n",
       "    .dataframe tbody tr th:only-of-type {\n",
       "        vertical-align: middle;\n",
       "    }\n",
       "\n",
       "    .dataframe tbody tr th {\n",
       "        vertical-align: top;\n",
       "    }\n",
       "\n",
       "    .dataframe thead th {\n",
       "        text-align: right;\n",
       "    }\n",
       "</style>\n",
       "<table border=\"1\" class=\"dataframe\">\n",
       "  <thead>\n",
       "    <tr style=\"text-align: right;\">\n",
       "      <th></th>\n",
       "      <th>A</th>\n",
       "      <th>B</th>\n",
       "      <th>C</th>\n",
       "      <th>D</th>\n",
       "    </tr>\n",
       "  </thead>\n",
       "  <tbody>\n",
       "    <tr>\n",
       "      <th>2013-01-01</th>\n",
       "      <td>-0.438307</td>\n",
       "      <td>-1.357128</td>\n",
       "      <td>-1.539730</td>\n",
       "      <td>-1.177602</td>\n",
       "    </tr>\n",
       "    <tr>\n",
       "      <th>2013-01-02</th>\n",
       "      <td>-0.509621</td>\n",
       "      <td>-0.335400</td>\n",
       "      <td>-0.297319</td>\n",
       "      <td>-1.151909</td>\n",
       "    </tr>\n",
       "    <tr>\n",
       "      <th>2013-01-03</th>\n",
       "      <td>0.086955</td>\n",
       "      <td>-0.229214</td>\n",
       "      <td>-1.445995</td>\n",
       "      <td>0.975162</td>\n",
       "    </tr>\n",
       "    <tr>\n",
       "      <th>2013-01-04</th>\n",
       "      <td>1.627132</td>\n",
       "      <td>0.123275</td>\n",
       "      <td>1.134978</td>\n",
       "      <td>-1.032749</td>\n",
       "    </tr>\n",
       "    <tr>\n",
       "      <th>2013-01-05</th>\n",
       "      <td>-1.173974</td>\n",
       "      <td>-0.092968</td>\n",
       "      <td>1.943073</td>\n",
       "      <td>1.290428</td>\n",
       "    </tr>\n",
       "    <tr>\n",
       "      <th>2013-01-06</th>\n",
       "      <td>0.182393</td>\n",
       "      <td>-0.398206</td>\n",
       "      <td>-0.171601</td>\n",
       "      <td>-0.160129</td>\n",
       "    </tr>\n",
       "  </tbody>\n",
       "</table>\n",
       "</div>"
      ],
      "text/plain": [
       "                   A         B         C         D\n",
       "2013-01-01 -0.438307 -1.357128 -1.539730 -1.177602\n",
       "2013-01-02 -0.509621 -0.335400 -0.297319 -1.151909\n",
       "2013-01-03  0.086955 -0.229214 -1.445995  0.975162\n",
       "2013-01-04  1.627132  0.123275  1.134978 -1.032749\n",
       "2013-01-05 -1.173974 -0.092968  1.943073  1.290428\n",
       "2013-01-06  0.182393 -0.398206 -0.171601 -0.160129"
      ]
     },
     "execution_count": 92,
     "metadata": {},
     "output_type": "execute_result"
    }
   ],
   "source": [
    "df"
   ]
  },
  {
   "cell_type": "markdown",
   "id": "ecf55eb2-e2d6-4d04-9ebb-7ccff1b0783b",
   "metadata": {},
   "source": [
    "#### np.cumsum : 주어진 축을 따라 요소의 누적 합계를 반환"
   ]
  },
  {
   "cell_type": "code",
   "execution_count": 93,
   "id": "60a90318-e11b-4540-814d-2fe08493256b",
   "metadata": {},
   "outputs": [
    {
     "data": {
      "text/html": [
       "<div>\n",
       "<style scoped>\n",
       "    .dataframe tbody tr th:only-of-type {\n",
       "        vertical-align: middle;\n",
       "    }\n",
       "\n",
       "    .dataframe tbody tr th {\n",
       "        vertical-align: top;\n",
       "    }\n",
       "\n",
       "    .dataframe thead th {\n",
       "        text-align: right;\n",
       "    }\n",
       "</style>\n",
       "<table border=\"1\" class=\"dataframe\">\n",
       "  <thead>\n",
       "    <tr style=\"text-align: right;\">\n",
       "      <th></th>\n",
       "      <th>A</th>\n",
       "      <th>B</th>\n",
       "      <th>C</th>\n",
       "      <th>D</th>\n",
       "    </tr>\n",
       "  </thead>\n",
       "  <tbody>\n",
       "    <tr>\n",
       "      <th>2013-01-01</th>\n",
       "      <td>-0.438307</td>\n",
       "      <td>-1.357128</td>\n",
       "      <td>-1.539730</td>\n",
       "      <td>-1.177602</td>\n",
       "    </tr>\n",
       "    <tr>\n",
       "      <th>2013-01-02</th>\n",
       "      <td>-0.947927</td>\n",
       "      <td>-1.692528</td>\n",
       "      <td>-1.837049</td>\n",
       "      <td>-2.329512</td>\n",
       "    </tr>\n",
       "    <tr>\n",
       "      <th>2013-01-03</th>\n",
       "      <td>-0.860972</td>\n",
       "      <td>-1.921742</td>\n",
       "      <td>-3.283044</td>\n",
       "      <td>-1.354350</td>\n",
       "    </tr>\n",
       "    <tr>\n",
       "      <th>2013-01-04</th>\n",
       "      <td>0.766160</td>\n",
       "      <td>-1.798467</td>\n",
       "      <td>-2.148066</td>\n",
       "      <td>-2.387099</td>\n",
       "    </tr>\n",
       "    <tr>\n",
       "      <th>2013-01-05</th>\n",
       "      <td>-0.407814</td>\n",
       "      <td>-1.891435</td>\n",
       "      <td>-0.204993</td>\n",
       "      <td>-1.096671</td>\n",
       "    </tr>\n",
       "    <tr>\n",
       "      <th>2013-01-06</th>\n",
       "      <td>-0.225421</td>\n",
       "      <td>-2.289641</td>\n",
       "      <td>-0.376594</td>\n",
       "      <td>-1.256800</td>\n",
       "    </tr>\n",
       "  </tbody>\n",
       "</table>\n",
       "</div>"
      ],
      "text/plain": [
       "                   A         B         C         D\n",
       "2013-01-01 -0.438307 -1.357128 -1.539730 -1.177602\n",
       "2013-01-02 -0.947927 -1.692528 -1.837049 -2.329512\n",
       "2013-01-03 -0.860972 -1.921742 -3.283044 -1.354350\n",
       "2013-01-04  0.766160 -1.798467 -2.148066 -2.387099\n",
       "2013-01-05 -0.407814 -1.891435 -0.204993 -1.096671\n",
       "2013-01-06 -0.225421 -2.289641 -0.376594 -1.256800"
      ]
     },
     "execution_count": 93,
     "metadata": {},
     "output_type": "execute_result"
    }
   ],
   "source": [
    "df.apply(np.cumsum)"
   ]
  },
  {
   "cell_type": "code",
   "execution_count": 94,
   "id": "8216cd29-cf43-4cdf-8cd4-84fb76bea8f9",
   "metadata": {},
   "outputs": [
    {
     "data": {
      "text/plain": [
       "A    2.801106\n",
       "B    1.480403\n",
       "C    3.482803\n",
       "D    2.468030\n",
       "dtype: float64"
      ]
     },
     "execution_count": 94,
     "metadata": {},
     "output_type": "execute_result"
    }
   ],
   "source": [
    "def dataa(x):\n",
    "    return x.max() - x.min()\n",
    "\n",
    "df.apply(dataa)"
   ]
  },
  {
   "cell_type": "markdown",
   "id": "749f78ec-ddd0-477c-ac8a-cc52b92f87ea",
   "metadata": {},
   "source": [
    "#### lambda : 한줄 짜리 함수, 함수이름 없음"
   ]
  },
  {
   "cell_type": "code",
   "execution_count": 95,
   "id": "6c990103-e53c-424d-a0f3-049749a407bc",
   "metadata": {},
   "outputs": [
    {
     "data": {
      "text/plain": [
       "A    2.801106\n",
       "B    1.480403\n",
       "C    3.482803\n",
       "D    2.468030\n",
       "dtype: float64"
      ]
     },
     "execution_count": 95,
     "metadata": {},
     "output_type": "execute_result"
    }
   ],
   "source": [
    "df.apply(lambda x: x.max()-x.min())"
   ]
  },
  {
   "cell_type": "markdown",
   "id": "4e61fd2a-38dd-45c5-adbe-6dafb541f2f9",
   "metadata": {},
   "source": [
    "## replace \n",
    "* 특정 값 변경하기"
   ]
  },
  {
   "cell_type": "code",
   "execution_count": 96,
   "id": "e1f52d7d-e9ed-4769-9091-0775f945f906",
   "metadata": {},
   "outputs": [
    {
     "data": {
      "text/plain": [
       "0      남자\n",
       "1      여자\n",
       "2      여자\n",
       "3      여자\n",
       "4       남\n",
       "5    male\n",
       "dtype: object"
      ]
     },
     "execution_count": 96,
     "metadata": {},
     "output_type": "execute_result"
    }
   ],
   "source": [
    "gender = pd.Series(['남자','여자','여자','여자','남','male'])\n",
    "gender"
   ]
  },
  {
   "cell_type": "code",
   "execution_count": 97,
   "id": "0c20c140-74a5-405b-909b-1177bab13e2f",
   "metadata": {},
   "outputs": [
    {
     "data": {
      "text/plain": [
       "여자      3\n",
       "남자      1\n",
       "남       1\n",
       "male    1\n",
       "dtype: int64"
      ]
     },
     "execution_count": 97,
     "metadata": {},
     "output_type": "execute_result"
    }
   ],
   "source": [
    "gender.value_counts()"
   ]
  },
  {
   "cell_type": "code",
   "execution_count": 98,
   "id": "44dd1029-44f0-4d69-ad78-726876d62dab",
   "metadata": {},
   "outputs": [
    {
     "data": {
      "text/plain": [
       "0      남자\n",
       "1      여자\n",
       "2      여자\n",
       "3      여자\n",
       "4      남자\n",
       "5    male\n",
       "dtype: object"
      ]
     },
     "execution_count": 98,
     "metadata": {},
     "output_type": "execute_result"
    }
   ],
   "source": [
    "gender.replace('남','남자')"
   ]
  },
  {
   "cell_type": "code",
   "execution_count": 99,
   "id": "7f9b0612-2b88-43a2-81df-eeba48df56ea",
   "metadata": {},
   "outputs": [
    {
     "data": {
      "text/plain": [
       "0      남자\n",
       "1      여자\n",
       "2      여자\n",
       "3      여자\n",
       "4       남\n",
       "5    male\n",
       "dtype: object"
      ]
     },
     "execution_count": 99,
     "metadata": {},
     "output_type": "execute_result"
    }
   ],
   "source": [
    "gender"
   ]
  },
  {
   "cell_type": "markdown",
   "id": "eccf7bb0-696b-4b8a-af95-9de327d550c3",
   "metadata": {},
   "source": [
    "#### 위와 같이 replace는 원본을 수정하지는 않는다."
   ]
  },
  {
   "cell_type": "code",
   "execution_count": 100,
   "id": "e537ddd2-f118-4ac8-b43d-5b78da3b9553",
   "metadata": {},
   "outputs": [
    {
     "data": {
      "text/plain": [
       "0    남자\n",
       "1    여자\n",
       "2    여자\n",
       "3    여자\n",
       "4    남자\n",
       "5    남자\n",
       "dtype: object"
      ]
     },
     "execution_count": 100,
     "metadata": {},
     "output_type": "execute_result"
    }
   ],
   "source": [
    "gender.replace(['남','male'],['남자','남자'])"
   ]
  },
  {
   "cell_type": "code",
   "execution_count": 101,
   "id": "f4e82423-3578-4825-a638-e2762fad6371",
   "metadata": {},
   "outputs": [
    {
     "data": {
      "text/plain": [
       "0     남자자\n",
       "1      여자\n",
       "2      여자\n",
       "3      여자\n",
       "4      남자\n",
       "5    male\n",
       "dtype: object"
      ]
     },
     "execution_count": 101,
     "metadata": {},
     "output_type": "execute_result"
    }
   ],
   "source": [
    "gender.str.replace('남', '남자')"
   ]
  },
  {
   "cell_type": "markdown",
   "id": "96527cf6-1dc1-4142-a073-d6d7b0a91c74",
   "metadata": {},
   "source": [
    "#### str.함수 => 한세트, replace제외\n",
    "#### replace : 전체위치\n",
    "#### str.replace : 부분위치, list 사용X"
   ]
  },
  {
   "cell_type": "markdown",
   "id": "2146c0c0-fcef-4486-b4b9-9f897347b3fa",
   "metadata": {},
   "source": [
    "## concat\n",
    "* 데이터 속성 형태가 동일한 데이터끼리 합친다"
   ]
  },
  {
   "cell_type": "code",
   "execution_count": 103,
   "id": "26503577-532c-40dd-aacd-89638cfad4e5",
   "metadata": {},
   "outputs": [
    {
     "data": {
      "text/html": [
       "<div>\n",
       "<style scoped>\n",
       "    .dataframe tbody tr th:only-of-type {\n",
       "        vertical-align: middle;\n",
       "    }\n",
       "\n",
       "    .dataframe tbody tr th {\n",
       "        vertical-align: top;\n",
       "    }\n",
       "\n",
       "    .dataframe thead th {\n",
       "        text-align: right;\n",
       "    }\n",
       "</style>\n",
       "<table border=\"1\" class=\"dataframe\">\n",
       "  <thead>\n",
       "    <tr style=\"text-align: right;\">\n",
       "      <th></th>\n",
       "      <th>0</th>\n",
       "      <th>1</th>\n",
       "      <th>2</th>\n",
       "      <th>3</th>\n",
       "    </tr>\n",
       "  </thead>\n",
       "  <tbody>\n",
       "    <tr>\n",
       "      <th>0</th>\n",
       "      <td>1.486517</td>\n",
       "      <td>-0.430491</td>\n",
       "      <td>0.828333</td>\n",
       "      <td>0.752401</td>\n",
       "    </tr>\n",
       "    <tr>\n",
       "      <th>1</th>\n",
       "      <td>1.850941</td>\n",
       "      <td>1.247845</td>\n",
       "      <td>-0.335138</td>\n",
       "      <td>-1.565096</td>\n",
       "    </tr>\n",
       "    <tr>\n",
       "      <th>2</th>\n",
       "      <td>-0.384389</td>\n",
       "      <td>-0.658247</td>\n",
       "      <td>-0.358890</td>\n",
       "      <td>-0.284741</td>\n",
       "    </tr>\n",
       "    <tr>\n",
       "      <th>3</th>\n",
       "      <td>-0.268074</td>\n",
       "      <td>-1.074806</td>\n",
       "      <td>-0.075481</td>\n",
       "      <td>-0.376648</td>\n",
       "    </tr>\n",
       "    <tr>\n",
       "      <th>4</th>\n",
       "      <td>-0.312083</td>\n",
       "      <td>-1.009090</td>\n",
       "      <td>1.769617</td>\n",
       "      <td>-0.503700</td>\n",
       "    </tr>\n",
       "    <tr>\n",
       "      <th>5</th>\n",
       "      <td>-1.431710</td>\n",
       "      <td>-1.349411</td>\n",
       "      <td>0.064613</td>\n",
       "      <td>0.152677</td>\n",
       "    </tr>\n",
       "    <tr>\n",
       "      <th>6</th>\n",
       "      <td>-0.621432</td>\n",
       "      <td>-1.878995</td>\n",
       "      <td>0.817969</td>\n",
       "      <td>-0.271800</td>\n",
       "    </tr>\n",
       "    <tr>\n",
       "      <th>7</th>\n",
       "      <td>0.106999</td>\n",
       "      <td>-0.469470</td>\n",
       "      <td>-0.801502</td>\n",
       "      <td>-0.159133</td>\n",
       "    </tr>\n",
       "    <tr>\n",
       "      <th>8</th>\n",
       "      <td>-0.763259</td>\n",
       "      <td>-0.597178</td>\n",
       "      <td>2.294462</td>\n",
       "      <td>-1.687624</td>\n",
       "    </tr>\n",
       "    <tr>\n",
       "      <th>9</th>\n",
       "      <td>0.671513</td>\n",
       "      <td>-2.027336</td>\n",
       "      <td>0.227551</td>\n",
       "      <td>0.529720</td>\n",
       "    </tr>\n",
       "  </tbody>\n",
       "</table>\n",
       "</div>"
      ],
      "text/plain": [
       "          0         1         2         3\n",
       "0  1.486517 -0.430491  0.828333  0.752401\n",
       "1  1.850941  1.247845 -0.335138 -1.565096\n",
       "2 -0.384389 -0.658247 -0.358890 -0.284741\n",
       "3 -0.268074 -1.074806 -0.075481 -0.376648\n",
       "4 -0.312083 -1.009090  1.769617 -0.503700\n",
       "5 -1.431710 -1.349411  0.064613  0.152677\n",
       "6 -0.621432 -1.878995  0.817969 -0.271800\n",
       "7  0.106999 -0.469470 -0.801502 -0.159133\n",
       "8 -0.763259 -0.597178  2.294462 -1.687624\n",
       "9  0.671513 -2.027336  0.227551  0.529720"
      ]
     },
     "execution_count": 103,
     "metadata": {},
     "output_type": "execute_result"
    }
   ],
   "source": [
    "df = pd.DataFrame(np.random.randn(10,4))\n",
    "df"
   ]
  },
  {
   "cell_type": "code",
   "execution_count": 104,
   "id": "85a1dd05-f3bc-4109-941b-4c908010b75a",
   "metadata": {},
   "outputs": [
    {
     "data": {
      "text/plain": [
       "[          0         1         2         3\n",
       " 0  1.486517 -0.430491  0.828333  0.752401\n",
       " 1  1.850941  1.247845 -0.335138 -1.565096\n",
       " 2 -0.384389 -0.658247 -0.358890 -0.284741,\n",
       "           0         1         2         3\n",
       " 3 -0.268074 -1.074806 -0.075481 -0.376648\n",
       " 4 -0.312083 -1.009090  1.769617 -0.503700\n",
       " 5 -1.431710 -1.349411  0.064613  0.152677\n",
       " 6 -0.621432 -1.878995  0.817969 -0.271800,\n",
       "           0         1         2         3\n",
       " 7  0.106999 -0.469470 -0.801502 -0.159133\n",
       " 8 -0.763259 -0.597178  2.294462 -1.687624\n",
       " 9  0.671513 -2.027336  0.227551  0.529720]"
      ]
     },
     "execution_count": 104,
     "metadata": {},
     "output_type": "execute_result"
    }
   ],
   "source": [
    "pieces = [df[:3],df[3:7],df[7:]]\n",
    "pieces"
   ]
  },
  {
   "cell_type": "code",
   "execution_count": 105,
   "id": "8cf0fc02-fb62-41fb-9221-aee5d5ad445b",
   "metadata": {},
   "outputs": [
    {
     "data": {
      "text/html": [
       "<div>\n",
       "<style scoped>\n",
       "    .dataframe tbody tr th:only-of-type {\n",
       "        vertical-align: middle;\n",
       "    }\n",
       "\n",
       "    .dataframe tbody tr th {\n",
       "        vertical-align: top;\n",
       "    }\n",
       "\n",
       "    .dataframe thead th {\n",
       "        text-align: right;\n",
       "    }\n",
       "</style>\n",
       "<table border=\"1\" class=\"dataframe\">\n",
       "  <thead>\n",
       "    <tr style=\"text-align: right;\">\n",
       "      <th></th>\n",
       "      <th>0</th>\n",
       "      <th>1</th>\n",
       "      <th>2</th>\n",
       "      <th>3</th>\n",
       "    </tr>\n",
       "  </thead>\n",
       "  <tbody>\n",
       "    <tr>\n",
       "      <th>0</th>\n",
       "      <td>1.486517</td>\n",
       "      <td>-0.430491</td>\n",
       "      <td>0.828333</td>\n",
       "      <td>0.752401</td>\n",
       "    </tr>\n",
       "    <tr>\n",
       "      <th>1</th>\n",
       "      <td>1.850941</td>\n",
       "      <td>1.247845</td>\n",
       "      <td>-0.335138</td>\n",
       "      <td>-1.565096</td>\n",
       "    </tr>\n",
       "    <tr>\n",
       "      <th>2</th>\n",
       "      <td>-0.384389</td>\n",
       "      <td>-0.658247</td>\n",
       "      <td>-0.358890</td>\n",
       "      <td>-0.284741</td>\n",
       "    </tr>\n",
       "  </tbody>\n",
       "</table>\n",
       "</div>"
      ],
      "text/plain": [
       "          0         1         2         3\n",
       "0  1.486517 -0.430491  0.828333  0.752401\n",
       "1  1.850941  1.247845 -0.335138 -1.565096\n",
       "2 -0.384389 -0.658247 -0.358890 -0.284741"
      ]
     },
     "execution_count": 105,
     "metadata": {},
     "output_type": "execute_result"
    }
   ],
   "source": [
    "pieces[0]"
   ]
  },
  {
   "cell_type": "code",
   "execution_count": 106,
   "id": "0171cc4f-59c5-4825-884c-f542e57d8c85",
   "metadata": {},
   "outputs": [
    {
     "data": {
      "text/html": [
       "<div>\n",
       "<style scoped>\n",
       "    .dataframe tbody tr th:only-of-type {\n",
       "        vertical-align: middle;\n",
       "    }\n",
       "\n",
       "    .dataframe tbody tr th {\n",
       "        vertical-align: top;\n",
       "    }\n",
       "\n",
       "    .dataframe thead th {\n",
       "        text-align: right;\n",
       "    }\n",
       "</style>\n",
       "<table border=\"1\" class=\"dataframe\">\n",
       "  <thead>\n",
       "    <tr style=\"text-align: right;\">\n",
       "      <th></th>\n",
       "      <th>0</th>\n",
       "      <th>1</th>\n",
       "      <th>2</th>\n",
       "      <th>3</th>\n",
       "    </tr>\n",
       "  </thead>\n",
       "  <tbody>\n",
       "    <tr>\n",
       "      <th>3</th>\n",
       "      <td>-0.268074</td>\n",
       "      <td>-1.074806</td>\n",
       "      <td>-0.075481</td>\n",
       "      <td>-0.376648</td>\n",
       "    </tr>\n",
       "    <tr>\n",
       "      <th>4</th>\n",
       "      <td>-0.312083</td>\n",
       "      <td>-1.009090</td>\n",
       "      <td>1.769617</td>\n",
       "      <td>-0.503700</td>\n",
       "    </tr>\n",
       "    <tr>\n",
       "      <th>5</th>\n",
       "      <td>-1.431710</td>\n",
       "      <td>-1.349411</td>\n",
       "      <td>0.064613</td>\n",
       "      <td>0.152677</td>\n",
       "    </tr>\n",
       "    <tr>\n",
       "      <th>6</th>\n",
       "      <td>-0.621432</td>\n",
       "      <td>-1.878995</td>\n",
       "      <td>0.817969</td>\n",
       "      <td>-0.271800</td>\n",
       "    </tr>\n",
       "  </tbody>\n",
       "</table>\n",
       "</div>"
      ],
      "text/plain": [
       "          0         1         2         3\n",
       "3 -0.268074 -1.074806 -0.075481 -0.376648\n",
       "4 -0.312083 -1.009090  1.769617 -0.503700\n",
       "5 -1.431710 -1.349411  0.064613  0.152677\n",
       "6 -0.621432 -1.878995  0.817969 -0.271800"
      ]
     },
     "execution_count": 106,
     "metadata": {},
     "output_type": "execute_result"
    }
   ],
   "source": [
    "pieces[1]"
   ]
  },
  {
   "cell_type": "code",
   "execution_count": 107,
   "id": "3a6a39a7-75be-4136-a741-df07c0319187",
   "metadata": {},
   "outputs": [
    {
     "data": {
      "text/html": [
       "<div>\n",
       "<style scoped>\n",
       "    .dataframe tbody tr th:only-of-type {\n",
       "        vertical-align: middle;\n",
       "    }\n",
       "\n",
       "    .dataframe tbody tr th {\n",
       "        vertical-align: top;\n",
       "    }\n",
       "\n",
       "    .dataframe thead th {\n",
       "        text-align: right;\n",
       "    }\n",
       "</style>\n",
       "<table border=\"1\" class=\"dataframe\">\n",
       "  <thead>\n",
       "    <tr style=\"text-align: right;\">\n",
       "      <th></th>\n",
       "      <th>0</th>\n",
       "      <th>1</th>\n",
       "      <th>2</th>\n",
       "      <th>3</th>\n",
       "    </tr>\n",
       "  </thead>\n",
       "  <tbody>\n",
       "    <tr>\n",
       "      <th>7</th>\n",
       "      <td>0.106999</td>\n",
       "      <td>-0.469470</td>\n",
       "      <td>-0.801502</td>\n",
       "      <td>-0.159133</td>\n",
       "    </tr>\n",
       "    <tr>\n",
       "      <th>8</th>\n",
       "      <td>-0.763259</td>\n",
       "      <td>-0.597178</td>\n",
       "      <td>2.294462</td>\n",
       "      <td>-1.687624</td>\n",
       "    </tr>\n",
       "    <tr>\n",
       "      <th>9</th>\n",
       "      <td>0.671513</td>\n",
       "      <td>-2.027336</td>\n",
       "      <td>0.227551</td>\n",
       "      <td>0.529720</td>\n",
       "    </tr>\n",
       "  </tbody>\n",
       "</table>\n",
       "</div>"
      ],
      "text/plain": [
       "          0         1         2         3\n",
       "7  0.106999 -0.469470 -0.801502 -0.159133\n",
       "8 -0.763259 -0.597178  2.294462 -1.687624\n",
       "9  0.671513 -2.027336  0.227551  0.529720"
      ]
     },
     "execution_count": 107,
     "metadata": {},
     "output_type": "execute_result"
    }
   ],
   "source": [
    "pieces[2]"
   ]
  },
  {
   "cell_type": "markdown",
   "id": "77f50c0b-a9df-436c-a819-dc8523462629",
   "metadata": {},
   "source": [
    "#### axis=1 -> 옆으로 합치기, axis=0 -> 위아래로 합치기\n",
    "#### join='inner' -> 교집합, join='outer' -> 합집합"
   ]
  },
  {
   "cell_type": "code",
   "execution_count": 109,
   "id": "25b62cfe-9661-47b1-9be2-939a06babbf5",
   "metadata": {},
   "outputs": [
    {
     "data": {
      "text/html": [
       "<div>\n",
       "<style scoped>\n",
       "    .dataframe tbody tr th:only-of-type {\n",
       "        vertical-align: middle;\n",
       "    }\n",
       "\n",
       "    .dataframe tbody tr th {\n",
       "        vertical-align: top;\n",
       "    }\n",
       "\n",
       "    .dataframe thead th {\n",
       "        text-align: right;\n",
       "    }\n",
       "</style>\n",
       "<table border=\"1\" class=\"dataframe\">\n",
       "  <thead>\n",
       "    <tr style=\"text-align: right;\">\n",
       "      <th></th>\n",
       "      <th>0</th>\n",
       "      <th>1</th>\n",
       "      <th>2</th>\n",
       "      <th>3</th>\n",
       "    </tr>\n",
       "  </thead>\n",
       "  <tbody>\n",
       "    <tr>\n",
       "      <th>0</th>\n",
       "      <td>1.486517</td>\n",
       "      <td>-0.430491</td>\n",
       "      <td>0.828333</td>\n",
       "      <td>0.752401</td>\n",
       "    </tr>\n",
       "    <tr>\n",
       "      <th>1</th>\n",
       "      <td>1.850941</td>\n",
       "      <td>1.247845</td>\n",
       "      <td>-0.335138</td>\n",
       "      <td>-1.565096</td>\n",
       "    </tr>\n",
       "    <tr>\n",
       "      <th>2</th>\n",
       "      <td>-0.384389</td>\n",
       "      <td>-0.658247</td>\n",
       "      <td>-0.358890</td>\n",
       "      <td>-0.284741</td>\n",
       "    </tr>\n",
       "    <tr>\n",
       "      <th>3</th>\n",
       "      <td>-0.268074</td>\n",
       "      <td>-1.074806</td>\n",
       "      <td>-0.075481</td>\n",
       "      <td>-0.376648</td>\n",
       "    </tr>\n",
       "    <tr>\n",
       "      <th>4</th>\n",
       "      <td>-0.312083</td>\n",
       "      <td>-1.009090</td>\n",
       "      <td>1.769617</td>\n",
       "      <td>-0.503700</td>\n",
       "    </tr>\n",
       "    <tr>\n",
       "      <th>5</th>\n",
       "      <td>-1.431710</td>\n",
       "      <td>-1.349411</td>\n",
       "      <td>0.064613</td>\n",
       "      <td>0.152677</td>\n",
       "    </tr>\n",
       "    <tr>\n",
       "      <th>6</th>\n",
       "      <td>-0.621432</td>\n",
       "      <td>-1.878995</td>\n",
       "      <td>0.817969</td>\n",
       "      <td>-0.271800</td>\n",
       "    </tr>\n",
       "    <tr>\n",
       "      <th>7</th>\n",
       "      <td>0.106999</td>\n",
       "      <td>-0.469470</td>\n",
       "      <td>-0.801502</td>\n",
       "      <td>-0.159133</td>\n",
       "    </tr>\n",
       "    <tr>\n",
       "      <th>8</th>\n",
       "      <td>-0.763259</td>\n",
       "      <td>-0.597178</td>\n",
       "      <td>2.294462</td>\n",
       "      <td>-1.687624</td>\n",
       "    </tr>\n",
       "    <tr>\n",
       "      <th>9</th>\n",
       "      <td>0.671513</td>\n",
       "      <td>-2.027336</td>\n",
       "      <td>0.227551</td>\n",
       "      <td>0.529720</td>\n",
       "    </tr>\n",
       "  </tbody>\n",
       "</table>\n",
       "</div>"
      ],
      "text/plain": [
       "          0         1         2         3\n",
       "0  1.486517 -0.430491  0.828333  0.752401\n",
       "1  1.850941  1.247845 -0.335138 -1.565096\n",
       "2 -0.384389 -0.658247 -0.358890 -0.284741\n",
       "3 -0.268074 -1.074806 -0.075481 -0.376648\n",
       "4 -0.312083 -1.009090  1.769617 -0.503700\n",
       "5 -1.431710 -1.349411  0.064613  0.152677\n",
       "6 -0.621432 -1.878995  0.817969 -0.271800\n",
       "7  0.106999 -0.469470 -0.801502 -0.159133\n",
       "8 -0.763259 -0.597178  2.294462 -1.687624\n",
       "9  0.671513 -2.027336  0.227551  0.529720"
      ]
     },
     "execution_count": 109,
     "metadata": {},
     "output_type": "execute_result"
    }
   ],
   "source": [
    "pd.concat([pieces[0],pieces[1],pieces[2]])"
   ]
  },
  {
   "cell_type": "code",
   "execution_count": 110,
   "id": "e701e2ee-7946-45d1-a83d-076c736b02a2",
   "metadata": {},
   "outputs": [
    {
     "data": {
      "text/html": [
       "<div>\n",
       "<style scoped>\n",
       "    .dataframe tbody tr th:only-of-type {\n",
       "        vertical-align: middle;\n",
       "    }\n",
       "\n",
       "    .dataframe tbody tr th {\n",
       "        vertical-align: top;\n",
       "    }\n",
       "\n",
       "    .dataframe thead th {\n",
       "        text-align: right;\n",
       "    }\n",
       "</style>\n",
       "<table border=\"1\" class=\"dataframe\">\n",
       "  <thead>\n",
       "    <tr style=\"text-align: right;\">\n",
       "      <th></th>\n",
       "      <th>0</th>\n",
       "      <th>1</th>\n",
       "      <th>2</th>\n",
       "      <th>3</th>\n",
       "      <th>0</th>\n",
       "      <th>1</th>\n",
       "      <th>2</th>\n",
       "      <th>3</th>\n",
       "      <th>0</th>\n",
       "      <th>1</th>\n",
       "      <th>2</th>\n",
       "      <th>3</th>\n",
       "    </tr>\n",
       "  </thead>\n",
       "  <tbody>\n",
       "    <tr>\n",
       "      <th>0</th>\n",
       "      <td>1.486517</td>\n",
       "      <td>-0.430491</td>\n",
       "      <td>0.828333</td>\n",
       "      <td>0.752401</td>\n",
       "      <td>NaN</td>\n",
       "      <td>NaN</td>\n",
       "      <td>NaN</td>\n",
       "      <td>NaN</td>\n",
       "      <td>NaN</td>\n",
       "      <td>NaN</td>\n",
       "      <td>NaN</td>\n",
       "      <td>NaN</td>\n",
       "    </tr>\n",
       "    <tr>\n",
       "      <th>1</th>\n",
       "      <td>1.850941</td>\n",
       "      <td>1.247845</td>\n",
       "      <td>-0.335138</td>\n",
       "      <td>-1.565096</td>\n",
       "      <td>NaN</td>\n",
       "      <td>NaN</td>\n",
       "      <td>NaN</td>\n",
       "      <td>NaN</td>\n",
       "      <td>NaN</td>\n",
       "      <td>NaN</td>\n",
       "      <td>NaN</td>\n",
       "      <td>NaN</td>\n",
       "    </tr>\n",
       "    <tr>\n",
       "      <th>2</th>\n",
       "      <td>-0.384389</td>\n",
       "      <td>-0.658247</td>\n",
       "      <td>-0.358890</td>\n",
       "      <td>-0.284741</td>\n",
       "      <td>NaN</td>\n",
       "      <td>NaN</td>\n",
       "      <td>NaN</td>\n",
       "      <td>NaN</td>\n",
       "      <td>NaN</td>\n",
       "      <td>NaN</td>\n",
       "      <td>NaN</td>\n",
       "      <td>NaN</td>\n",
       "    </tr>\n",
       "    <tr>\n",
       "      <th>3</th>\n",
       "      <td>NaN</td>\n",
       "      <td>NaN</td>\n",
       "      <td>NaN</td>\n",
       "      <td>NaN</td>\n",
       "      <td>-0.268074</td>\n",
       "      <td>-1.074806</td>\n",
       "      <td>-0.075481</td>\n",
       "      <td>-0.376648</td>\n",
       "      <td>NaN</td>\n",
       "      <td>NaN</td>\n",
       "      <td>NaN</td>\n",
       "      <td>NaN</td>\n",
       "    </tr>\n",
       "    <tr>\n",
       "      <th>4</th>\n",
       "      <td>NaN</td>\n",
       "      <td>NaN</td>\n",
       "      <td>NaN</td>\n",
       "      <td>NaN</td>\n",
       "      <td>-0.312083</td>\n",
       "      <td>-1.009090</td>\n",
       "      <td>1.769617</td>\n",
       "      <td>-0.503700</td>\n",
       "      <td>NaN</td>\n",
       "      <td>NaN</td>\n",
       "      <td>NaN</td>\n",
       "      <td>NaN</td>\n",
       "    </tr>\n",
       "    <tr>\n",
       "      <th>5</th>\n",
       "      <td>NaN</td>\n",
       "      <td>NaN</td>\n",
       "      <td>NaN</td>\n",
       "      <td>NaN</td>\n",
       "      <td>-1.431710</td>\n",
       "      <td>-1.349411</td>\n",
       "      <td>0.064613</td>\n",
       "      <td>0.152677</td>\n",
       "      <td>NaN</td>\n",
       "      <td>NaN</td>\n",
       "      <td>NaN</td>\n",
       "      <td>NaN</td>\n",
       "    </tr>\n",
       "    <tr>\n",
       "      <th>6</th>\n",
       "      <td>NaN</td>\n",
       "      <td>NaN</td>\n",
       "      <td>NaN</td>\n",
       "      <td>NaN</td>\n",
       "      <td>-0.621432</td>\n",
       "      <td>-1.878995</td>\n",
       "      <td>0.817969</td>\n",
       "      <td>-0.271800</td>\n",
       "      <td>NaN</td>\n",
       "      <td>NaN</td>\n",
       "      <td>NaN</td>\n",
       "      <td>NaN</td>\n",
       "    </tr>\n",
       "    <tr>\n",
       "      <th>7</th>\n",
       "      <td>NaN</td>\n",
       "      <td>NaN</td>\n",
       "      <td>NaN</td>\n",
       "      <td>NaN</td>\n",
       "      <td>NaN</td>\n",
       "      <td>NaN</td>\n",
       "      <td>NaN</td>\n",
       "      <td>NaN</td>\n",
       "      <td>0.106999</td>\n",
       "      <td>-0.469470</td>\n",
       "      <td>-0.801502</td>\n",
       "      <td>-0.159133</td>\n",
       "    </tr>\n",
       "    <tr>\n",
       "      <th>8</th>\n",
       "      <td>NaN</td>\n",
       "      <td>NaN</td>\n",
       "      <td>NaN</td>\n",
       "      <td>NaN</td>\n",
       "      <td>NaN</td>\n",
       "      <td>NaN</td>\n",
       "      <td>NaN</td>\n",
       "      <td>NaN</td>\n",
       "      <td>-0.763259</td>\n",
       "      <td>-0.597178</td>\n",
       "      <td>2.294462</td>\n",
       "      <td>-1.687624</td>\n",
       "    </tr>\n",
       "    <tr>\n",
       "      <th>9</th>\n",
       "      <td>NaN</td>\n",
       "      <td>NaN</td>\n",
       "      <td>NaN</td>\n",
       "      <td>NaN</td>\n",
       "      <td>NaN</td>\n",
       "      <td>NaN</td>\n",
       "      <td>NaN</td>\n",
       "      <td>NaN</td>\n",
       "      <td>0.671513</td>\n",
       "      <td>-2.027336</td>\n",
       "      <td>0.227551</td>\n",
       "      <td>0.529720</td>\n",
       "    </tr>\n",
       "  </tbody>\n",
       "</table>\n",
       "</div>"
      ],
      "text/plain": [
       "          0         1         2         3         0         1         2  \\\n",
       "0  1.486517 -0.430491  0.828333  0.752401       NaN       NaN       NaN   \n",
       "1  1.850941  1.247845 -0.335138 -1.565096       NaN       NaN       NaN   \n",
       "2 -0.384389 -0.658247 -0.358890 -0.284741       NaN       NaN       NaN   \n",
       "3       NaN       NaN       NaN       NaN -0.268074 -1.074806 -0.075481   \n",
       "4       NaN       NaN       NaN       NaN -0.312083 -1.009090  1.769617   \n",
       "5       NaN       NaN       NaN       NaN -1.431710 -1.349411  0.064613   \n",
       "6       NaN       NaN       NaN       NaN -0.621432 -1.878995  0.817969   \n",
       "7       NaN       NaN       NaN       NaN       NaN       NaN       NaN   \n",
       "8       NaN       NaN       NaN       NaN       NaN       NaN       NaN   \n",
       "9       NaN       NaN       NaN       NaN       NaN       NaN       NaN   \n",
       "\n",
       "          3         0         1         2         3  \n",
       "0       NaN       NaN       NaN       NaN       NaN  \n",
       "1       NaN       NaN       NaN       NaN       NaN  \n",
       "2       NaN       NaN       NaN       NaN       NaN  \n",
       "3 -0.376648       NaN       NaN       NaN       NaN  \n",
       "4 -0.503700       NaN       NaN       NaN       NaN  \n",
       "5  0.152677       NaN       NaN       NaN       NaN  \n",
       "6 -0.271800       NaN       NaN       NaN       NaN  \n",
       "7       NaN  0.106999 -0.469470 -0.801502 -0.159133  \n",
       "8       NaN -0.763259 -0.597178  2.294462 -1.687624  \n",
       "9       NaN  0.671513 -2.027336  0.227551  0.529720  "
      ]
     },
     "execution_count": 110,
     "metadata": {},
     "output_type": "execute_result"
    }
   ],
   "source": [
    "pd.concat([pieces[0],pieces[1],pieces[2]], axis=1)"
   ]
  },
  {
   "cell_type": "code",
   "execution_count": 111,
   "id": "3b3badef-bc6e-4e85-bbbe-628109580e74",
   "metadata": {},
   "outputs": [
    {
     "data": {
      "text/html": [
       "<div>\n",
       "<style scoped>\n",
       "    .dataframe tbody tr th:only-of-type {\n",
       "        vertical-align: middle;\n",
       "    }\n",
       "\n",
       "    .dataframe tbody tr th {\n",
       "        vertical-align: top;\n",
       "    }\n",
       "\n",
       "    .dataframe thead th {\n",
       "        text-align: right;\n",
       "    }\n",
       "</style>\n",
       "<table border=\"1\" class=\"dataframe\">\n",
       "  <thead>\n",
       "    <tr style=\"text-align: right;\">\n",
       "      <th></th>\n",
       "      <th>0</th>\n",
       "      <th>1</th>\n",
       "      <th>2</th>\n",
       "      <th>3</th>\n",
       "      <th>0</th>\n",
       "      <th>1</th>\n",
       "      <th>2</th>\n",
       "      <th>3</th>\n",
       "      <th>0</th>\n",
       "      <th>1</th>\n",
       "      <th>2</th>\n",
       "      <th>3</th>\n",
       "    </tr>\n",
       "  </thead>\n",
       "  <tbody>\n",
       "  </tbody>\n",
       "</table>\n",
       "</div>"
      ],
      "text/plain": [
       "Empty DataFrame\n",
       "Columns: [0, 1, 2, 3, 0, 1, 2, 3, 0, 1, 2, 3]\n",
       "Index: []"
      ]
     },
     "execution_count": 111,
     "metadata": {},
     "output_type": "execute_result"
    }
   ],
   "source": [
    "pd.concat([pieces[0],pieces[1],pieces[2]], axis=1, join='inner')"
   ]
  },
  {
   "cell_type": "code",
   "execution_count": 112,
   "id": "23e63288-5942-45c3-bfe7-66592d357566",
   "metadata": {},
   "outputs": [
    {
     "data": {
      "text/html": [
       "<div>\n",
       "<style scoped>\n",
       "    .dataframe tbody tr th:only-of-type {\n",
       "        vertical-align: middle;\n",
       "    }\n",
       "\n",
       "    .dataframe tbody tr th {\n",
       "        vertical-align: top;\n",
       "    }\n",
       "\n",
       "    .dataframe thead th {\n",
       "        text-align: right;\n",
       "    }\n",
       "</style>\n",
       "<table border=\"1\" class=\"dataframe\">\n",
       "  <thead>\n",
       "    <tr style=\"text-align: right;\">\n",
       "      <th></th>\n",
       "      <th>0</th>\n",
       "      <th>1</th>\n",
       "      <th>2</th>\n",
       "      <th>3</th>\n",
       "    </tr>\n",
       "  </thead>\n",
       "  <tbody>\n",
       "    <tr>\n",
       "      <th>0</th>\n",
       "      <td>1.486517</td>\n",
       "      <td>-0.430491</td>\n",
       "      <td>0.828333</td>\n",
       "      <td>0.752401</td>\n",
       "    </tr>\n",
       "    <tr>\n",
       "      <th>1</th>\n",
       "      <td>1.850941</td>\n",
       "      <td>1.247845</td>\n",
       "      <td>-0.335138</td>\n",
       "      <td>-1.565096</td>\n",
       "    </tr>\n",
       "    <tr>\n",
       "      <th>2</th>\n",
       "      <td>-0.384389</td>\n",
       "      <td>-0.658247</td>\n",
       "      <td>-0.358890</td>\n",
       "      <td>-0.284741</td>\n",
       "    </tr>\n",
       "    <tr>\n",
       "      <th>3</th>\n",
       "      <td>-0.268074</td>\n",
       "      <td>-1.074806</td>\n",
       "      <td>-0.075481</td>\n",
       "      <td>-0.376648</td>\n",
       "    </tr>\n",
       "    <tr>\n",
       "      <th>4</th>\n",
       "      <td>-0.312083</td>\n",
       "      <td>-1.009090</td>\n",
       "      <td>1.769617</td>\n",
       "      <td>-0.503700</td>\n",
       "    </tr>\n",
       "    <tr>\n",
       "      <th>5</th>\n",
       "      <td>-1.431710</td>\n",
       "      <td>-1.349411</td>\n",
       "      <td>0.064613</td>\n",
       "      <td>0.152677</td>\n",
       "    </tr>\n",
       "    <tr>\n",
       "      <th>6</th>\n",
       "      <td>-0.621432</td>\n",
       "      <td>-1.878995</td>\n",
       "      <td>0.817969</td>\n",
       "      <td>-0.271800</td>\n",
       "    </tr>\n",
       "    <tr>\n",
       "      <th>7</th>\n",
       "      <td>0.106999</td>\n",
       "      <td>-0.469470</td>\n",
       "      <td>-0.801502</td>\n",
       "      <td>-0.159133</td>\n",
       "    </tr>\n",
       "    <tr>\n",
       "      <th>8</th>\n",
       "      <td>-0.763259</td>\n",
       "      <td>-0.597178</td>\n",
       "      <td>2.294462</td>\n",
       "      <td>-1.687624</td>\n",
       "    </tr>\n",
       "    <tr>\n",
       "      <th>9</th>\n",
       "      <td>0.671513</td>\n",
       "      <td>-2.027336</td>\n",
       "      <td>0.227551</td>\n",
       "      <td>0.529720</td>\n",
       "    </tr>\n",
       "  </tbody>\n",
       "</table>\n",
       "</div>"
      ],
      "text/plain": [
       "          0         1         2         3\n",
       "0  1.486517 -0.430491  0.828333  0.752401\n",
       "1  1.850941  1.247845 -0.335138 -1.565096\n",
       "2 -0.384389 -0.658247 -0.358890 -0.284741\n",
       "3 -0.268074 -1.074806 -0.075481 -0.376648\n",
       "4 -0.312083 -1.009090  1.769617 -0.503700\n",
       "5 -1.431710 -1.349411  0.064613  0.152677\n",
       "6 -0.621432 -1.878995  0.817969 -0.271800\n",
       "7  0.106999 -0.469470 -0.801502 -0.159133\n",
       "8 -0.763259 -0.597178  2.294462 -1.687624\n",
       "9  0.671513 -2.027336  0.227551  0.529720"
      ]
     },
     "execution_count": 112,
     "metadata": {},
     "output_type": "execute_result"
    }
   ],
   "source": [
    "pd.concat([pieces[0],pieces[1],pieces[2]], axis=0, join='inner')"
   ]
  },
  {
   "cell_type": "markdown",
   "id": "ddd15ce4-e05b-4142-8b51-1bab26da4164",
   "metadata": {},
   "source": [
    "## merge\n",
    "*  두 데이터프레임을 각 데이터에 존재하는 고유값(key)을 기준으로 병합"
   ]
  },
  {
   "cell_type": "code",
   "execution_count": 113,
   "id": "cd30f5a8-df99-4f03-9149-d8111939b7ef",
   "metadata": {},
   "outputs": [],
   "source": [
    "left = pd.DataFrame({\"key\": [\"foo\", \"foo\"], \"lval\": [1, 2]})"
   ]
  },
  {
   "cell_type": "code",
   "execution_count": 114,
   "id": "a5601dc2-0946-46b4-95a5-5d7efe81c59e",
   "metadata": {},
   "outputs": [],
   "source": [
    "right = pd.DataFrame({\"key\": [\"foo\", \"foo\"], \"rval\": [4, 5]})"
   ]
  },
  {
   "cell_type": "code",
   "execution_count": 115,
   "id": "a0f51858-8deb-460c-bbee-b6c9d2759a7c",
   "metadata": {},
   "outputs": [
    {
     "data": {
      "text/html": [
       "<div>\n",
       "<style scoped>\n",
       "    .dataframe tbody tr th:only-of-type {\n",
       "        vertical-align: middle;\n",
       "    }\n",
       "\n",
       "    .dataframe tbody tr th {\n",
       "        vertical-align: top;\n",
       "    }\n",
       "\n",
       "    .dataframe thead th {\n",
       "        text-align: right;\n",
       "    }\n",
       "</style>\n",
       "<table border=\"1\" class=\"dataframe\">\n",
       "  <thead>\n",
       "    <tr style=\"text-align: right;\">\n",
       "      <th></th>\n",
       "      <th>key</th>\n",
       "      <th>lval</th>\n",
       "    </tr>\n",
       "  </thead>\n",
       "  <tbody>\n",
       "    <tr>\n",
       "      <th>0</th>\n",
       "      <td>foo</td>\n",
       "      <td>1</td>\n",
       "    </tr>\n",
       "    <tr>\n",
       "      <th>1</th>\n",
       "      <td>foo</td>\n",
       "      <td>2</td>\n",
       "    </tr>\n",
       "  </tbody>\n",
       "</table>\n",
       "</div>"
      ],
      "text/plain": [
       "   key  lval\n",
       "0  foo     1\n",
       "1  foo     2"
      ]
     },
     "execution_count": 115,
     "metadata": {},
     "output_type": "execute_result"
    }
   ],
   "source": [
    "left"
   ]
  },
  {
   "cell_type": "code",
   "execution_count": 116,
   "id": "f0789413-21bb-4304-ad01-35629882b533",
   "metadata": {},
   "outputs": [
    {
     "data": {
      "text/html": [
       "<div>\n",
       "<style scoped>\n",
       "    .dataframe tbody tr th:only-of-type {\n",
       "        vertical-align: middle;\n",
       "    }\n",
       "\n",
       "    .dataframe tbody tr th {\n",
       "        vertical-align: top;\n",
       "    }\n",
       "\n",
       "    .dataframe thead th {\n",
       "        text-align: right;\n",
       "    }\n",
       "</style>\n",
       "<table border=\"1\" class=\"dataframe\">\n",
       "  <thead>\n",
       "    <tr style=\"text-align: right;\">\n",
       "      <th></th>\n",
       "      <th>key</th>\n",
       "      <th>rval</th>\n",
       "    </tr>\n",
       "  </thead>\n",
       "  <tbody>\n",
       "    <tr>\n",
       "      <th>0</th>\n",
       "      <td>foo</td>\n",
       "      <td>4</td>\n",
       "    </tr>\n",
       "    <tr>\n",
       "      <th>1</th>\n",
       "      <td>foo</td>\n",
       "      <td>5</td>\n",
       "    </tr>\n",
       "  </tbody>\n",
       "</table>\n",
       "</div>"
      ],
      "text/plain": [
       "   key  rval\n",
       "0  foo     4\n",
       "1  foo     5"
      ]
     },
     "execution_count": 116,
     "metadata": {},
     "output_type": "execute_result"
    }
   ],
   "source": [
    "right"
   ]
  },
  {
   "cell_type": "code",
   "execution_count": 117,
   "id": "103c5fd1-15b0-4650-8e1d-718a63c66097",
   "metadata": {},
   "outputs": [
    {
     "data": {
      "text/html": [
       "<div>\n",
       "<style scoped>\n",
       "    .dataframe tbody tr th:only-of-type {\n",
       "        vertical-align: middle;\n",
       "    }\n",
       "\n",
       "    .dataframe tbody tr th {\n",
       "        vertical-align: top;\n",
       "    }\n",
       "\n",
       "    .dataframe thead th {\n",
       "        text-align: right;\n",
       "    }\n",
       "</style>\n",
       "<table border=\"1\" class=\"dataframe\">\n",
       "  <thead>\n",
       "    <tr style=\"text-align: right;\">\n",
       "      <th></th>\n",
       "      <th>key</th>\n",
       "      <th>lval</th>\n",
       "      <th>rval</th>\n",
       "    </tr>\n",
       "  </thead>\n",
       "  <tbody>\n",
       "    <tr>\n",
       "      <th>0</th>\n",
       "      <td>foo</td>\n",
       "      <td>1</td>\n",
       "      <td>4</td>\n",
       "    </tr>\n",
       "    <tr>\n",
       "      <th>1</th>\n",
       "      <td>foo</td>\n",
       "      <td>1</td>\n",
       "      <td>5</td>\n",
       "    </tr>\n",
       "    <tr>\n",
       "      <th>2</th>\n",
       "      <td>foo</td>\n",
       "      <td>2</td>\n",
       "      <td>4</td>\n",
       "    </tr>\n",
       "    <tr>\n",
       "      <th>3</th>\n",
       "      <td>foo</td>\n",
       "      <td>2</td>\n",
       "      <td>5</td>\n",
       "    </tr>\n",
       "  </tbody>\n",
       "</table>\n",
       "</div>"
      ],
      "text/plain": [
       "   key  lval  rval\n",
       "0  foo     1     4\n",
       "1  foo     1     5\n",
       "2  foo     2     4\n",
       "3  foo     2     5"
      ]
     },
     "execution_count": 117,
     "metadata": {},
     "output_type": "execute_result"
    }
   ],
   "source": [
    "pd.merge(left,right,on=\"key\")"
   ]
  },
  {
   "cell_type": "markdown",
   "id": "56448367-e0c0-430f-9ab4-ab307142f1bc",
   "metadata": {},
   "source": [
    "## join\n",
    "* merge랑 비슷, 다만 index기준으로 결합"
   ]
  },
  {
   "cell_type": "markdown",
   "id": "fbfa5cc2-13d9-45cb-9926-672cf9f8981b",
   "metadata": {},
   "source": [
    "#### set_index : 열을 인덱스로 설정"
   ]
  },
  {
   "cell_type": "code",
   "execution_count": 119,
   "id": "a5935f8e-2acb-4c92-8088-828698888684",
   "metadata": {},
   "outputs": [],
   "source": [
    "left.set_index('key',inplace=True)\n",
    "right.set_index('key',inplace=True)"
   ]
  },
  {
   "cell_type": "code",
   "execution_count": 120,
   "id": "b8d4152a-2e40-4849-95b9-8f05350c1793",
   "metadata": {},
   "outputs": [
    {
     "data": {
      "text/html": [
       "<div>\n",
       "<style scoped>\n",
       "    .dataframe tbody tr th:only-of-type {\n",
       "        vertical-align: middle;\n",
       "    }\n",
       "\n",
       "    .dataframe tbody tr th {\n",
       "        vertical-align: top;\n",
       "    }\n",
       "\n",
       "    .dataframe thead th {\n",
       "        text-align: right;\n",
       "    }\n",
       "</style>\n",
       "<table border=\"1\" class=\"dataframe\">\n",
       "  <thead>\n",
       "    <tr style=\"text-align: right;\">\n",
       "      <th></th>\n",
       "      <th>lval</th>\n",
       "    </tr>\n",
       "    <tr>\n",
       "      <th>key</th>\n",
       "      <th></th>\n",
       "    </tr>\n",
       "  </thead>\n",
       "  <tbody>\n",
       "    <tr>\n",
       "      <th>foo</th>\n",
       "      <td>1</td>\n",
       "    </tr>\n",
       "    <tr>\n",
       "      <th>foo</th>\n",
       "      <td>2</td>\n",
       "    </tr>\n",
       "  </tbody>\n",
       "</table>\n",
       "</div>"
      ],
      "text/plain": [
       "     lval\n",
       "key      \n",
       "foo     1\n",
       "foo     2"
      ]
     },
     "execution_count": 120,
     "metadata": {},
     "output_type": "execute_result"
    }
   ],
   "source": [
    "left"
   ]
  },
  {
   "cell_type": "code",
   "execution_count": 121,
   "id": "c1153280-e49a-4f15-a8a8-a5f69c67811d",
   "metadata": {},
   "outputs": [
    {
     "data": {
      "text/html": [
       "<div>\n",
       "<style scoped>\n",
       "    .dataframe tbody tr th:only-of-type {\n",
       "        vertical-align: middle;\n",
       "    }\n",
       "\n",
       "    .dataframe tbody tr th {\n",
       "        vertical-align: top;\n",
       "    }\n",
       "\n",
       "    .dataframe thead th {\n",
       "        text-align: right;\n",
       "    }\n",
       "</style>\n",
       "<table border=\"1\" class=\"dataframe\">\n",
       "  <thead>\n",
       "    <tr style=\"text-align: right;\">\n",
       "      <th></th>\n",
       "      <th>rval</th>\n",
       "    </tr>\n",
       "    <tr>\n",
       "      <th>key</th>\n",
       "      <th></th>\n",
       "    </tr>\n",
       "  </thead>\n",
       "  <tbody>\n",
       "    <tr>\n",
       "      <th>foo</th>\n",
       "      <td>4</td>\n",
       "    </tr>\n",
       "    <tr>\n",
       "      <th>foo</th>\n",
       "      <td>5</td>\n",
       "    </tr>\n",
       "  </tbody>\n",
       "</table>\n",
       "</div>"
      ],
      "text/plain": [
       "     rval\n",
       "key      \n",
       "foo     4\n",
       "foo     5"
      ]
     },
     "execution_count": 121,
     "metadata": {},
     "output_type": "execute_result"
    }
   ],
   "source": [
    "right"
   ]
  },
  {
   "cell_type": "code",
   "execution_count": 122,
   "id": "09fe7db5-8550-4262-8f10-0c1286e0291c",
   "metadata": {},
   "outputs": [
    {
     "data": {
      "text/html": [
       "<div>\n",
       "<style scoped>\n",
       "    .dataframe tbody tr th:only-of-type {\n",
       "        vertical-align: middle;\n",
       "    }\n",
       "\n",
       "    .dataframe tbody tr th {\n",
       "        vertical-align: top;\n",
       "    }\n",
       "\n",
       "    .dataframe thead th {\n",
       "        text-align: right;\n",
       "    }\n",
       "</style>\n",
       "<table border=\"1\" class=\"dataframe\">\n",
       "  <thead>\n",
       "    <tr style=\"text-align: right;\">\n",
       "      <th></th>\n",
       "      <th>lval</th>\n",
       "      <th>rval</th>\n",
       "    </tr>\n",
       "    <tr>\n",
       "      <th>key</th>\n",
       "      <th></th>\n",
       "      <th></th>\n",
       "    </tr>\n",
       "  </thead>\n",
       "  <tbody>\n",
       "    <tr>\n",
       "      <th>foo</th>\n",
       "      <td>1</td>\n",
       "      <td>4</td>\n",
       "    </tr>\n",
       "    <tr>\n",
       "      <th>foo</th>\n",
       "      <td>1</td>\n",
       "      <td>5</td>\n",
       "    </tr>\n",
       "    <tr>\n",
       "      <th>foo</th>\n",
       "      <td>2</td>\n",
       "      <td>4</td>\n",
       "    </tr>\n",
       "    <tr>\n",
       "      <th>foo</th>\n",
       "      <td>2</td>\n",
       "      <td>5</td>\n",
       "    </tr>\n",
       "  </tbody>\n",
       "</table>\n",
       "</div>"
      ],
      "text/plain": [
       "     lval  rval\n",
       "key            \n",
       "foo     1     4\n",
       "foo     1     5\n",
       "foo     2     4\n",
       "foo     2     5"
      ]
     },
     "execution_count": 122,
     "metadata": {},
     "output_type": "execute_result"
    }
   ],
   "source": [
    "left.join(right,on=\"key\")"
   ]
  },
  {
   "cell_type": "markdown",
   "id": "ac3d5be0-b8d5-4ff4-a66c-e51ccada8d1a",
   "metadata": {},
   "source": [
    "## groupby\n",
    "* 같은 값을 하나로 묶어 통계 또는 집계 결과를 얻기 위해 사용하는 것"
   ]
  },
  {
   "cell_type": "code",
   "execution_count": 123,
   "id": "f955b9a3-d565-4d66-8158-38664c0f8756",
   "metadata": {},
   "outputs": [],
   "source": [
    "df = pd.DataFrame(\n",
    "    {\n",
    "        \"A\": [\"foo\", \"bar\", \"foo\", \"bar\", \"foo\", \"bar\", \"foo\", \"foo\"],\n",
    "        \"B\": [\"one\", \"one\", \"two\", \"three\", \"two\", \"two\", \"one\", \"three\"],\n",
    "        \"C\": np.random.randn(8),\n",
    "        \"D\": np.random.randn(8),\n",
    "    }\n",
    ")"
   ]
  },
  {
   "cell_type": "code",
   "execution_count": 124,
   "id": "a53f65fa-91a4-49f4-8682-7ceeb096d172",
   "metadata": {},
   "outputs": [
    {
     "data": {
      "text/html": [
       "<div>\n",
       "<style scoped>\n",
       "    .dataframe tbody tr th:only-of-type {\n",
       "        vertical-align: middle;\n",
       "    }\n",
       "\n",
       "    .dataframe tbody tr th {\n",
       "        vertical-align: top;\n",
       "    }\n",
       "\n",
       "    .dataframe thead th {\n",
       "        text-align: right;\n",
       "    }\n",
       "</style>\n",
       "<table border=\"1\" class=\"dataframe\">\n",
       "  <thead>\n",
       "    <tr style=\"text-align: right;\">\n",
       "      <th></th>\n",
       "      <th>A</th>\n",
       "      <th>B</th>\n",
       "      <th>C</th>\n",
       "      <th>D</th>\n",
       "    </tr>\n",
       "  </thead>\n",
       "  <tbody>\n",
       "    <tr>\n",
       "      <th>0</th>\n",
       "      <td>foo</td>\n",
       "      <td>one</td>\n",
       "      <td>0.094935</td>\n",
       "      <td>-2.264214</td>\n",
       "    </tr>\n",
       "    <tr>\n",
       "      <th>1</th>\n",
       "      <td>bar</td>\n",
       "      <td>one</td>\n",
       "      <td>0.553080</td>\n",
       "      <td>0.657981</td>\n",
       "    </tr>\n",
       "    <tr>\n",
       "      <th>2</th>\n",
       "      <td>foo</td>\n",
       "      <td>two</td>\n",
       "      <td>0.344477</td>\n",
       "      <td>0.112213</td>\n",
       "    </tr>\n",
       "    <tr>\n",
       "      <th>3</th>\n",
       "      <td>bar</td>\n",
       "      <td>three</td>\n",
       "      <td>-1.663113</td>\n",
       "      <td>-2.210008</td>\n",
       "    </tr>\n",
       "    <tr>\n",
       "      <th>4</th>\n",
       "      <td>foo</td>\n",
       "      <td>two</td>\n",
       "      <td>-0.007223</td>\n",
       "      <td>0.916471</td>\n",
       "    </tr>\n",
       "    <tr>\n",
       "      <th>5</th>\n",
       "      <td>bar</td>\n",
       "      <td>two</td>\n",
       "      <td>2.841684</td>\n",
       "      <td>0.230081</td>\n",
       "    </tr>\n",
       "    <tr>\n",
       "      <th>6</th>\n",
       "      <td>foo</td>\n",
       "      <td>one</td>\n",
       "      <td>-0.077956</td>\n",
       "      <td>0.026132</td>\n",
       "    </tr>\n",
       "    <tr>\n",
       "      <th>7</th>\n",
       "      <td>foo</td>\n",
       "      <td>three</td>\n",
       "      <td>-1.213544</td>\n",
       "      <td>-0.338063</td>\n",
       "    </tr>\n",
       "  </tbody>\n",
       "</table>\n",
       "</div>"
      ],
      "text/plain": [
       "     A      B         C         D\n",
       "0  foo    one  0.094935 -2.264214\n",
       "1  bar    one  0.553080  0.657981\n",
       "2  foo    two  0.344477  0.112213\n",
       "3  bar  three -1.663113 -2.210008\n",
       "4  foo    two -0.007223  0.916471\n",
       "5  bar    two  2.841684  0.230081\n",
       "6  foo    one -0.077956  0.026132\n",
       "7  foo  three -1.213544 -0.338063"
      ]
     },
     "execution_count": 124,
     "metadata": {},
     "output_type": "execute_result"
    }
   ],
   "source": [
    "df"
   ]
  },
  {
   "cell_type": "code",
   "execution_count": 125,
   "id": "63ebc7ba-0c14-47c9-9643-d40a22d15b79",
   "metadata": {},
   "outputs": [
    {
     "data": {
      "text/plain": [
       "A        foobarfoobarfoobarfoofoo\n",
       "B    oneonetwothreetwotwoonethree\n",
       "C                         0.87234\n",
       "D                       -2.869407\n",
       "dtype: object"
      ]
     },
     "execution_count": 125,
     "metadata": {},
     "output_type": "execute_result"
    }
   ],
   "source": [
    "df.sum()"
   ]
  },
  {
   "cell_type": "code",
   "execution_count": 126,
   "id": "7cf31a63-434d-4ceb-9f7f-e80971bd4bc5",
   "metadata": {},
   "outputs": [
    {
     "data": {
      "text/plain": [
       "<pandas.core.groupby.generic.DataFrameGroupBy object at 0x000000F23A4AD580>"
      ]
     },
     "execution_count": 126,
     "metadata": {},
     "output_type": "execute_result"
    }
   ],
   "source": [
    "df.groupby(\"A\")"
   ]
  },
  {
   "cell_type": "code",
   "execution_count": 127,
   "id": "06effe8d-0ceb-411a-a5c1-e2e2ed8c1d9c",
   "metadata": {},
   "outputs": [
    {
     "data": {
      "text/html": [
       "<div>\n",
       "<style scoped>\n",
       "    .dataframe tbody tr th:only-of-type {\n",
       "        vertical-align: middle;\n",
       "    }\n",
       "\n",
       "    .dataframe tbody tr th {\n",
       "        vertical-align: top;\n",
       "    }\n",
       "\n",
       "    .dataframe thead th {\n",
       "        text-align: right;\n",
       "    }\n",
       "</style>\n",
       "<table border=\"1\" class=\"dataframe\">\n",
       "  <thead>\n",
       "    <tr style=\"text-align: right;\">\n",
       "      <th></th>\n",
       "      <th>C</th>\n",
       "      <th>D</th>\n",
       "    </tr>\n",
       "    <tr>\n",
       "      <th>A</th>\n",
       "      <th></th>\n",
       "      <th></th>\n",
       "    </tr>\n",
       "  </thead>\n",
       "  <tbody>\n",
       "    <tr>\n",
       "      <th>bar</th>\n",
       "      <td>1.731651</td>\n",
       "      <td>-1.321947</td>\n",
       "    </tr>\n",
       "    <tr>\n",
       "      <th>foo</th>\n",
       "      <td>-0.859311</td>\n",
       "      <td>-1.547460</td>\n",
       "    </tr>\n",
       "  </tbody>\n",
       "</table>\n",
       "</div>"
      ],
      "text/plain": [
       "            C         D\n",
       "A                      \n",
       "bar  1.731651 -1.321947\n",
       "foo -0.859311 -1.547460"
      ]
     },
     "execution_count": 127,
     "metadata": {},
     "output_type": "execute_result"
    }
   ],
   "source": [
    "df.groupby(\"A\").sum()"
   ]
  },
  {
   "cell_type": "code",
   "execution_count": 128,
   "id": "f8b6eb6b-e84a-4245-b600-66eaa2fa6b35",
   "metadata": {},
   "outputs": [],
   "source": [
    "test = df.groupby([\"A\",\"B\"]).sum()"
   ]
  },
  {
   "cell_type": "code",
   "execution_count": 129,
   "id": "af9339db-1f53-4dea-9cde-184dc80fd966",
   "metadata": {},
   "outputs": [
    {
     "data": {
      "text/html": [
       "<div>\n",
       "<style scoped>\n",
       "    .dataframe tbody tr th:only-of-type {\n",
       "        vertical-align: middle;\n",
       "    }\n",
       "\n",
       "    .dataframe tbody tr th {\n",
       "        vertical-align: top;\n",
       "    }\n",
       "\n",
       "    .dataframe thead th {\n",
       "        text-align: right;\n",
       "    }\n",
       "</style>\n",
       "<table border=\"1\" class=\"dataframe\">\n",
       "  <thead>\n",
       "    <tr style=\"text-align: right;\">\n",
       "      <th></th>\n",
       "      <th></th>\n",
       "      <th>C</th>\n",
       "      <th>D</th>\n",
       "    </tr>\n",
       "    <tr>\n",
       "      <th>A</th>\n",
       "      <th>B</th>\n",
       "      <th></th>\n",
       "      <th></th>\n",
       "    </tr>\n",
       "  </thead>\n",
       "  <tbody>\n",
       "    <tr>\n",
       "      <th rowspan=\"3\" valign=\"top\">bar</th>\n",
       "      <th>one</th>\n",
       "      <td>0.553080</td>\n",
       "      <td>0.657981</td>\n",
       "    </tr>\n",
       "    <tr>\n",
       "      <th>three</th>\n",
       "      <td>-1.663113</td>\n",
       "      <td>-2.210008</td>\n",
       "    </tr>\n",
       "    <tr>\n",
       "      <th>two</th>\n",
       "      <td>2.841684</td>\n",
       "      <td>0.230081</td>\n",
       "    </tr>\n",
       "    <tr>\n",
       "      <th rowspan=\"3\" valign=\"top\">foo</th>\n",
       "      <th>one</th>\n",
       "      <td>0.016979</td>\n",
       "      <td>-2.238081</td>\n",
       "    </tr>\n",
       "    <tr>\n",
       "      <th>three</th>\n",
       "      <td>-1.213544</td>\n",
       "      <td>-0.338063</td>\n",
       "    </tr>\n",
       "    <tr>\n",
       "      <th>two</th>\n",
       "      <td>0.337254</td>\n",
       "      <td>1.028684</td>\n",
       "    </tr>\n",
       "  </tbody>\n",
       "</table>\n",
       "</div>"
      ],
      "text/plain": [
       "                  C         D\n",
       "A   B                        \n",
       "bar one    0.553080  0.657981\n",
       "    three -1.663113 -2.210008\n",
       "    two    2.841684  0.230081\n",
       "foo one    0.016979 -2.238081\n",
       "    three -1.213544 -0.338063\n",
       "    two    0.337254  1.028684"
      ]
     },
     "execution_count": 129,
     "metadata": {},
     "output_type": "execute_result"
    }
   ],
   "source": [
    "test"
   ]
  },
  {
   "cell_type": "markdown",
   "id": "2b7ebf87-cf5e-46d1-a787-f252b6564b6b",
   "metadata": {},
   "source": [
    "## stack\n",
    "* 열을 피벗하여 하위 인덱스로 변환"
   ]
  },
  {
   "cell_type": "code",
   "execution_count": 130,
   "id": "8f9f0f0d-2ee3-4900-b071-2fa6e4cb38ac",
   "metadata": {},
   "outputs": [
    {
     "data": {
      "text/html": [
       "<div>\n",
       "<style scoped>\n",
       "    .dataframe tbody tr th:only-of-type {\n",
       "        vertical-align: middle;\n",
       "    }\n",
       "\n",
       "    .dataframe tbody tr th {\n",
       "        vertical-align: top;\n",
       "    }\n",
       "\n",
       "    .dataframe thead th {\n",
       "        text-align: right;\n",
       "    }\n",
       "</style>\n",
       "<table border=\"1\" class=\"dataframe\">\n",
       "  <thead>\n",
       "    <tr style=\"text-align: right;\">\n",
       "      <th></th>\n",
       "      <th>A</th>\n",
       "      <th>B</th>\n",
       "      <th>C</th>\n",
       "      <th>D</th>\n",
       "    </tr>\n",
       "  </thead>\n",
       "  <tbody>\n",
       "    <tr>\n",
       "      <th>0</th>\n",
       "      <td>foo</td>\n",
       "      <td>one</td>\n",
       "      <td>0.094935</td>\n",
       "      <td>-2.264214</td>\n",
       "    </tr>\n",
       "    <tr>\n",
       "      <th>1</th>\n",
       "      <td>bar</td>\n",
       "      <td>one</td>\n",
       "      <td>0.553080</td>\n",
       "      <td>0.657981</td>\n",
       "    </tr>\n",
       "    <tr>\n",
       "      <th>2</th>\n",
       "      <td>foo</td>\n",
       "      <td>two</td>\n",
       "      <td>0.344477</td>\n",
       "      <td>0.112213</td>\n",
       "    </tr>\n",
       "    <tr>\n",
       "      <th>3</th>\n",
       "      <td>bar</td>\n",
       "      <td>three</td>\n",
       "      <td>-1.663113</td>\n",
       "      <td>-2.210008</td>\n",
       "    </tr>\n",
       "    <tr>\n",
       "      <th>4</th>\n",
       "      <td>foo</td>\n",
       "      <td>two</td>\n",
       "      <td>-0.007223</td>\n",
       "      <td>0.916471</td>\n",
       "    </tr>\n",
       "    <tr>\n",
       "      <th>5</th>\n",
       "      <td>bar</td>\n",
       "      <td>two</td>\n",
       "      <td>2.841684</td>\n",
       "      <td>0.230081</td>\n",
       "    </tr>\n",
       "    <tr>\n",
       "      <th>6</th>\n",
       "      <td>foo</td>\n",
       "      <td>one</td>\n",
       "      <td>-0.077956</td>\n",
       "      <td>0.026132</td>\n",
       "    </tr>\n",
       "    <tr>\n",
       "      <th>7</th>\n",
       "      <td>foo</td>\n",
       "      <td>three</td>\n",
       "      <td>-1.213544</td>\n",
       "      <td>-0.338063</td>\n",
       "    </tr>\n",
       "  </tbody>\n",
       "</table>\n",
       "</div>"
      ],
      "text/plain": [
       "     A      B         C         D\n",
       "0  foo    one  0.094935 -2.264214\n",
       "1  bar    one  0.553080  0.657981\n",
       "2  foo    two  0.344477  0.112213\n",
       "3  bar  three -1.663113 -2.210008\n",
       "4  foo    two -0.007223  0.916471\n",
       "5  bar    two  2.841684  0.230081\n",
       "6  foo    one -0.077956  0.026132\n",
       "7  foo  three -1.213544 -0.338063"
      ]
     },
     "execution_count": 130,
     "metadata": {},
     "output_type": "execute_result"
    }
   ],
   "source": [
    "df"
   ]
  },
  {
   "cell_type": "code",
   "execution_count": 131,
   "id": "e7fd88b3-9378-40ae-aecb-9b9b25213a30",
   "metadata": {},
   "outputs": [
    {
     "data": {
      "text/html": [
       "<div>\n",
       "<style scoped>\n",
       "    .dataframe tbody tr th:only-of-type {\n",
       "        vertical-align: middle;\n",
       "    }\n",
       "\n",
       "    .dataframe tbody tr th {\n",
       "        vertical-align: top;\n",
       "    }\n",
       "\n",
       "    .dataframe thead th {\n",
       "        text-align: right;\n",
       "    }\n",
       "</style>\n",
       "<table border=\"1\" class=\"dataframe\">\n",
       "  <thead>\n",
       "    <tr style=\"text-align: right;\">\n",
       "      <th></th>\n",
       "      <th></th>\n",
       "      <th>C</th>\n",
       "      <th>D</th>\n",
       "    </tr>\n",
       "    <tr>\n",
       "      <th>A</th>\n",
       "      <th>B</th>\n",
       "      <th></th>\n",
       "      <th></th>\n",
       "    </tr>\n",
       "  </thead>\n",
       "  <tbody>\n",
       "    <tr>\n",
       "      <th rowspan=\"3\" valign=\"top\">bar</th>\n",
       "      <th>one</th>\n",
       "      <td>0.553080</td>\n",
       "      <td>0.657981</td>\n",
       "    </tr>\n",
       "    <tr>\n",
       "      <th>three</th>\n",
       "      <td>-1.663113</td>\n",
       "      <td>-2.210008</td>\n",
       "    </tr>\n",
       "    <tr>\n",
       "      <th>two</th>\n",
       "      <td>2.841684</td>\n",
       "      <td>0.230081</td>\n",
       "    </tr>\n",
       "    <tr>\n",
       "      <th rowspan=\"3\" valign=\"top\">foo</th>\n",
       "      <th>one</th>\n",
       "      <td>0.016979</td>\n",
       "      <td>-2.238081</td>\n",
       "    </tr>\n",
       "    <tr>\n",
       "      <th>three</th>\n",
       "      <td>-1.213544</td>\n",
       "      <td>-0.338063</td>\n",
       "    </tr>\n",
       "    <tr>\n",
       "      <th>two</th>\n",
       "      <td>0.337254</td>\n",
       "      <td>1.028684</td>\n",
       "    </tr>\n",
       "  </tbody>\n",
       "</table>\n",
       "</div>"
      ],
      "text/plain": [
       "                  C         D\n",
       "A   B                        \n",
       "bar one    0.553080  0.657981\n",
       "    three -1.663113 -2.210008\n",
       "    two    2.841684  0.230081\n",
       "foo one    0.016979 -2.238081\n",
       "    three -1.213544 -0.338063\n",
       "    two    0.337254  1.028684"
      ]
     },
     "execution_count": 131,
     "metadata": {},
     "output_type": "execute_result"
    }
   ],
   "source": [
    "test = df.groupby([\"A\",\"B\"]).sum()\n",
    "test"
   ]
  },
  {
   "cell_type": "code",
   "execution_count": 132,
   "id": "8cd94e3e-0acf-4418-87e4-c53515c50e9e",
   "metadata": {},
   "outputs": [
    {
     "data": {
      "text/plain": [
       "A    B       \n",
       "bar  one    C    0.553080\n",
       "            D    0.657981\n",
       "     three  C   -1.663113\n",
       "            D   -2.210008\n",
       "     two    C    2.841684\n",
       "            D    0.230081\n",
       "foo  one    C    0.016979\n",
       "            D   -2.238081\n",
       "     three  C   -1.213544\n",
       "            D   -0.338063\n",
       "     two    C    0.337254\n",
       "            D    1.028684\n",
       "dtype: float64"
      ]
     },
     "execution_count": 132,
     "metadata": {},
     "output_type": "execute_result"
    }
   ],
   "source": [
    "test.stack()"
   ]
  },
  {
   "cell_type": "markdown",
   "id": "06d0f0f2-3be2-4b80-a39b-6ed805581121",
   "metadata": {},
   "source": [
    "## unstack\n",
    "* 행을 언피벗하여 하위 열로 변환, stack과 반대"
   ]
  },
  {
   "cell_type": "code",
   "execution_count": 133,
   "id": "47e1f836-652b-4c09-a976-52616626b2c9",
   "metadata": {},
   "outputs": [
    {
     "data": {
      "text/html": [
       "<div>\n",
       "<style scoped>\n",
       "    .dataframe tbody tr th:only-of-type {\n",
       "        vertical-align: middle;\n",
       "    }\n",
       "\n",
       "    .dataframe tbody tr th {\n",
       "        vertical-align: top;\n",
       "    }\n",
       "\n",
       "    .dataframe thead th {\n",
       "        text-align: right;\n",
       "    }\n",
       "</style>\n",
       "<table border=\"1\" class=\"dataframe\">\n",
       "  <thead>\n",
       "    <tr style=\"text-align: right;\">\n",
       "      <th></th>\n",
       "      <th></th>\n",
       "      <th>C</th>\n",
       "      <th>D</th>\n",
       "    </tr>\n",
       "    <tr>\n",
       "      <th>A</th>\n",
       "      <th>B</th>\n",
       "      <th></th>\n",
       "      <th></th>\n",
       "    </tr>\n",
       "  </thead>\n",
       "  <tbody>\n",
       "    <tr>\n",
       "      <th rowspan=\"3\" valign=\"top\">bar</th>\n",
       "      <th>one</th>\n",
       "      <td>0.553080</td>\n",
       "      <td>0.657981</td>\n",
       "    </tr>\n",
       "    <tr>\n",
       "      <th>three</th>\n",
       "      <td>-1.663113</td>\n",
       "      <td>-2.210008</td>\n",
       "    </tr>\n",
       "    <tr>\n",
       "      <th>two</th>\n",
       "      <td>2.841684</td>\n",
       "      <td>0.230081</td>\n",
       "    </tr>\n",
       "    <tr>\n",
       "      <th rowspan=\"3\" valign=\"top\">foo</th>\n",
       "      <th>one</th>\n",
       "      <td>0.016979</td>\n",
       "      <td>-2.238081</td>\n",
       "    </tr>\n",
       "    <tr>\n",
       "      <th>three</th>\n",
       "      <td>-1.213544</td>\n",
       "      <td>-0.338063</td>\n",
       "    </tr>\n",
       "    <tr>\n",
       "      <th>two</th>\n",
       "      <td>0.337254</td>\n",
       "      <td>1.028684</td>\n",
       "    </tr>\n",
       "  </tbody>\n",
       "</table>\n",
       "</div>"
      ],
      "text/plain": [
       "                  C         D\n",
       "A   B                        \n",
       "bar one    0.553080  0.657981\n",
       "    three -1.663113 -2.210008\n",
       "    two    2.841684  0.230081\n",
       "foo one    0.016979 -2.238081\n",
       "    three -1.213544 -0.338063\n",
       "    two    0.337254  1.028684"
      ]
     },
     "execution_count": 133,
     "metadata": {},
     "output_type": "execute_result"
    }
   ],
   "source": [
    "test.stack().unstack()"
   ]
  },
  {
   "cell_type": "code",
   "execution_count": 134,
   "id": "a9b63d51-03f9-4e83-a6df-8dc4ac2c5c3b",
   "metadata": {},
   "outputs": [
    {
     "data": {
      "text/html": [
       "<div>\n",
       "<style scoped>\n",
       "    .dataframe tbody tr th:only-of-type {\n",
       "        vertical-align: middle;\n",
       "    }\n",
       "\n",
       "    .dataframe tbody tr th {\n",
       "        vertical-align: top;\n",
       "    }\n",
       "\n",
       "    .dataframe thead th {\n",
       "        text-align: right;\n",
       "    }\n",
       "</style>\n",
       "<table border=\"1\" class=\"dataframe\">\n",
       "  <thead>\n",
       "    <tr style=\"text-align: right;\">\n",
       "      <th></th>\n",
       "      <th></th>\n",
       "      <th>C</th>\n",
       "      <th>D</th>\n",
       "    </tr>\n",
       "    <tr>\n",
       "      <th>A</th>\n",
       "      <th>B</th>\n",
       "      <th></th>\n",
       "      <th></th>\n",
       "    </tr>\n",
       "  </thead>\n",
       "  <tbody>\n",
       "    <tr>\n",
       "      <th rowspan=\"3\" valign=\"top\">bar</th>\n",
       "      <th>one</th>\n",
       "      <td>0.553080</td>\n",
       "      <td>0.657981</td>\n",
       "    </tr>\n",
       "    <tr>\n",
       "      <th>three</th>\n",
       "      <td>-1.663113</td>\n",
       "      <td>-2.210008</td>\n",
       "    </tr>\n",
       "    <tr>\n",
       "      <th>two</th>\n",
       "      <td>2.841684</td>\n",
       "      <td>0.230081</td>\n",
       "    </tr>\n",
       "    <tr>\n",
       "      <th rowspan=\"3\" valign=\"top\">foo</th>\n",
       "      <th>one</th>\n",
       "      <td>0.016979</td>\n",
       "      <td>-2.238081</td>\n",
       "    </tr>\n",
       "    <tr>\n",
       "      <th>three</th>\n",
       "      <td>-1.213544</td>\n",
       "      <td>-0.338063</td>\n",
       "    </tr>\n",
       "    <tr>\n",
       "      <th>two</th>\n",
       "      <td>0.337254</td>\n",
       "      <td>1.028684</td>\n",
       "    </tr>\n",
       "  </tbody>\n",
       "</table>\n",
       "</div>"
      ],
      "text/plain": [
       "                  C         D\n",
       "A   B                        \n",
       "bar one    0.553080  0.657981\n",
       "    three -1.663113 -2.210008\n",
       "    two    2.841684  0.230081\n",
       "foo one    0.016979 -2.238081\n",
       "    three -1.213544 -0.338063\n",
       "    two    0.337254  1.028684"
      ]
     },
     "execution_count": 134,
     "metadata": {},
     "output_type": "execute_result"
    }
   ],
   "source": [
    "test1 = test.stack()\n",
    "test1.unstack()"
   ]
  },
  {
   "cell_type": "code",
   "execution_count": 135,
   "id": "e918c251-63cb-486a-9a79-4a90935e5a61",
   "metadata": {},
   "outputs": [
    {
     "data": {
      "text/html": [
       "<div>\n",
       "<style scoped>\n",
       "    .dataframe tbody tr th:only-of-type {\n",
       "        vertical-align: middle;\n",
       "    }\n",
       "\n",
       "    .dataframe tbody tr th {\n",
       "        vertical-align: top;\n",
       "    }\n",
       "\n",
       "    .dataframe thead th {\n",
       "        text-align: right;\n",
       "    }\n",
       "</style>\n",
       "<table border=\"1\" class=\"dataframe\">\n",
       "  <thead>\n",
       "    <tr style=\"text-align: right;\">\n",
       "      <th></th>\n",
       "      <th>A</th>\n",
       "      <th>bar</th>\n",
       "      <th>foo</th>\n",
       "    </tr>\n",
       "    <tr>\n",
       "      <th>B</th>\n",
       "      <th></th>\n",
       "      <th></th>\n",
       "      <th></th>\n",
       "    </tr>\n",
       "  </thead>\n",
       "  <tbody>\n",
       "    <tr>\n",
       "      <th rowspan=\"2\" valign=\"top\">one</th>\n",
       "      <th>C</th>\n",
       "      <td>0.553080</td>\n",
       "      <td>0.016979</td>\n",
       "    </tr>\n",
       "    <tr>\n",
       "      <th>D</th>\n",
       "      <td>0.657981</td>\n",
       "      <td>-2.238081</td>\n",
       "    </tr>\n",
       "    <tr>\n",
       "      <th rowspan=\"2\" valign=\"top\">three</th>\n",
       "      <th>C</th>\n",
       "      <td>-1.663113</td>\n",
       "      <td>-1.213544</td>\n",
       "    </tr>\n",
       "    <tr>\n",
       "      <th>D</th>\n",
       "      <td>-2.210008</td>\n",
       "      <td>-0.338063</td>\n",
       "    </tr>\n",
       "    <tr>\n",
       "      <th rowspan=\"2\" valign=\"top\">two</th>\n",
       "      <th>C</th>\n",
       "      <td>2.841684</td>\n",
       "      <td>0.337254</td>\n",
       "    </tr>\n",
       "    <tr>\n",
       "      <th>D</th>\n",
       "      <td>0.230081</td>\n",
       "      <td>1.028684</td>\n",
       "    </tr>\n",
       "  </tbody>\n",
       "</table>\n",
       "</div>"
      ],
      "text/plain": [
       "A             bar       foo\n",
       "B                          \n",
       "one   C  0.553080  0.016979\n",
       "      D  0.657981 -2.238081\n",
       "three C -1.663113 -1.213544\n",
       "      D -2.210008 -0.338063\n",
       "two   C  2.841684  0.337254\n",
       "      D  0.230081  1.028684"
      ]
     },
     "execution_count": 135,
     "metadata": {},
     "output_type": "execute_result"
    }
   ],
   "source": [
    "test1 = test.stack()\n",
    "test1.unstack(0)"
   ]
  },
  {
   "cell_type": "code",
   "execution_count": 136,
   "id": "2444feac-0717-4998-bc51-abd21a6e96cf",
   "metadata": {},
   "outputs": [
    {
     "data": {
      "text/html": [
       "<div>\n",
       "<style scoped>\n",
       "    .dataframe tbody tr th:only-of-type {\n",
       "        vertical-align: middle;\n",
       "    }\n",
       "\n",
       "    .dataframe tbody tr th {\n",
       "        vertical-align: top;\n",
       "    }\n",
       "\n",
       "    .dataframe thead th {\n",
       "        text-align: right;\n",
       "    }\n",
       "</style>\n",
       "<table border=\"1\" class=\"dataframe\">\n",
       "  <thead>\n",
       "    <tr style=\"text-align: right;\">\n",
       "      <th></th>\n",
       "      <th>B</th>\n",
       "      <th>one</th>\n",
       "      <th>three</th>\n",
       "      <th>two</th>\n",
       "    </tr>\n",
       "    <tr>\n",
       "      <th>A</th>\n",
       "      <th></th>\n",
       "      <th></th>\n",
       "      <th></th>\n",
       "      <th></th>\n",
       "    </tr>\n",
       "  </thead>\n",
       "  <tbody>\n",
       "    <tr>\n",
       "      <th rowspan=\"2\" valign=\"top\">bar</th>\n",
       "      <th>C</th>\n",
       "      <td>0.553080</td>\n",
       "      <td>-1.663113</td>\n",
       "      <td>2.841684</td>\n",
       "    </tr>\n",
       "    <tr>\n",
       "      <th>D</th>\n",
       "      <td>0.657981</td>\n",
       "      <td>-2.210008</td>\n",
       "      <td>0.230081</td>\n",
       "    </tr>\n",
       "    <tr>\n",
       "      <th rowspan=\"2\" valign=\"top\">foo</th>\n",
       "      <th>C</th>\n",
       "      <td>0.016979</td>\n",
       "      <td>-1.213544</td>\n",
       "      <td>0.337254</td>\n",
       "    </tr>\n",
       "    <tr>\n",
       "      <th>D</th>\n",
       "      <td>-2.238081</td>\n",
       "      <td>-0.338063</td>\n",
       "      <td>1.028684</td>\n",
       "    </tr>\n",
       "  </tbody>\n",
       "</table>\n",
       "</div>"
      ],
      "text/plain": [
       "B           one     three       two\n",
       "A                                  \n",
       "bar C  0.553080 -1.663113  2.841684\n",
       "    D  0.657981 -2.210008  0.230081\n",
       "foo C  0.016979 -1.213544  0.337254\n",
       "    D -2.238081 -0.338063  1.028684"
      ]
     },
     "execution_count": 136,
     "metadata": {},
     "output_type": "execute_result"
    }
   ],
   "source": [
    "test1.unstack(1)"
   ]
  },
  {
   "cell_type": "markdown",
   "id": "762604f3-3cd1-4c48-a87a-a151541ce12a",
   "metadata": {},
   "source": [
    "## pivot_table\n",
    "* 데이터를 스프레드시트 기반 피벗 테이블로 변환"
   ]
  },
  {
   "cell_type": "code",
   "execution_count": 138,
   "id": "35141121-7f96-4c8d-802b-ad51cbda33f9",
   "metadata": {},
   "outputs": [],
   "source": [
    "df = pd.DataFrame(\n",
    "    {\n",
    "        \"A\": [\"one\", \"one\", \"two\", \"three\"] * 3,\n",
    "        \"B\": [\"A\", \"B\", \"C\"] * 4,\n",
    "        \"C\": [\"foo\", \"foo\", \"foo\", \"bar\", \"bar\", \"bar\"] * 2,\n",
    "        \"D\": np.random.randn(12),\n",
    "        \"E\": np.random.randn(12),\n",
    "    }\n",
    ")"
   ]
  },
  {
   "cell_type": "code",
   "execution_count": 139,
   "id": "e01821a9-61b2-4ecd-b403-8d3e5e83ed49",
   "metadata": {},
   "outputs": [
    {
     "data": {
      "text/html": [
       "<div>\n",
       "<style scoped>\n",
       "    .dataframe tbody tr th:only-of-type {\n",
       "        vertical-align: middle;\n",
       "    }\n",
       "\n",
       "    .dataframe tbody tr th {\n",
       "        vertical-align: top;\n",
       "    }\n",
       "\n",
       "    .dataframe thead th {\n",
       "        text-align: right;\n",
       "    }\n",
       "</style>\n",
       "<table border=\"1\" class=\"dataframe\">\n",
       "  <thead>\n",
       "    <tr style=\"text-align: right;\">\n",
       "      <th></th>\n",
       "      <th>A</th>\n",
       "      <th>B</th>\n",
       "      <th>C</th>\n",
       "      <th>D</th>\n",
       "      <th>E</th>\n",
       "    </tr>\n",
       "  </thead>\n",
       "  <tbody>\n",
       "    <tr>\n",
       "      <th>0</th>\n",
       "      <td>one</td>\n",
       "      <td>A</td>\n",
       "      <td>foo</td>\n",
       "      <td>0.032511</td>\n",
       "      <td>0.193294</td>\n",
       "    </tr>\n",
       "    <tr>\n",
       "      <th>1</th>\n",
       "      <td>one</td>\n",
       "      <td>B</td>\n",
       "      <td>foo</td>\n",
       "      <td>-0.208809</td>\n",
       "      <td>2.299993</td>\n",
       "    </tr>\n",
       "    <tr>\n",
       "      <th>2</th>\n",
       "      <td>two</td>\n",
       "      <td>C</td>\n",
       "      <td>foo</td>\n",
       "      <td>-0.435826</td>\n",
       "      <td>0.847822</td>\n",
       "    </tr>\n",
       "    <tr>\n",
       "      <th>3</th>\n",
       "      <td>three</td>\n",
       "      <td>A</td>\n",
       "      <td>bar</td>\n",
       "      <td>-1.953169</td>\n",
       "      <td>0.999573</td>\n",
       "    </tr>\n",
       "    <tr>\n",
       "      <th>4</th>\n",
       "      <td>one</td>\n",
       "      <td>B</td>\n",
       "      <td>bar</td>\n",
       "      <td>-0.889053</td>\n",
       "      <td>-0.778017</td>\n",
       "    </tr>\n",
       "    <tr>\n",
       "      <th>5</th>\n",
       "      <td>one</td>\n",
       "      <td>C</td>\n",
       "      <td>bar</td>\n",
       "      <td>-0.740611</td>\n",
       "      <td>0.867806</td>\n",
       "    </tr>\n",
       "    <tr>\n",
       "      <th>6</th>\n",
       "      <td>two</td>\n",
       "      <td>A</td>\n",
       "      <td>foo</td>\n",
       "      <td>0.230200</td>\n",
       "      <td>0.186346</td>\n",
       "    </tr>\n",
       "    <tr>\n",
       "      <th>7</th>\n",
       "      <td>three</td>\n",
       "      <td>B</td>\n",
       "      <td>foo</td>\n",
       "      <td>-0.103308</td>\n",
       "      <td>0.168797</td>\n",
       "    </tr>\n",
       "    <tr>\n",
       "      <th>8</th>\n",
       "      <td>one</td>\n",
       "      <td>C</td>\n",
       "      <td>foo</td>\n",
       "      <td>0.095932</td>\n",
       "      <td>0.357910</td>\n",
       "    </tr>\n",
       "    <tr>\n",
       "      <th>9</th>\n",
       "      <td>one</td>\n",
       "      <td>A</td>\n",
       "      <td>bar</td>\n",
       "      <td>-0.409915</td>\n",
       "      <td>0.188003</td>\n",
       "    </tr>\n",
       "    <tr>\n",
       "      <th>10</th>\n",
       "      <td>two</td>\n",
       "      <td>B</td>\n",
       "      <td>bar</td>\n",
       "      <td>0.999096</td>\n",
       "      <td>-0.454582</td>\n",
       "    </tr>\n",
       "    <tr>\n",
       "      <th>11</th>\n",
       "      <td>three</td>\n",
       "      <td>C</td>\n",
       "      <td>bar</td>\n",
       "      <td>-0.724976</td>\n",
       "      <td>0.321597</td>\n",
       "    </tr>\n",
       "  </tbody>\n",
       "</table>\n",
       "</div>"
      ],
      "text/plain": [
       "        A  B    C         D         E\n",
       "0     one  A  foo  0.032511  0.193294\n",
       "1     one  B  foo -0.208809  2.299993\n",
       "2     two  C  foo -0.435826  0.847822\n",
       "3   three  A  bar -1.953169  0.999573\n",
       "4     one  B  bar -0.889053 -0.778017\n",
       "5     one  C  bar -0.740611  0.867806\n",
       "6     two  A  foo  0.230200  0.186346\n",
       "7   three  B  foo -0.103308  0.168797\n",
       "8     one  C  foo  0.095932  0.357910\n",
       "9     one  A  bar -0.409915  0.188003\n",
       "10    two  B  bar  0.999096 -0.454582\n",
       "11  three  C  bar -0.724976  0.321597"
      ]
     },
     "execution_count": 139,
     "metadata": {},
     "output_type": "execute_result"
    }
   ],
   "source": [
    "df"
   ]
  },
  {
   "cell_type": "code",
   "execution_count": 140,
   "id": "48fe0872-c94d-4aef-a069-60ab6a0f26c4",
   "metadata": {},
   "outputs": [],
   "source": [
    "test = pd.pivot_table(df,values=\"D\",index=[\"A\",\"B\"],columns=[\"C\"],aggfunc=\"sum\")"
   ]
  },
  {
   "cell_type": "code",
   "execution_count": 141,
   "id": "2f36f68a-3c1e-4fe4-8ffa-fbfdcb9527a6",
   "metadata": {},
   "outputs": [
    {
     "data": {
      "text/html": [
       "<div>\n",
       "<style scoped>\n",
       "    .dataframe tbody tr th:only-of-type {\n",
       "        vertical-align: middle;\n",
       "    }\n",
       "\n",
       "    .dataframe tbody tr th {\n",
       "        vertical-align: top;\n",
       "    }\n",
       "\n",
       "    .dataframe thead th {\n",
       "        text-align: right;\n",
       "    }\n",
       "</style>\n",
       "<table border=\"1\" class=\"dataframe\">\n",
       "  <thead>\n",
       "    <tr style=\"text-align: right;\">\n",
       "      <th></th>\n",
       "      <th>C</th>\n",
       "      <th>bar</th>\n",
       "      <th>foo</th>\n",
       "    </tr>\n",
       "    <tr>\n",
       "      <th>A</th>\n",
       "      <th>B</th>\n",
       "      <th></th>\n",
       "      <th></th>\n",
       "    </tr>\n",
       "  </thead>\n",
       "  <tbody>\n",
       "    <tr>\n",
       "      <th rowspan=\"3\" valign=\"top\">one</th>\n",
       "      <th>A</th>\n",
       "      <td>-0.409915</td>\n",
       "      <td>0.032511</td>\n",
       "    </tr>\n",
       "    <tr>\n",
       "      <th>B</th>\n",
       "      <td>-0.889053</td>\n",
       "      <td>-0.208809</td>\n",
       "    </tr>\n",
       "    <tr>\n",
       "      <th>C</th>\n",
       "      <td>-0.740611</td>\n",
       "      <td>0.095932</td>\n",
       "    </tr>\n",
       "    <tr>\n",
       "      <th rowspan=\"3\" valign=\"top\">three</th>\n",
       "      <th>A</th>\n",
       "      <td>-1.953169</td>\n",
       "      <td>NaN</td>\n",
       "    </tr>\n",
       "    <tr>\n",
       "      <th>B</th>\n",
       "      <td>NaN</td>\n",
       "      <td>-0.103308</td>\n",
       "    </tr>\n",
       "    <tr>\n",
       "      <th>C</th>\n",
       "      <td>-0.724976</td>\n",
       "      <td>NaN</td>\n",
       "    </tr>\n",
       "    <tr>\n",
       "      <th rowspan=\"3\" valign=\"top\">two</th>\n",
       "      <th>A</th>\n",
       "      <td>NaN</td>\n",
       "      <td>0.230200</td>\n",
       "    </tr>\n",
       "    <tr>\n",
       "      <th>B</th>\n",
       "      <td>0.999096</td>\n",
       "      <td>NaN</td>\n",
       "    </tr>\n",
       "    <tr>\n",
       "      <th>C</th>\n",
       "      <td>NaN</td>\n",
       "      <td>-0.435826</td>\n",
       "    </tr>\n",
       "  </tbody>\n",
       "</table>\n",
       "</div>"
      ],
      "text/plain": [
       "C             bar       foo\n",
       "A     B                    \n",
       "one   A -0.409915  0.032511\n",
       "      B -0.889053 -0.208809\n",
       "      C -0.740611  0.095932\n",
       "three A -1.953169       NaN\n",
       "      B       NaN -0.103308\n",
       "      C -0.724976       NaN\n",
       "two   A       NaN  0.230200\n",
       "      B  0.999096       NaN\n",
       "      C       NaN -0.435826"
      ]
     },
     "execution_count": 141,
     "metadata": {},
     "output_type": "execute_result"
    }
   ],
   "source": [
    "test"
   ]
  },
  {
   "cell_type": "code",
   "execution_count": null,
   "id": "4770eae4-d65d-4d25-8b96-942e4abd49fe",
   "metadata": {},
   "outputs": [],
   "source": []
  }
 ],
 "metadata": {
  "kernelspec": {
   "display_name": "Python 3 (ipykernel)",
   "language": "python",
   "name": "python3"
  },
  "language_info": {
   "codemirror_mode": {
    "name": "ipython",
    "version": 3
   },
   "file_extension": ".py",
   "mimetype": "text/x-python",
   "name": "python",
   "nbconvert_exporter": "python",
   "pygments_lexer": "ipython3",
   "version": "3.9.12"
  }
 },
 "nbformat": 4,
 "nbformat_minor": 5
}
